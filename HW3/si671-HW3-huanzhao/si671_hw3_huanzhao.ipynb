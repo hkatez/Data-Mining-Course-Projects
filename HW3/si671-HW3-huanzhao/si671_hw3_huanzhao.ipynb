{
 "cells": [
  {
   "cell_type": "markdown",
   "metadata": {},
   "source": [
    "# Part 1"
   ]
  },
  {
   "cell_type": "code",
   "execution_count": 1,
   "metadata": {
    "ExecuteTime": {
     "end_time": "2019-11-21T14:54:06.587257Z",
     "start_time": "2019-11-21T14:54:01.700697Z"
    }
   },
   "outputs": [],
   "source": [
    "import sklearn\n",
    "import numpy as np\n",
    "import seaborn as sns\n",
    "import networkx as nx\n",
    "import matplotlib.pyplot as plt"
   ]
  },
  {
   "cell_type": "markdown",
   "metadata": {},
   "source": [
    "**Load csv file data to numpy, the headers will be stored in row_headers**"
   ]
  },
  {
   "cell_type": "code",
   "execution_count": 2,
   "metadata": {
    "ExecuteTime": {
     "end_time": "2019-11-21T14:54:06.702749Z",
     "start_time": "2019-11-21T14:54:06.589679Z"
    }
   },
   "outputs": [],
   "source": [
    "network = np.loadtxt('./amazonNetwork.csv', delimiter=',', dtype=np.str)\n",
    "row_headers = network[0, :]\n",
    "network = network[1:, :]\n",
    "network = np.array(network, dtype=np.int)"
   ]
  },
  {
   "cell_type": "markdown",
   "metadata": {},
   "source": [
    "**Load network data to directed graph `G_amazon`**"
   ]
  },
  {
   "cell_type": "code",
   "execution_count": 3,
   "metadata": {
    "ExecuteTime": {
     "end_time": "2019-11-21T14:54:06.735648Z",
     "start_time": "2019-11-21T14:54:06.705063Z"
    }
   },
   "outputs": [],
   "source": [
    "G_amazon = nx.DiGraph()\n",
    "for edge in network:\n",
    "    G_amazon.add_edge(edge[0], edge[1])"
   ]
  },
  {
   "cell_type": "markdown",
   "metadata": {},
   "source": [
    "**Nodes in Graph means the items.**\n",
    "\n",
    "**Directed edges in Graph means the start node A is co-purchased with the end node B.**\n",
    "\n",
    "**So there are *2647* items in the network and *10841* co-purchases happened.**"
   ]
  },
  {
   "cell_type": "code",
   "execution_count": 4,
   "metadata": {
    "ExecuteTime": {
     "end_time": "2019-11-21T14:54:06.747142Z",
     "start_time": "2019-11-21T14:54:06.738235Z"
    }
   },
   "outputs": [
    {
     "name": "stdout",
     "output_type": "stream",
     "text": [
      "Name: \n",
      "Type: DiGraph\n",
      "Number of nodes: 2647\n",
      "Number of edges: 10841\n",
      "Average in degree:   4.0956\n",
      "Average out degree:   4.0956\n"
     ]
    }
   ],
   "source": [
    "print(nx.info(G_amazon))"
   ]
  },
  {
   "cell_type": "markdown",
   "metadata": {},
   "source": [
    "**Compute the average shortest distance**\n",
    "1. compute the shortest distance to other nodes for each node\n",
    "2. compute the average"
   ]
  },
  {
   "cell_type": "code",
   "execution_count": 5,
   "metadata": {
    "ExecuteTime": {
     "end_time": "2019-11-21T14:54:45.022747Z",
     "start_time": "2019-11-21T14:54:06.749137Z"
    }
   },
   "outputs": [
    {
     "name": "stdout",
     "output_type": "stream",
     "text": [
      "The average shortest distance is 11.9934\n"
     ]
    }
   ],
   "source": [
    "shortest_distance = []\n",
    "for v in G_amazon.nodes():\n",
    "    spl = nx.single_source_shortest_path_length(G_amazon,v)\n",
    "    for p in spl.values():\n",
    "        shortest_distance.append(p)\n",
    "average_shortest_distance = sum(shortest_distance) / len(shortest_distance)\n",
    "print('The average shortest distance is {:.4f}'.format(average_shortest_distance))"
   ]
  },
  {
   "cell_type": "code",
   "execution_count": 6,
   "metadata": {
    "ExecuteTime": {
     "end_time": "2019-11-21T14:54:58.064970Z",
     "start_time": "2019-11-21T14:54:45.024743Z"
    }
   },
   "outputs": [
    {
     "data": {
      "text/plain": [
       "<matplotlib.axes._subplots.AxesSubplot at 0x1b3700f5748>"
      ]
     },
     "execution_count": 6,
     "metadata": {},
     "output_type": "execute_result"
    },
    {
     "data": {
      "image/png": "[encoded data removed]",
      "text/plain": [
       "<Figure size 432x288 with 1 Axes>"
      ]
     },
     "metadata": {
      "needs_background": "light"
     },
     "output_type": "display_data"
    }
   ],
   "source": [
    "sns.countplot(shortest_distance)"
   ]
  },
  {
   "cell_type": "markdown",
   "metadata": {},
   "source": [
    "**Compute the transitivity and average clustering coefficient of the network graph**"
   ]
  },
  {
   "cell_type": "code",
   "execution_count": 7,
   "metadata": {
    "ExecuteTime": {
     "end_time": "2019-11-21T14:54:58.411050Z",
     "start_time": "2019-11-21T14:54:58.065968Z"
    }
   },
   "outputs": [
    {
     "name": "stdout",
     "output_type": "stream",
     "text": [
      "The transitivity of the network graph is 0.4339\n",
      "The average clustering coefficient of the network graph is 0.4086\n"
     ]
    }
   ],
   "source": [
    "transitivity = nx.transitivity(G_amazon)\n",
    "print('The transitivity of the network graph is {:.4f}'.format(transitivity))\n",
    "average_clustering_coefficient = nx.average_clustering(G_amazon)\n",
    "print('The average clustering coefficient of the network graph is {:.4f}'.format(average_clustering_coefficient))"
   ]
  },
  {
   "cell_type": "markdown",
   "metadata": {},
   "source": [
    "**Compute the pagerank and find 10 nodes with the highest pagerank**"
   ]
  },
  {
   "cell_type": "code",
   "execution_count": 8,
   "metadata": {
    "ExecuteTime": {
     "end_time": "2019-11-21T14:54:58.702329Z",
     "start_time": "2019-11-21T14:54:58.412951Z"
    }
   },
   "outputs": [
    {
     "name": "stdout",
     "output_type": "stream",
     "text": [
      "The top 10 item with the highest pagerank is [8, 481, 33, 18, 23, 30, 346, 99, 93, 21]\n"
     ]
    }
   ],
   "source": [
    "pagerank = nx.pagerank(G_amazon,alpha=0.5)\n",
    "pagerank_sorted = sorted(pagerank.items(), key=lambda x: x[1], reverse=True)\n",
    "highest_10 =  [i[0] for i in pagerank_sorted[:10]]\n",
    "print('The top 10 item with the highest pagerank is {}'.format(highest_10))"
   ]
  },
  {
   "cell_type": "markdown",
   "metadata": {},
   "source": [
    "---\n",
    "\n",
    "# Part 2"
   ]
  },
  {
   "cell_type": "code",
   "execution_count": 9,
   "metadata": {
    "ExecuteTime": {
     "end_time": "2019-11-21T14:55:01.928246Z",
     "start_time": "2019-11-21T14:54:58.704292Z"
    }
   },
   "outputs": [],
   "source": [
    "import pandas as pd\n",
    "from sklearn.model_selection import train_test_split\n",
    "from sklearn.linear_model import LogisticRegression\n",
    "from sklearn.preprocessing import StandardScaler, OneHotEncoder, LabelEncoder\n",
    "import matplotlib.pyplot as plt"
   ]
  },
  {
   "cell_type": "markdown",
   "metadata": {},
   "source": [
    "**Create features for each node in graph**"
   ]
  },
  {
   "cell_type": "code",
   "execution_count": 10,
   "metadata": {
    "ExecuteTime": {
     "end_time": "2019-11-21T14:55:02.127542Z",
     "start_time": "2019-11-21T14:55:01.930240Z"
    }
   },
   "outputs": [],
   "source": [
    "# clustering coefficient feature\n",
    "# For unweighted graphs, the clustering coefficient of a node u is the fraction of possible triangles through that node that exist.\n",
    "clustering_coefficient = nx.clustering(G_amazon)"
   ]
  },
  {
   "cell_type": "code",
   "execution_count": 11,
   "metadata": {
    "ExecuteTime": {
     "end_time": "2019-11-21T14:55:02.443814Z",
     "start_time": "2019-11-21T14:55:02.128901Z"
    }
   },
   "outputs": [],
   "source": [
    "# pagerank feature\n",
    "# PageRank computes a ranking of the nodes in the graph G based on the structure of the incoming links. \n",
    "pagerank = nx.pagerank(G_amazon, alpha=0.5)"
   ]
  },
  {
   "cell_type": "code",
   "execution_count": 12,
   "metadata": {
    "ExecuteTime": {
     "end_time": "2019-11-21T14:55:02.451842Z",
     "start_time": "2019-11-21T14:55:02.445703Z"
    }
   },
   "outputs": [],
   "source": [
    "# Degree centrality feature\n",
    "# The degree centrality for a node v is the fraction of nodes it is connected to.\n",
    "degree_centrality = nx.degree_centrality(G_amazon)"
   ]
  },
  {
   "cell_type": "code",
   "execution_count": 13,
   "metadata": {
    "ExecuteTime": {
     "end_time": "2019-11-21T14:55:39.794541Z",
     "start_time": "2019-11-21T14:55:02.454246Z"
    }
   },
   "outputs": [],
   "source": [
    "# Closeness centrality feature\n",
    "# Closeness centrality of a node u is the reciprocal of the average shortest path distance to u over all n-1 reachable nodes.\n",
    "closeness_centrality = nx.closeness_centrality(G_amazon)"
   ]
  },
  {
   "cell_type": "code",
   "execution_count": 14,
   "metadata": {
    "ExecuteTime": {
     "end_time": "2019-11-21T14:56:30.689042Z",
     "start_time": "2019-11-21T14:55:39.795539Z"
    }
   },
   "outputs": [],
   "source": [
    "# Betweenness centrality feature\n",
    "# Betweenness centrality of a node v is the sum of the fraction of all-pairs shortest paths that pass through v\n",
    "betweenness_centrality = nx.betweenness_centrality(G_amazon)"
   ]
  },
  {
   "cell_type": "code",
   "execution_count": 15,
   "metadata": {
    "ExecuteTime": {
     "end_time": "2019-11-21T14:56:30.698109Z",
     "start_time": "2019-11-21T14:56:30.690073Z"
    }
   },
   "outputs": [],
   "source": [
    "# Degree of the node feature\n",
    "degree = G_amazon.degree()\n",
    "# out_degree\n",
    "out_degree = G_amazon.out_degree()\n",
    "# in_degree\n",
    "in_degree = G_amazon.in_degree()"
   ]
  },
  {
   "cell_type": "markdown",
   "metadata": {},
   "source": [
    "**Load train and test data**"
   ]
  },
  {
   "cell_type": "code",
   "execution_count": 16,
   "metadata": {
    "ExecuteTime": {
     "end_time": "2019-11-21T14:56:30.735909Z",
     "start_time": "2019-11-21T14:56:30.700104Z"
    }
   },
   "outputs": [],
   "source": [
    "train_df = pd.read_csv('./reviewTrain.csv')\n",
    "test_df = pd.read_csv('./reviewTest.csv')"
   ]
  },
  {
   "cell_type": "markdown",
   "metadata": {},
   "source": [
    "**Display the dataframe**"
   ]
  },
  {
   "cell_type": "code",
   "execution_count": 17,
   "metadata": {
    "ExecuteTime": {
     "end_time": "2019-11-21T14:56:30.754956Z",
     "start_time": "2019-11-21T14:56:30.737575Z"
    }
   },
   "outputs": [
    {
     "data": {
      "text/html": [
       "<div>\n",
       "<style scoped>\n",
       "    .dataframe tbody tr th:only-of-type {\n",
       "        vertical-align: middle;\n",
       "    }\n",
       "\n",
       "    .dataframe tbody tr th {\n",
       "        vertical-align: top;\n",
       "    }\n",
       "\n",
       "    .dataframe thead th {\n",
       "        text-align: right;\n",
       "    }\n",
       "</style>\n",
       "<table border=\"1\" class=\"dataframe\">\n",
       "  <thead>\n",
       "    <tr style=\"text-align: right;\">\n",
       "      <th></th>\n",
       "      <th>id</th>\n",
       "      <th>title</th>\n",
       "      <th>group</th>\n",
       "      <th>review</th>\n",
       "    </tr>\n",
       "  </thead>\n",
       "  <tbody>\n",
       "    <tr>\n",
       "      <th>0</th>\n",
       "      <td>3</td>\n",
       "      <td>World War II Allied Fighter Planes Trading Cards</td>\n",
       "      <td>Book</td>\n",
       "      <td>5.0</td>\n",
       "    </tr>\n",
       "    <tr>\n",
       "      <th>1</th>\n",
       "      <td>5</td>\n",
       "      <td>Prayers That Avail Much for Business: Executive</td>\n",
       "      <td>Book</td>\n",
       "      <td>0.0</td>\n",
       "    </tr>\n",
       "    <tr>\n",
       "      <th>2</th>\n",
       "      <td>7</td>\n",
       "      <td>Batik</td>\n",
       "      <td>Music</td>\n",
       "      <td>4.5</td>\n",
       "    </tr>\n",
       "    <tr>\n",
       "      <th>3</th>\n",
       "      <td>10</td>\n",
       "      <td>The Edward Said Reader</td>\n",
       "      <td>Book</td>\n",
       "      <td>4.0</td>\n",
       "    </tr>\n",
       "    <tr>\n",
       "      <th>4</th>\n",
       "      <td>11</td>\n",
       "      <td>Resetting the Clock : Five Anti-Aging Hormone...</td>\n",
       "      <td>Book</td>\n",
       "      <td>5.0</td>\n",
       "    </tr>\n",
       "  </tbody>\n",
       "</table>\n",
       "</div>"
      ],
      "text/plain": [
       "   id                                              title   group  review\n",
       "0   3   World War II Allied Fighter Planes Trading Cards    Book     5.0\n",
       "1   5    Prayers That Avail Much for Business: Executive    Book     0.0\n",
       "2   7                                              Batik   Music     4.5\n",
       "3  10                             The Edward Said Reader    Book     4.0\n",
       "4  11   Resetting the Clock : Five Anti-Aging Hormone...    Book     5.0"
      ]
     },
     "execution_count": 17,
     "metadata": {},
     "output_type": "execute_result"
    }
   ],
   "source": [
    "train_df.head()"
   ]
  },
  {
   "cell_type": "markdown",
   "metadata": {},
   "source": [
    "**Get features**"
   ]
  },
  {
   "cell_type": "code",
   "execution_count": 18,
   "metadata": {
    "ExecuteTime": {
     "end_time": "2019-11-21T14:56:30.804892Z",
     "start_time": "2019-11-21T14:56:30.756932Z"
    }
   },
   "outputs": [],
   "source": [
    "def get_feature(dic, x):\n",
    "    try:\n",
    "        return dic[x]\n",
    "    except:\n",
    "        return np.nan\n",
    "train_df['clustering_coefficient'] = train_df['id'].apply(lambda x: get_feature(clustering_coefficient, x))\n",
    "train_df['pagerank'] = train_df['id'].apply(lambda x: get_feature(pagerank, x))\n",
    "train_df['degree_centrality'] = train_df['id'].apply(lambda x: get_feature(degree_centrality, x))\n",
    "train_df['closeness_centrality'] = train_df['id'].apply(lambda x: get_feature(closeness_centrality, x))\n",
    "train_df['betweenness_centrality'] = train_df['id'].apply(lambda x: get_feature(betweenness_centrality, x))\n",
    "train_df['degree'] = train_df['id'].apply(lambda x: get_feature(degree, x))\n",
    "test_df['clustering_coefficient'] = test_df['id'].apply(lambda x: get_feature(clustering_coefficient, x))\n",
    "test_df['pagerank'] = test_df['id'].apply(lambda x: get_feature(pagerank, x))\n",
    "test_df['degree_centrality'] = test_df['id'].apply(lambda x: get_feature(degree_centrality, x))\n",
    "test_df['closeness_centrality'] = test_df['id'].apply(lambda x: get_feature(closeness_centrality, x))\n",
    "test_df['betweenness_centrality'] = test_df['id'].apply(lambda x: get_feature(betweenness_centrality, x))\n",
    "test_df['degree'] = test_df['id'].apply(lambda x: get_feature(degree, x))\n",
    "train_df['out_degree'] = train_df['id'].apply(lambda x: get_feature(out_degree, x))\n",
    "train_df['in_degree'] = train_df['id'].apply(lambda x: get_feature(in_degree, x))\n",
    "test_df['out_degree'] = test_df['id'].apply(lambda x: get_feature(out_degree, x))\n",
    "test_df['in_degree'] = test_df['id'].apply(lambda x: get_feature(in_degree, x))"
   ]
  },
  {
   "cell_type": "markdown",
   "metadata": {},
   "source": [
    "**Check the missing data**"
   ]
  },
  {
   "cell_type": "code",
   "execution_count": 19,
   "metadata": {
    "ExecuteTime": {
     "end_time": "2019-11-21T14:56:30.833616Z",
     "start_time": "2019-11-21T14:56:30.806881Z"
    }
   },
   "outputs": [
    {
     "data": {
      "text/html": [
       "<div>\n",
       "<style scoped>\n",
       "    .dataframe tbody tr th:only-of-type {\n",
       "        vertical-align: middle;\n",
       "    }\n",
       "\n",
       "    .dataframe tbody tr th {\n",
       "        vertical-align: top;\n",
       "    }\n",
       "\n",
       "    .dataframe thead th {\n",
       "        text-align: right;\n",
       "    }\n",
       "</style>\n",
       "<table border=\"1\" class=\"dataframe\">\n",
       "  <thead>\n",
       "    <tr style=\"text-align: right;\">\n",
       "      <th></th>\n",
       "      <th>id</th>\n",
       "      <th>title</th>\n",
       "      <th>group</th>\n",
       "      <th>review</th>\n",
       "      <th>clustering_coefficient</th>\n",
       "      <th>pagerank</th>\n",
       "      <th>degree_centrality</th>\n",
       "      <th>closeness_centrality</th>\n",
       "      <th>betweenness_centrality</th>\n",
       "      <th>degree</th>\n",
       "      <th>out_degree</th>\n",
       "      <th>in_degree</th>\n",
       "    </tr>\n",
       "  </thead>\n",
       "  <tbody>\n",
       "    <tr>\n",
       "      <th>1653</th>\n",
       "      <td>2648</td>\n",
       "      <td>Washington/Seattle/Travelling Ame</td>\n",
       "      <td>Video</td>\n",
       "      <td>0.0</td>\n",
       "      <td>NaN</td>\n",
       "      <td>NaN</td>\n",
       "      <td>NaN</td>\n",
       "      <td>NaN</td>\n",
       "      <td>NaN</td>\n",
       "      <td>NaN</td>\n",
       "      <td>NaN</td>\n",
       "      <td>NaN</td>\n",
       "    </tr>\n",
       "    <tr>\n",
       "      <th>1654</th>\n",
       "      <td>2649</td>\n",
       "      <td>Sir Douglas Quintet + 2 = Honkey Blues [Bonus...</td>\n",
       "      <td>Music</td>\n",
       "      <td>5.0</td>\n",
       "      <td>NaN</td>\n",
       "      <td>NaN</td>\n",
       "      <td>NaN</td>\n",
       "      <td>NaN</td>\n",
       "      <td>NaN</td>\n",
       "      <td>NaN</td>\n",
       "      <td>NaN</td>\n",
       "      <td>NaN</td>\n",
       "    </tr>\n",
       "    <tr>\n",
       "      <th>1655</th>\n",
       "      <td>2651</td>\n",
       "      <td>The Strategy Game</td>\n",
       "      <td>Book</td>\n",
       "      <td>5.0</td>\n",
       "      <td>NaN</td>\n",
       "      <td>NaN</td>\n",
       "      <td>NaN</td>\n",
       "      <td>NaN</td>\n",
       "      <td>NaN</td>\n",
       "      <td>NaN</td>\n",
       "      <td>NaN</td>\n",
       "      <td>NaN</td>\n",
       "    </tr>\n",
       "    <tr>\n",
       "      <th>1656</th>\n",
       "      <td>2653</td>\n",
       "      <td>On the Field with ... Terrell Davis (Matt Chr...</td>\n",
       "      <td>Book</td>\n",
       "      <td>4.0</td>\n",
       "      <td>NaN</td>\n",
       "      <td>NaN</td>\n",
       "      <td>NaN</td>\n",
       "      <td>NaN</td>\n",
       "      <td>NaN</td>\n",
       "      <td>NaN</td>\n",
       "      <td>NaN</td>\n",
       "      <td>NaN</td>\n",
       "    </tr>\n",
       "    <tr>\n",
       "      <th>1657</th>\n",
       "      <td>2654</td>\n",
       "      <td>Master Scheduling : A Practical Guide to Comp...</td>\n",
       "      <td>Book</td>\n",
       "      <td>5.0</td>\n",
       "      <td>NaN</td>\n",
       "      <td>NaN</td>\n",
       "      <td>NaN</td>\n",
       "      <td>NaN</td>\n",
       "      <td>NaN</td>\n",
       "      <td>NaN</td>\n",
       "      <td>NaN</td>\n",
       "      <td>NaN</td>\n",
       "    </tr>\n",
       "    <tr>\n",
       "      <th>1658</th>\n",
       "      <td>2655</td>\n",
       "      <td>Face Painting</td>\n",
       "      <td>Book</td>\n",
       "      <td>0.0</td>\n",
       "      <td>NaN</td>\n",
       "      <td>NaN</td>\n",
       "      <td>NaN</td>\n",
       "      <td>NaN</td>\n",
       "      <td>NaN</td>\n",
       "      <td>NaN</td>\n",
       "      <td>NaN</td>\n",
       "      <td>NaN</td>\n",
       "    </tr>\n",
       "    <tr>\n",
       "      <th>1659</th>\n",
       "      <td>2656</td>\n",
       "      <td>Cleopatra</td>\n",
       "      <td>Music</td>\n",
       "      <td>0.0</td>\n",
       "      <td>NaN</td>\n",
       "      <td>NaN</td>\n",
       "      <td>NaN</td>\n",
       "      <td>NaN</td>\n",
       "      <td>NaN</td>\n",
       "      <td>NaN</td>\n",
       "      <td>NaN</td>\n",
       "      <td>NaN</td>\n",
       "    </tr>\n",
       "    <tr>\n",
       "      <th>1660</th>\n",
       "      <td>2657</td>\n",
       "      <td>Boone and Crockett Club's 24th Big Game Award...</td>\n",
       "      <td>Book</td>\n",
       "      <td>5.0</td>\n",
       "      <td>NaN</td>\n",
       "      <td>NaN</td>\n",
       "      <td>NaN</td>\n",
       "      <td>NaN</td>\n",
       "      <td>NaN</td>\n",
       "      <td>NaN</td>\n",
       "      <td>NaN</td>\n",
       "      <td>NaN</td>\n",
       "    </tr>\n",
       "    <tr>\n",
       "      <th>1661</th>\n",
       "      <td>2659</td>\n",
       "      <td>The Incredible Mr. Limpet</td>\n",
       "      <td>DVD</td>\n",
       "      <td>4.0</td>\n",
       "      <td>NaN</td>\n",
       "      <td>NaN</td>\n",
       "      <td>NaN</td>\n",
       "      <td>NaN</td>\n",
       "      <td>NaN</td>\n",
       "      <td>NaN</td>\n",
       "      <td>NaN</td>\n",
       "      <td>NaN</td>\n",
       "    </tr>\n",
       "    <tr>\n",
       "      <th>1662</th>\n",
       "      <td>2660</td>\n",
       "      <td>Leo the Lop: Tail One (Leo the Lop)</td>\n",
       "      <td>Book</td>\n",
       "      <td>5.0</td>\n",
       "      <td>NaN</td>\n",
       "      <td>NaN</td>\n",
       "      <td>NaN</td>\n",
       "      <td>NaN</td>\n",
       "      <td>NaN</td>\n",
       "      <td>NaN</td>\n",
       "      <td>NaN</td>\n",
       "      <td>NaN</td>\n",
       "    </tr>\n",
       "    <tr>\n",
       "      <th>1663</th>\n",
       "      <td>2661</td>\n",
       "      <td>Workshops : Designing and Facilitating Experi...</td>\n",
       "      <td>Book</td>\n",
       "      <td>5.0</td>\n",
       "      <td>NaN</td>\n",
       "      <td>NaN</td>\n",
       "      <td>NaN</td>\n",
       "      <td>NaN</td>\n",
       "      <td>NaN</td>\n",
       "      <td>NaN</td>\n",
       "      <td>NaN</td>\n",
       "      <td>NaN</td>\n",
       "    </tr>\n",
       "    <tr>\n",
       "      <th>1664</th>\n",
       "      <td>2662</td>\n",
       "      <td>North American Indian Girl and Boy Paper Doll...</td>\n",
       "      <td>Book</td>\n",
       "      <td>0.0</td>\n",
       "      <td>NaN</td>\n",
       "      <td>NaN</td>\n",
       "      <td>NaN</td>\n",
       "      <td>NaN</td>\n",
       "      <td>NaN</td>\n",
       "      <td>NaN</td>\n",
       "      <td>NaN</td>\n",
       "      <td>NaN</td>\n",
       "    </tr>\n",
       "    <tr>\n",
       "      <th>1665</th>\n",
       "      <td>2663</td>\n",
       "      <td>Rocket : [Little Kippers] (Kipper)</td>\n",
       "      <td>Book</td>\n",
       "      <td>0.0</td>\n",
       "      <td>NaN</td>\n",
       "      <td>NaN</td>\n",
       "      <td>NaN</td>\n",
       "      <td>NaN</td>\n",
       "      <td>NaN</td>\n",
       "      <td>NaN</td>\n",
       "      <td>NaN</td>\n",
       "      <td>NaN</td>\n",
       "    </tr>\n",
       "    <tr>\n",
       "      <th>1666</th>\n",
       "      <td>2664</td>\n",
       "      <td>Red Hat Linux 7.2 Bible Unlimited Edition (Wi...</td>\n",
       "      <td>Book</td>\n",
       "      <td>4.5</td>\n",
       "      <td>NaN</td>\n",
       "      <td>NaN</td>\n",
       "      <td>NaN</td>\n",
       "      <td>NaN</td>\n",
       "      <td>NaN</td>\n",
       "      <td>NaN</td>\n",
       "      <td>NaN</td>\n",
       "      <td>NaN</td>\n",
       "    </tr>\n",
       "    <tr>\n",
       "      <th>1667</th>\n",
       "      <td>2665</td>\n",
       "      <td>Animal Farm</td>\n",
       "      <td>Book</td>\n",
       "      <td>4.5</td>\n",
       "      <td>NaN</td>\n",
       "      <td>NaN</td>\n",
       "      <td>NaN</td>\n",
       "      <td>NaN</td>\n",
       "      <td>NaN</td>\n",
       "      <td>NaN</td>\n",
       "      <td>NaN</td>\n",
       "      <td>NaN</td>\n",
       "    </tr>\n",
       "    <tr>\n",
       "      <th>1668</th>\n",
       "      <td>2666</td>\n",
       "      <td>The Fossils of the Burgess Shale</td>\n",
       "      <td>Book</td>\n",
       "      <td>5.0</td>\n",
       "      <td>NaN</td>\n",
       "      <td>NaN</td>\n",
       "      <td>NaN</td>\n",
       "      <td>NaN</td>\n",
       "      <td>NaN</td>\n",
       "      <td>NaN</td>\n",
       "      <td>NaN</td>\n",
       "      <td>NaN</td>\n",
       "    </tr>\n",
       "    <tr>\n",
       "      <th>1669</th>\n",
       "      <td>2667</td>\n",
       "      <td>Batman - The Animated Series - The Legend Beg...</td>\n",
       "      <td>DVD</td>\n",
       "      <td>0.0</td>\n",
       "      <td>NaN</td>\n",
       "      <td>NaN</td>\n",
       "      <td>NaN</td>\n",
       "      <td>NaN</td>\n",
       "      <td>NaN</td>\n",
       "      <td>NaN</td>\n",
       "      <td>NaN</td>\n",
       "      <td>NaN</td>\n",
       "    </tr>\n",
       "    <tr>\n",
       "      <th>1670</th>\n",
       "      <td>2670</td>\n",
       "      <td>Panatone: Warm</td>\n",
       "      <td>Music</td>\n",
       "      <td>4.5</td>\n",
       "      <td>NaN</td>\n",
       "      <td>NaN</td>\n",
       "      <td>NaN</td>\n",
       "      <td>NaN</td>\n",
       "      <td>NaN</td>\n",
       "      <td>NaN</td>\n",
       "      <td>NaN</td>\n",
       "      <td>NaN</td>\n",
       "    </tr>\n",
       "    <tr>\n",
       "      <th>1671</th>\n",
       "      <td>2671</td>\n",
       "      <td>Masculine Marine: Homoeroticism in the U.S. M...</td>\n",
       "      <td>Book</td>\n",
       "      <td>5.0</td>\n",
       "      <td>NaN</td>\n",
       "      <td>NaN</td>\n",
       "      <td>NaN</td>\n",
       "      <td>NaN</td>\n",
       "      <td>NaN</td>\n",
       "      <td>NaN</td>\n",
       "      <td>NaN</td>\n",
       "      <td>NaN</td>\n",
       "    </tr>\n",
       "    <tr>\n",
       "      <th>1672</th>\n",
       "      <td>2673</td>\n",
       "      <td>Storm</td>\n",
       "      <td>Music</td>\n",
       "      <td>4.5</td>\n",
       "      <td>NaN</td>\n",
       "      <td>NaN</td>\n",
       "      <td>NaN</td>\n",
       "      <td>NaN</td>\n",
       "      <td>NaN</td>\n",
       "      <td>NaN</td>\n",
       "      <td>NaN</td>\n",
       "      <td>NaN</td>\n",
       "    </tr>\n",
       "    <tr>\n",
       "      <th>1673</th>\n",
       "      <td>2674</td>\n",
       "      <td>Gold</td>\n",
       "      <td>Music</td>\n",
       "      <td>3.5</td>\n",
       "      <td>NaN</td>\n",
       "      <td>NaN</td>\n",
       "      <td>NaN</td>\n",
       "      <td>NaN</td>\n",
       "      <td>NaN</td>\n",
       "      <td>NaN</td>\n",
       "      <td>NaN</td>\n",
       "      <td>NaN</td>\n",
       "    </tr>\n",
       "  </tbody>\n",
       "</table>\n",
       "</div>"
      ],
      "text/plain": [
       "        id                                              title   group  review  \\\n",
       "1653  2648                  Washington/Seattle/Travelling Ame   Video     0.0   \n",
       "1654  2649   Sir Douglas Quintet + 2 = Honkey Blues [Bonus...   Music     5.0   \n",
       "1655  2651                                  The Strategy Game    Book     5.0   \n",
       "1656  2653   On the Field with ... Terrell Davis (Matt Chr...    Book     4.0   \n",
       "1657  2654   Master Scheduling : A Practical Guide to Comp...    Book     5.0   \n",
       "1658  2655                                      Face Painting    Book     0.0   \n",
       "1659  2656                                          Cleopatra   Music     0.0   \n",
       "1660  2657   Boone and Crockett Club's 24th Big Game Award...    Book     5.0   \n",
       "1661  2659                          The Incredible Mr. Limpet     DVD     4.0   \n",
       "1662  2660                Leo the Lop: Tail One (Leo the Lop)    Book     5.0   \n",
       "1663  2661   Workshops : Designing and Facilitating Experi...    Book     5.0   \n",
       "1664  2662   North American Indian Girl and Boy Paper Doll...    Book     0.0   \n",
       "1665  2663                 Rocket : [Little Kippers] (Kipper)    Book     0.0   \n",
       "1666  2664   Red Hat Linux 7.2 Bible Unlimited Edition (Wi...    Book     4.5   \n",
       "1667  2665                                        Animal Farm    Book     4.5   \n",
       "1668  2666                   The Fossils of the Burgess Shale    Book     5.0   \n",
       "1669  2667   Batman - The Animated Series - The Legend Beg...     DVD     0.0   \n",
       "1670  2670                                     Panatone: Warm   Music     4.5   \n",
       "1671  2671   Masculine Marine: Homoeroticism in the U.S. M...    Book     5.0   \n",
       "1672  2673                                              Storm   Music     4.5   \n",
       "1673  2674                                               Gold   Music     3.5   \n",
       "\n",
       "      clustering_coefficient  pagerank  degree_centrality  \\\n",
       "1653                     NaN       NaN                NaN   \n",
       "1654                     NaN       NaN                NaN   \n",
       "1655                     NaN       NaN                NaN   \n",
       "1656                     NaN       NaN                NaN   \n",
       "1657                     NaN       NaN                NaN   \n",
       "1658                     NaN       NaN                NaN   \n",
       "1659                     NaN       NaN                NaN   \n",
       "1660                     NaN       NaN                NaN   \n",
       "1661                     NaN       NaN                NaN   \n",
       "1662                     NaN       NaN                NaN   \n",
       "1663                     NaN       NaN                NaN   \n",
       "1664                     NaN       NaN                NaN   \n",
       "1665                     NaN       NaN                NaN   \n",
       "1666                     NaN       NaN                NaN   \n",
       "1667                     NaN       NaN                NaN   \n",
       "1668                     NaN       NaN                NaN   \n",
       "1669                     NaN       NaN                NaN   \n",
       "1670                     NaN       NaN                NaN   \n",
       "1671                     NaN       NaN                NaN   \n",
       "1672                     NaN       NaN                NaN   \n",
       "1673                     NaN       NaN                NaN   \n",
       "\n",
       "      closeness_centrality  betweenness_centrality  degree  out_degree  \\\n",
       "1653                   NaN                     NaN     NaN         NaN   \n",
       "1654                   NaN                     NaN     NaN         NaN   \n",
       "1655                   NaN                     NaN     NaN         NaN   \n",
       "1656                   NaN                     NaN     NaN         NaN   \n",
       "1657                   NaN                     NaN     NaN         NaN   \n",
       "1658                   NaN                     NaN     NaN         NaN   \n",
       "1659                   NaN                     NaN     NaN         NaN   \n",
       "1660                   NaN                     NaN     NaN         NaN   \n",
       "1661                   NaN                     NaN     NaN         NaN   \n",
       "1662                   NaN                     NaN     NaN         NaN   \n",
       "1663                   NaN                     NaN     NaN         NaN   \n",
       "1664                   NaN                     NaN     NaN         NaN   \n",
       "1665                   NaN                     NaN     NaN         NaN   \n",
       "1666                   NaN                     NaN     NaN         NaN   \n",
       "1667                   NaN                     NaN     NaN         NaN   \n",
       "1668                   NaN                     NaN     NaN         NaN   \n",
       "1669                   NaN                     NaN     NaN         NaN   \n",
       "1670                   NaN                     NaN     NaN         NaN   \n",
       "1671                   NaN                     NaN     NaN         NaN   \n",
       "1672                   NaN                     NaN     NaN         NaN   \n",
       "1673                   NaN                     NaN     NaN         NaN   \n",
       "\n",
       "      in_degree  \n",
       "1653        NaN  \n",
       "1654        NaN  \n",
       "1655        NaN  \n",
       "1656        NaN  \n",
       "1657        NaN  \n",
       "1658        NaN  \n",
       "1659        NaN  \n",
       "1660        NaN  \n",
       "1661        NaN  \n",
       "1662        NaN  \n",
       "1663        NaN  \n",
       "1664        NaN  \n",
       "1665        NaN  \n",
       "1666        NaN  \n",
       "1667        NaN  \n",
       "1668        NaN  \n",
       "1669        NaN  \n",
       "1670        NaN  \n",
       "1671        NaN  \n",
       "1672        NaN  \n",
       "1673        NaN  "
      ]
     },
     "execution_count": 19,
     "metadata": {},
     "output_type": "execute_result"
    }
   ],
   "source": [
    "train_df[train_df.isnull().values == True].drop_duplicates()"
   ]
  },
  {
   "cell_type": "markdown",
   "metadata": {},
   "source": [
    "**We can find that the features of nodes with id from 2648 to 2674 are np.nan.**\n",
    "\n",
    "**This is because this nodes are not in graph, So I decide drop the data that are not in graph.**"
   ]
  },
  {
   "cell_type": "code",
   "execution_count": 20,
   "metadata": {
    "ExecuteTime": {
     "end_time": "2019-11-21T14:56:30.848830Z",
     "start_time": "2019-11-21T14:56:30.836013Z"
    },
    "scrolled": true
   },
   "outputs": [],
   "source": [
    "train_df = train_df.dropna()"
   ]
  },
  {
   "cell_type": "code",
   "execution_count": 21,
   "metadata": {
    "ExecuteTime": {
     "end_time": "2019-11-21T14:56:30.857584Z",
     "start_time": "2019-11-21T14:56:30.848830Z"
    }
   },
   "outputs": [
    {
     "data": {
      "text/plain": [
       "1653"
      ]
     },
     "execution_count": 21,
     "metadata": {},
     "output_type": "execute_result"
    }
   ],
   "source": [
    "len(train_df)"
   ]
  },
  {
   "cell_type": "markdown",
   "metadata": {},
   "source": [
    "### Feature Selection"
   ]
  },
  {
   "cell_type": "markdown",
   "metadata": {},
   "source": [
    "**Plot the correlation coefficient of the feature and label.**"
   ]
  },
  {
   "cell_type": "code",
   "execution_count": 22,
   "metadata": {
    "ExecuteTime": {
     "end_time": "2019-11-21T14:56:31.865164Z",
     "start_time": "2019-11-21T14:56:30.860187Z"
    }
   },
   "outputs": [
    {
     "data": {
      "text/plain": [
       "<matplotlib.axes._subplots.AxesSubplot at 0x1b3006804a8>"
      ]
     },
     "execution_count": 22,
     "metadata": {},
     "output_type": "execute_result"
    },
    {
     "data": {
      "image/png": "[encoded data removed]",
      "text/plain": [
       "<Figure size 648x648 with 2 Axes>"
      ]
     },
     "metadata": {
      "needs_background": "light"
     },
     "output_type": "display_data"
    }
   ],
   "source": [
    "df = train_df.corr()\n",
    "plt.subplots(figsize=(9, 9))\n",
    "sns.heatmap(df, annot=True, vmax=1, square=True, cmap=\"Blues\")"
   ]
  },
  {
   "cell_type": "markdown",
   "metadata": {},
   "source": [
    "**Through this picture, we can find that the correlation coefficient between `degree_centrality` and `degree` is 1.**\n",
    "\n",
    "**This means these two features are linearly related.**"
   ]
  },
  {
   "cell_type": "markdown",
   "metadata": {},
   "source": [
    "**`pagerank` also has a high correlation with `degree_centrality`, `degree`, `in_degree`, so I decide to drop `degree`, `in_degree`.**"
   ]
  },
  {
   "cell_type": "code",
   "execution_count": 23,
   "metadata": {
    "ExecuteTime": {
     "end_time": "2019-11-21T14:56:31.877849Z",
     "start_time": "2019-11-21T14:56:31.867447Z"
    }
   },
   "outputs": [],
   "source": [
    "train_df = train_df.drop(columns=['degree', 'in_degree'])\n",
    "test_df = test_df.drop(columns=['degree', 'in_degree'])"
   ]
  },
  {
   "cell_type": "markdown",
   "metadata": {},
   "source": [
    "**Next, Let's explore the label (review) of this dataset**"
   ]
  },
  {
   "cell_type": "code",
   "execution_count": 24,
   "metadata": {
    "ExecuteTime": {
     "end_time": "2019-11-21T14:56:31.921959Z",
     "start_time": "2019-11-21T14:56:31.879962Z"
    }
   },
   "outputs": [
    {
     "data": {
      "text/html": [
       "<div>\n",
       "<style scoped>\n",
       "    .dataframe tbody tr th:only-of-type {\n",
       "        vertical-align: middle;\n",
       "    }\n",
       "\n",
       "    .dataframe tbody tr th {\n",
       "        vertical-align: top;\n",
       "    }\n",
       "\n",
       "    .dataframe thead th {\n",
       "        text-align: right;\n",
       "    }\n",
       "</style>\n",
       "<table border=\"1\" class=\"dataframe\">\n",
       "  <thead>\n",
       "    <tr style=\"text-align: right;\">\n",
       "      <th></th>\n",
       "      <th>id</th>\n",
       "      <th>title</th>\n",
       "      <th>group</th>\n",
       "      <th>clustering_coefficient</th>\n",
       "      <th>pagerank</th>\n",
       "      <th>degree_centrality</th>\n",
       "      <th>closeness_centrality</th>\n",
       "      <th>betweenness_centrality</th>\n",
       "      <th>out_degree</th>\n",
       "    </tr>\n",
       "    <tr>\n",
       "      <th>review</th>\n",
       "      <th></th>\n",
       "      <th></th>\n",
       "      <th></th>\n",
       "      <th></th>\n",
       "      <th></th>\n",
       "      <th></th>\n",
       "      <th></th>\n",
       "      <th></th>\n",
       "      <th></th>\n",
       "    </tr>\n",
       "  </thead>\n",
       "  <tbody>\n",
       "    <tr>\n",
       "      <th>0.0</th>\n",
       "      <td>411</td>\n",
       "      <td>411</td>\n",
       "      <td>411</td>\n",
       "      <td>411</td>\n",
       "      <td>411</td>\n",
       "      <td>411</td>\n",
       "      <td>411</td>\n",
       "      <td>411</td>\n",
       "      <td>411</td>\n",
       "    </tr>\n",
       "    <tr>\n",
       "      <th>1.0</th>\n",
       "      <td>10</td>\n",
       "      <td>10</td>\n",
       "      <td>10</td>\n",
       "      <td>10</td>\n",
       "      <td>10</td>\n",
       "      <td>10</td>\n",
       "      <td>10</td>\n",
       "      <td>10</td>\n",
       "      <td>10</td>\n",
       "    </tr>\n",
       "    <tr>\n",
       "      <th>1.5</th>\n",
       "      <td>3</td>\n",
       "      <td>3</td>\n",
       "      <td>3</td>\n",
       "      <td>3</td>\n",
       "      <td>3</td>\n",
       "      <td>3</td>\n",
       "      <td>3</td>\n",
       "      <td>3</td>\n",
       "      <td>3</td>\n",
       "    </tr>\n",
       "    <tr>\n",
       "      <th>2.0</th>\n",
       "      <td>16</td>\n",
       "      <td>16</td>\n",
       "      <td>16</td>\n",
       "      <td>16</td>\n",
       "      <td>16</td>\n",
       "      <td>16</td>\n",
       "      <td>16</td>\n",
       "      <td>16</td>\n",
       "      <td>16</td>\n",
       "    </tr>\n",
       "    <tr>\n",
       "      <th>2.5</th>\n",
       "      <td>18</td>\n",
       "      <td>18</td>\n",
       "      <td>18</td>\n",
       "      <td>18</td>\n",
       "      <td>18</td>\n",
       "      <td>18</td>\n",
       "      <td>18</td>\n",
       "      <td>18</td>\n",
       "      <td>18</td>\n",
       "    </tr>\n",
       "    <tr>\n",
       "      <th>3.0</th>\n",
       "      <td>64</td>\n",
       "      <td>64</td>\n",
       "      <td>64</td>\n",
       "      <td>64</td>\n",
       "      <td>64</td>\n",
       "      <td>64</td>\n",
       "      <td>64</td>\n",
       "      <td>64</td>\n",
       "      <td>64</td>\n",
       "    </tr>\n",
       "    <tr>\n",
       "      <th>3.5</th>\n",
       "      <td>95</td>\n",
       "      <td>95</td>\n",
       "      <td>95</td>\n",
       "      <td>95</td>\n",
       "      <td>95</td>\n",
       "      <td>95</td>\n",
       "      <td>95</td>\n",
       "      <td>95</td>\n",
       "      <td>95</td>\n",
       "    </tr>\n",
       "    <tr>\n",
       "      <th>4.0</th>\n",
       "      <td>265</td>\n",
       "      <td>265</td>\n",
       "      <td>265</td>\n",
       "      <td>265</td>\n",
       "      <td>265</td>\n",
       "      <td>265</td>\n",
       "      <td>265</td>\n",
       "      <td>265</td>\n",
       "      <td>265</td>\n",
       "    </tr>\n",
       "    <tr>\n",
       "      <th>4.5</th>\n",
       "      <td>336</td>\n",
       "      <td>336</td>\n",
       "      <td>336</td>\n",
       "      <td>336</td>\n",
       "      <td>336</td>\n",
       "      <td>336</td>\n",
       "      <td>336</td>\n",
       "      <td>336</td>\n",
       "      <td>336</td>\n",
       "    </tr>\n",
       "    <tr>\n",
       "      <th>5.0</th>\n",
       "      <td>435</td>\n",
       "      <td>435</td>\n",
       "      <td>435</td>\n",
       "      <td>435</td>\n",
       "      <td>435</td>\n",
       "      <td>435</td>\n",
       "      <td>435</td>\n",
       "      <td>435</td>\n",
       "      <td>435</td>\n",
       "    </tr>\n",
       "  </tbody>\n",
       "</table>\n",
       "</div>"
      ],
      "text/plain": [
       "         id  title  group  clustering_coefficient  pagerank  \\\n",
       "review                                                        \n",
       "0.0     411    411    411                     411       411   \n",
       "1.0      10     10     10                      10        10   \n",
       "1.5       3      3      3                       3         3   \n",
       "2.0      16     16     16                      16        16   \n",
       "2.5      18     18     18                      18        18   \n",
       "3.0      64     64     64                      64        64   \n",
       "3.5      95     95     95                      95        95   \n",
       "4.0     265    265    265                     265       265   \n",
       "4.5     336    336    336                     336       336   \n",
       "5.0     435    435    435                     435       435   \n",
       "\n",
       "        degree_centrality  closeness_centrality  betweenness_centrality  \\\n",
       "review                                                                    \n",
       "0.0                   411                   411                     411   \n",
       "1.0                    10                    10                      10   \n",
       "1.5                     3                     3                       3   \n",
       "2.0                    16                    16                      16   \n",
       "2.5                    18                    18                      18   \n",
       "3.0                    64                    64                      64   \n",
       "3.5                    95                    95                      95   \n",
       "4.0                   265                   265                     265   \n",
       "4.5                   336                   336                     336   \n",
       "5.0                   435                   435                     435   \n",
       "\n",
       "        out_degree  \n",
       "review              \n",
       "0.0            411  \n",
       "1.0             10  \n",
       "1.5              3  \n",
       "2.0             16  \n",
       "2.5             18  \n",
       "3.0             64  \n",
       "3.5             95  \n",
       "4.0            265  \n",
       "4.5            336  \n",
       "5.0            435  "
      ]
     },
     "execution_count": 24,
     "metadata": {},
     "output_type": "execute_result"
    }
   ],
   "source": [
    "train_df.groupby('review').count()"
   ]
  },
  {
   "cell_type": "markdown",
   "metadata": {},
   "source": [
    "**We can find that there are 10 different categories.**\n",
    "\n",
    "**We can see a very strange phenomenon from the table, there are too many `0.0` category.**\n",
    "\n",
    "**If `0.0` is a score given by costomer， there should be a `0.5` category.**\n",
    "\n",
    "**According to our daily experience, it should be that the items not scored by costomer, which are filled by `0.0`.**\n",
    "\n",
    "**But we should explore features to verfy our thoughts.**"
   ]
  },
  {
   "cell_type": "markdown",
   "metadata": {},
   "source": [
    "**So I try to explore the difference between these items and others.**"
   ]
  },
  {
   "cell_type": "code",
   "execution_count": 25,
   "metadata": {
    "ExecuteTime": {
     "end_time": "2019-11-21T14:56:31.937591Z",
     "start_time": "2019-11-21T14:56:31.925947Z"
    }
   },
   "outputs": [],
   "source": [
    "# I define a function to draw the distribution between 0.0 and others.\n",
    "def draw_distribution(feature, df):\n",
    "    plt.figure(figsize=(16,6))\n",
    "    plt.title(\"Distribution of log(`{}`) values (grouped by review) in the train_df\".format(feature))\n",
    "    tmp = df.loc[train_df.review == 0.0]\n",
    "    sns.distplot(np.array(tmp[feature]), kde=True, label=f'review: 0.0')\n",
    "    tmp = df.loc[train_df.review != 0.0]\n",
    "    sns.distplot(np.array(tmp[feature]), kde=True, label=f'review: others')\n",
    "    plt.legend()\n",
    "    plt.show()"
   ]
  },
  {
   "cell_type": "code",
   "execution_count": 26,
   "metadata": {
    "ExecuteTime": {
     "end_time": "2019-11-21T14:56:32.412809Z",
     "start_time": "2019-11-21T14:56:31.941747Z"
    },
    "scrolled": false
   },
   "outputs": [
    {
     "data": {
      "image/png": "[encoded data removed]",
      "text/plain": [
       "<Figure size 1152x432 with 1 Axes>"
      ]
     },
     "metadata": {
      "needs_background": "light"
     },
     "output_type": "display_data"
    }
   ],
   "source": [
    "draw_distribution('degree_centrality', train_df)"
   ]
  },
  {
   "cell_type": "code",
   "execution_count": 27,
   "metadata": {
    "ExecuteTime": {
     "end_time": "2019-11-21T14:56:32.999048Z",
     "start_time": "2019-11-21T14:56:32.414844Z"
    }
   },
   "outputs": [
    {
     "data": {
      "image/png": "[encoded data removed]",
      "text/plain": [
       "<Figure size 1152x432 with 1 Axes>"
      ]
     },
     "metadata": {
      "needs_background": "light"
     },
     "output_type": "display_data"
    }
   ],
   "source": [
    "draw_distribution('pagerank', train_df)"
   ]
  },
  {
   "cell_type": "code",
   "execution_count": 28,
   "metadata": {
    "ExecuteTime": {
     "end_time": "2019-11-21T14:56:33.376571Z",
     "start_time": "2019-11-21T14:56:33.000432Z"
    }
   },
   "outputs": [
    {
     "data": {
      "image/png": "[encoded data removed]",
      "text/plain": [
       "<Figure size 1152x432 with 1 Axes>"
      ]
     },
     "metadata": {
      "needs_background": "light"
     },
     "output_type": "display_data"
    }
   ],
   "source": [
    "draw_distribution('closeness_centrality', train_df)"
   ]
  },
  {
   "cell_type": "code",
   "execution_count": 29,
   "metadata": {
    "ExecuteTime": {
     "end_time": "2019-11-21T14:56:33.962885Z",
     "start_time": "2019-11-21T14:56:33.378501Z"
    }
   },
   "outputs": [
    {
     "data": {
      "image/png": "[encoded data removed]",
      "text/plain": [
       "<Figure size 1152x432 with 1 Axes>"
      ]
     },
     "metadata": {
      "needs_background": "light"
     },
     "output_type": "display_data"
    }
   ],
   "source": [
    "draw_distribution('betweenness_centrality', train_df)"
   ]
  },
  {
   "cell_type": "code",
   "execution_count": 30,
   "metadata": {
    "ExecuteTime": {
     "end_time": "2019-11-21T14:56:34.300961Z",
     "start_time": "2019-11-21T14:56:33.964955Z"
    }
   },
   "outputs": [
    {
     "data": {
      "image/png": "[encoded data removed]",
      "text/plain": [
       "<Figure size 1152x432 with 1 Axes>"
      ]
     },
     "metadata": {
      "needs_background": "light"
     },
     "output_type": "display_data"
    }
   ],
   "source": [
    "draw_distribution('clustering_coefficient', train_df)"
   ]
  },
  {
   "cell_type": "markdown",
   "metadata": {},
   "source": [
    "**According to the above EDA, I did not find that the feature distribution of items with a score of 0.0 is significantly different from that of other items.**\n",
    "\n",
    "**So I guess these `0.0` are filled as a default.**\n",
    "\n",
    "**Now, we have three choices to process the `0.0` category:**\n",
    "1. Do nothing, train and predict it as a separate category. This process will cause great trouble to the model, because there is no significant difference in the distribution of features between this category and other categories.\n",
    "\n",
    "2. Fill them with a mode or median and then use it for training, then my model will not predict the 0.0 class. But I don't know how the type will handle the class during the test phase.\n",
    "\n",
    "3. Drop them, maybe these are abnormal, so we should drop them in trainging or test phase."
   ]
  },
  {
   "cell_type": "markdown",
   "metadata": {},
   "source": [
    "**There is another reason why I drop them. This part asks us to predict review-rating used classification model such as LR, SVM and MLP, but the evaluation metric is MAE, it's a regression evaluation metric!!!**\n",
    "\n",
    "**It is easy to understand that for classification tasks, the distance between any two categories should be equal, but in the test phase, the distance evaluation criteria of a regression function are used. The result will be very ugly.**"
   ]
  },
  {
   "cell_type": "code",
   "execution_count": 31,
   "metadata": {
    "ExecuteTime": {
     "end_time": "2019-11-21T14:56:34.320749Z",
     "start_time": "2019-11-21T14:56:34.302889Z"
    }
   },
   "outputs": [
    {
     "data": {
      "text/html": [
       "<div>\n",
       "<style scoped>\n",
       "    .dataframe tbody tr th:only-of-type {\n",
       "        vertical-align: middle;\n",
       "    }\n",
       "\n",
       "    .dataframe tbody tr th {\n",
       "        vertical-align: top;\n",
       "    }\n",
       "\n",
       "    .dataframe thead th {\n",
       "        text-align: right;\n",
       "    }\n",
       "</style>\n",
       "<table border=\"1\" class=\"dataframe\">\n",
       "  <thead>\n",
       "    <tr style=\"text-align: right;\">\n",
       "      <th></th>\n",
       "      <th>id</th>\n",
       "      <th>title</th>\n",
       "      <th>group</th>\n",
       "      <th>review</th>\n",
       "      <th>clustering_coefficient</th>\n",
       "      <th>pagerank</th>\n",
       "      <th>degree_centrality</th>\n",
       "      <th>closeness_centrality</th>\n",
       "      <th>betweenness_centrality</th>\n",
       "      <th>out_degree</th>\n",
       "    </tr>\n",
       "  </thead>\n",
       "  <tbody>\n",
       "    <tr>\n",
       "      <th>0</th>\n",
       "      <td>3</td>\n",
       "      <td>World War II Allied Fighter Planes Trading Cards</td>\n",
       "      <td>Book</td>\n",
       "      <td>5.0</td>\n",
       "      <td>0.450000</td>\n",
       "      <td>0.000197</td>\n",
       "      <td>0.001890</td>\n",
       "      <td>0.000000</td>\n",
       "      <td>0.000000</td>\n",
       "      <td>5.0</td>\n",
       "    </tr>\n",
       "    <tr>\n",
       "      <th>2</th>\n",
       "      <td>7</td>\n",
       "      <td>Batik</td>\n",
       "      <td>Music</td>\n",
       "      <td>4.5</td>\n",
       "      <td>0.109562</td>\n",
       "      <td>0.001263</td>\n",
       "      <td>0.008692</td>\n",
       "      <td>0.150353</td>\n",
       "      <td>0.018768</td>\n",
       "      <td>5.0</td>\n",
       "    </tr>\n",
       "    <tr>\n",
       "      <th>3</th>\n",
       "      <td>10</td>\n",
       "      <td>The Edward Said Reader</td>\n",
       "      <td>Book</td>\n",
       "      <td>4.0</td>\n",
       "      <td>0.285714</td>\n",
       "      <td>0.000424</td>\n",
       "      <td>0.003779</td>\n",
       "      <td>0.116834</td>\n",
       "      <td>0.003049</td>\n",
       "      <td>5.0</td>\n",
       "    </tr>\n",
       "    <tr>\n",
       "      <th>4</th>\n",
       "      <td>11</td>\n",
       "      <td>Resetting the Clock : Five Anti-Aging Hormone...</td>\n",
       "      <td>Book</td>\n",
       "      <td>5.0</td>\n",
       "      <td>0.120344</td>\n",
       "      <td>0.000906</td>\n",
       "      <td>0.010204</td>\n",
       "      <td>0.008231</td>\n",
       "      <td>0.008756</td>\n",
       "      <td>5.0</td>\n",
       "    </tr>\n",
       "    <tr>\n",
       "      <th>5</th>\n",
       "      <td>12</td>\n",
       "      <td>Fantastic Food with Splenda : 160 Great Recip...</td>\n",
       "      <td>Book</td>\n",
       "      <td>4.5</td>\n",
       "      <td>0.424658</td>\n",
       "      <td>0.000506</td>\n",
       "      <td>0.004913</td>\n",
       "      <td>0.074993</td>\n",
       "      <td>0.002148</td>\n",
       "      <td>5.0</td>\n",
       "    </tr>\n",
       "  </tbody>\n",
       "</table>\n",
       "</div>"
      ],
      "text/plain": [
       "   id                                              title   group  review  \\\n",
       "0   3   World War II Allied Fighter Planes Trading Cards    Book     5.0   \n",
       "2   7                                              Batik   Music     4.5   \n",
       "3  10                             The Edward Said Reader    Book     4.0   \n",
       "4  11   Resetting the Clock : Five Anti-Aging Hormone...    Book     5.0   \n",
       "5  12   Fantastic Food with Splenda : 160 Great Recip...    Book     4.5   \n",
       "\n",
       "   clustering_coefficient  pagerank  degree_centrality  closeness_centrality  \\\n",
       "0                0.450000  0.000197           0.001890              0.000000   \n",
       "2                0.109562  0.001263           0.008692              0.150353   \n",
       "3                0.285714  0.000424           0.003779              0.116834   \n",
       "4                0.120344  0.000906           0.010204              0.008231   \n",
       "5                0.424658  0.000506           0.004913              0.074993   \n",
       "\n",
       "   betweenness_centrality  out_degree  \n",
       "0                0.000000         5.0  \n",
       "2                0.018768         5.0  \n",
       "3                0.003049         5.0  \n",
       "4                0.008756         5.0  \n",
       "5                0.002148         5.0  "
      ]
     },
     "execution_count": 31,
     "metadata": {},
     "output_type": "execute_result"
    }
   ],
   "source": [
    "train_df = train_df[train_df['review'] != 0.0]\n",
    "train_df.head()"
   ]
  },
  {
   "cell_type": "markdown",
   "metadata": {},
   "source": [
    "---\n",
    "**We define a function to show the number and percent of each category in the current selected feature, just for category features or discrete value**"
   ]
  },
  {
   "cell_type": "code",
   "execution_count": 32,
   "metadata": {
    "ExecuteTime": {
     "end_time": "2019-11-21T14:56:34.333164Z",
     "start_time": "2019-11-21T14:56:34.322714Z"
    }
   },
   "outputs": [],
   "source": [
    "def plot_count(feature, title, df, size=1):\n",
    "    f, ax = plt.subplots(1,1, figsize=(4*size,4))\n",
    "    total = float(len(df))\n",
    "    g = sns.countplot(df[feature], order = df[feature].value_counts().index[:20], palette='Set3')\n",
    "    g.set_title(\"Number and percentage of {}\".format(title))\n",
    "    if(size > 2):\n",
    "        plt.xticks(rotation=90, size=8)\n",
    "    for p in ax.patches:\n",
    "        height = p.get_height()\n",
    "        ax.text(p.get_x()+p.get_width()/2.,\n",
    "                height + 3,\n",
    "                '{:1.2f}%'.format(100*height/total),\n",
    "                ha=\"center\")\n",
    "        ax.text(p.get_x()+p.get_width()/2.,\n",
    "                height/2,\n",
    "                '{}'.format(height),\n",
    "                ha=\"center\")\n",
    "    plt.show() "
   ]
  },
  {
   "cell_type": "markdown",
   "metadata": {},
   "source": [
    "**There is a category `group` in original features**"
   ]
  },
  {
   "cell_type": "code",
   "execution_count": 33,
   "metadata": {
    "ExecuteTime": {
     "end_time": "2019-11-21T14:56:34.341764Z",
     "start_time": "2019-11-21T14:56:34.334162Z"
    }
   },
   "outputs": [
    {
     "data": {
      "text/plain": [
       "Index(['id', 'title', 'group', 'review', 'clustering_coefficient', 'pagerank',\n",
       "       'degree_centrality', 'closeness_centrality', 'betweenness_centrality',\n",
       "       'out_degree'],\n",
       "      dtype='object')"
      ]
     },
     "execution_count": 33,
     "metadata": {},
     "output_type": "execute_result"
    }
   ],
   "source": [
    "train_df.columns"
   ]
  },
  {
   "cell_type": "code",
   "execution_count": 34,
   "metadata": {
    "ExecuteTime": {
     "end_time": "2019-11-21T14:56:34.556353Z",
     "start_time": "2019-11-21T14:56:34.343715Z"
    },
    "scrolled": false
   },
   "outputs": [
    {
     "data": {
      "image/png": "[encoded data removed]",
      "text/plain": [
       "<Figure size 864x288 with 1 Axes>"
      ]
     },
     "metadata": {
      "needs_background": "light"
     },
     "output_type": "display_data"
    }
   ],
   "source": [
    "plot_count('group', 'reveiw', train_df, size=3)"
   ]
  },
  {
   "cell_type": "markdown",
   "metadata": {},
   "source": [
    "**Convert it to onehot encode**"
   ]
  },
  {
   "cell_type": "code",
   "execution_count": 35,
   "metadata": {
    "ExecuteTime": {
     "end_time": "2019-11-21T14:56:34.641924Z",
     "start_time": "2019-11-21T14:56:34.557351Z"
    }
   },
   "outputs": [],
   "source": [
    "group_cate = train_df['group'].unique()\n",
    "encoder = LabelEncoder()  \n",
    "one_hot = OneHotEncoder(sparse = False)\n",
    "train_group = encoder.fit_transform(train_df['group'].values) \n",
    "train_df['group_id'] = train_group\n",
    "test_group = encoder.fit_transform(test_df['group'].values)\n",
    "test_df['group_id'] = test_group"
   ]
  },
  {
   "cell_type": "markdown",
   "metadata": {
    "ExecuteTime": {
     "end_time": "2019-11-15T16:51:42.673237Z",
     "start_time": "2019-11-15T16:51:42.670275Z"
    }
   },
   "source": [
    "#### Perepare train and dev data"
   ]
  },
  {
   "cell_type": "markdown",
   "metadata": {},
   "source": [
    "**Get the features cols**"
   ]
  },
  {
   "cell_type": "code",
   "execution_count": 36,
   "metadata": {
    "ExecuteTime": {
     "end_time": "2019-11-21T14:56:34.650480Z",
     "start_time": "2019-11-21T14:56:34.644013Z"
    }
   },
   "outputs": [
    {
     "data": {
      "text/plain": [
       "Index(['id', 'title', 'group', 'review', 'clustering_coefficient', 'pagerank',\n",
       "       'degree_centrality', 'closeness_centrality', 'betweenness_centrality',\n",
       "       'out_degree', 'group_id'],\n",
       "      dtype='object')"
      ]
     },
     "execution_count": 36,
     "metadata": {},
     "output_type": "execute_result"
    }
   ],
   "source": [
    "train_df.columns"
   ]
  },
  {
   "cell_type": "code",
   "execution_count": 37,
   "metadata": {
    "ExecuteTime": {
     "end_time": "2019-11-21T14:56:34.662356Z",
     "start_time": "2019-11-21T14:56:34.652476Z"
    }
   },
   "outputs": [],
   "source": [
    "# features \n",
    "features_columns = ['clustering_coefficient', 'pagerank', 'closeness_centrality', 'betweenness_centrality', 'group_id', 'degree_centrality', 'out_degree']\n",
    "cate_features = ['group_id', 'out_degree']\n",
    "continuous_feature = ['clustering_coefficient', 'pagerank', 'closeness_centrality', 'betweenness_centrality', 'degree_centrality']\n",
    "# transform the review to category variable label\n",
    "label_list = train_df['review'].unique().tolist()\n",
    "train_df['review_idx'] = train_df['review'].apply(lambda x: label_list.index(x))"
   ]
  },
  {
   "cell_type": "markdown",
   "metadata": {},
   "source": [
    "**Standardize feautre data**"
   ]
  },
  {
   "cell_type": "code",
   "execution_count": 38,
   "metadata": {
    "ExecuteTime": {
     "end_time": "2019-11-21T14:56:34.675321Z",
     "start_time": "2019-11-21T14:56:34.664747Z"
    }
   },
   "outputs": [],
   "source": [
    "ss = StandardScaler()\n",
    "train_df[continuous_feature] = ss.fit_transform(train_df[continuous_feature])"
   ]
  },
  {
   "cell_type": "code",
   "execution_count": 39,
   "metadata": {
    "ExecuteTime": {
     "end_time": "2019-11-21T14:56:34.687035Z",
     "start_time": "2019-11-21T14:56:34.677139Z"
    }
   },
   "outputs": [],
   "source": [
    "train_df, dev_df = train_test_split(train_df, test_size=0.2, random_state=2010)"
   ]
  },
  {
   "cell_type": "markdown",
   "metadata": {},
   "source": [
    "**Try use class weight ,but the result will be worse.**"
   ]
  },
  {
   "cell_type": "code",
   "execution_count": 40,
   "metadata": {},
   "outputs": [],
   "source": [
    "from sklearn.utils.class_weight import compute_class_weight\n",
    "from sklearn.metrics import mean_absolute_error"
   ]
  },
  {
   "cell_type": "code",
   "execution_count": 41,
   "metadata": {
    "ExecuteTime": {
     "end_time": "2019-11-21T14:56:34.694823Z",
     "start_time": "2019-11-21T14:56:34.689033Z"
    },
    "scrolled": true
   },
   "outputs": [
    {
     "name": "stdout",
     "output_type": "stream",
     "text": [
      "{0: 0.3099250936329588, 1: 0.408641975308642, 2: 0.5131782945736434, 3: 1.5539906103286385, 4: 2.507575757575758, 5: 15.761904761904763, 6: 7.355555555555555, 7: 9.194444444444445, 8: 36.77777777777778}\n"
     ]
    }
   ],
   "source": [
    "class_weight = compute_class_weight('balanced', [i for i in range(9)], train_df['review_idx'].values)\n",
    "weight = {}\n",
    "for idx, i in enumerate(class_weight):\n",
    "    weight[idx] = i\n",
    "print(weight)"
   ]
  },
  {
   "cell_type": "markdown",
   "metadata": {},
   "source": [
    "### Train"
   ]
  },
  {
   "cell_type": "markdown",
   "metadata": {},
   "source": [
    "**LogisticRegression**"
   ]
  },
  {
   "cell_type": "code",
   "execution_count": 42,
   "metadata": {},
   "outputs": [
    {
     "name": "stderr",
     "output_type": "stream",
     "text": [
      "[Parallel(n_jobs=1)]: Using backend SequentialBackend with 1 concurrent workers.\n",
      "[Parallel(n_jobs=1)]: Done   1 out of   1 | elapsed:    0.4s finished\n"
     ]
    },
    {
     "data": {
      "text/plain": [
       "LogisticRegression(C=100, class_weight=None, dual=False, fit_intercept=True,\n",
       "                   intercept_scaling=1, l1_ratio=None, max_iter=1000,\n",
       "                   multi_class='multinomial', n_jobs=None, penalty='l2',\n",
       "                   random_state=2019, solver='lbfgs', tol=0.0001, verbose=1,\n",
       "                   warm_start=False)"
      ]
     },
     "execution_count": 42,
     "metadata": {},
     "output_type": "execute_result"
    }
   ],
   "source": [
    "lr_model = LogisticRegression(C=100, random_state=2019, max_iter=1000, verbose=1, multi_class='multinomial', solver='lbfgs')#,class_weight=weight)\n",
    "lr_model.fit(train_df[features_columns], train_df['review_idx'].values)"
   ]
  },
  {
   "cell_type": "markdown",
   "metadata": {},
   "source": [
    "**Dev result**"
   ]
  },
  {
   "cell_type": "code",
   "execution_count": 43,
   "metadata": {},
   "outputs": [
    {
     "data": {
      "text/html": [
       "<div>\n",
       "<style scoped>\n",
       "    .dataframe tbody tr th:only-of-type {\n",
       "        vertical-align: middle;\n",
       "    }\n",
       "\n",
       "    .dataframe tbody tr th {\n",
       "        vertical-align: top;\n",
       "    }\n",
       "\n",
       "    .dataframe thead th {\n",
       "        text-align: right;\n",
       "    }\n",
       "</style>\n",
       "<table border=\"1\" class=\"dataframe\">\n",
       "  <thead>\n",
       "    <tr style=\"text-align: right;\">\n",
       "      <th></th>\n",
       "      <th>id</th>\n",
       "      <th>title</th>\n",
       "      <th>group</th>\n",
       "      <th>review</th>\n",
       "      <th>clustering_coefficient</th>\n",
       "      <th>pagerank</th>\n",
       "      <th>degree_centrality</th>\n",
       "      <th>closeness_centrality</th>\n",
       "      <th>betweenness_centrality</th>\n",
       "      <th>out_degree</th>\n",
       "      <th>group_id</th>\n",
       "      <th>review_idx</th>\n",
       "    </tr>\n",
       "    <tr>\n",
       "      <th>predict</th>\n",
       "      <th></th>\n",
       "      <th></th>\n",
       "      <th></th>\n",
       "      <th></th>\n",
       "      <th></th>\n",
       "      <th></th>\n",
       "      <th></th>\n",
       "      <th></th>\n",
       "      <th></th>\n",
       "      <th></th>\n",
       "      <th></th>\n",
       "      <th></th>\n",
       "    </tr>\n",
       "  </thead>\n",
       "  <tbody>\n",
       "    <tr>\n",
       "      <th>2.0</th>\n",
       "      <td>1</td>\n",
       "      <td>1</td>\n",
       "      <td>1</td>\n",
       "      <td>1</td>\n",
       "      <td>1</td>\n",
       "      <td>1</td>\n",
       "      <td>1</td>\n",
       "      <td>1</td>\n",
       "      <td>1</td>\n",
       "      <td>1</td>\n",
       "      <td>1</td>\n",
       "      <td>1</td>\n",
       "    </tr>\n",
       "    <tr>\n",
       "      <th>4.0</th>\n",
       "      <td>2</td>\n",
       "      <td>2</td>\n",
       "      <td>2</td>\n",
       "      <td>2</td>\n",
       "      <td>2</td>\n",
       "      <td>2</td>\n",
       "      <td>2</td>\n",
       "      <td>2</td>\n",
       "      <td>2</td>\n",
       "      <td>2</td>\n",
       "      <td>2</td>\n",
       "      <td>2</td>\n",
       "    </tr>\n",
       "    <tr>\n",
       "      <th>4.5</th>\n",
       "      <td>42</td>\n",
       "      <td>42</td>\n",
       "      <td>42</td>\n",
       "      <td>42</td>\n",
       "      <td>42</td>\n",
       "      <td>42</td>\n",
       "      <td>42</td>\n",
       "      <td>42</td>\n",
       "      <td>42</td>\n",
       "      <td>42</td>\n",
       "      <td>42</td>\n",
       "      <td>42</td>\n",
       "    </tr>\n",
       "    <tr>\n",
       "      <th>5.0</th>\n",
       "      <td>204</td>\n",
       "      <td>204</td>\n",
       "      <td>204</td>\n",
       "      <td>204</td>\n",
       "      <td>204</td>\n",
       "      <td>204</td>\n",
       "      <td>204</td>\n",
       "      <td>204</td>\n",
       "      <td>204</td>\n",
       "      <td>204</td>\n",
       "      <td>204</td>\n",
       "      <td>204</td>\n",
       "    </tr>\n",
       "  </tbody>\n",
       "</table>\n",
       "</div>"
      ],
      "text/plain": [
       "          id  title  group  review  clustering_coefficient  pagerank  \\\n",
       "predict                                                                \n",
       "2.0        1      1      1       1                       1         1   \n",
       "4.0        2      2      2       2                       2         2   \n",
       "4.5       42     42     42      42                      42        42   \n",
       "5.0      204    204    204     204                     204       204   \n",
       "\n",
       "         degree_centrality  closeness_centrality  betweenness_centrality  \\\n",
       "predict                                                                    \n",
       "2.0                      1                     1                       1   \n",
       "4.0                      2                     2                       2   \n",
       "4.5                     42                    42                      42   \n",
       "5.0                    204                   204                     204   \n",
       "\n",
       "         out_degree  group_id  review_idx  \n",
       "predict                                    \n",
       "2.0               1         1           1  \n",
       "4.0               2         2           2  \n",
       "4.5              42        42          42  \n",
       "5.0             204       204         204  "
      ]
     },
     "execution_count": 43,
     "metadata": {},
     "output_type": "execute_result"
    }
   ],
   "source": [
    "dev_df['predict'] = lr_model.predict(dev_df[features_columns])\n",
    "dev_df['predict'] = dev_df['predict'].apply(lambda x: label_list[x])\n",
    "dev_df.groupby(['predict']).count()"
   ]
  },
  {
   "cell_type": "code",
   "execution_count": 44,
   "metadata": {},
   "outputs": [
    {
     "data": {
      "text/html": [
       "<div>\n",
       "<style scoped>\n",
       "    .dataframe tbody tr th:only-of-type {\n",
       "        vertical-align: middle;\n",
       "    }\n",
       "\n",
       "    .dataframe tbody tr th {\n",
       "        vertical-align: top;\n",
       "    }\n",
       "\n",
       "    .dataframe thead th {\n",
       "        text-align: right;\n",
       "    }\n",
       "</style>\n",
       "<table border=\"1\" class=\"dataframe\">\n",
       "  <thead>\n",
       "    <tr style=\"text-align: right;\">\n",
       "      <th></th>\n",
       "      <th>id</th>\n",
       "      <th>title</th>\n",
       "      <th>group</th>\n",
       "      <th>clustering_coefficient</th>\n",
       "      <th>pagerank</th>\n",
       "      <th>degree_centrality</th>\n",
       "      <th>closeness_centrality</th>\n",
       "      <th>betweenness_centrality</th>\n",
       "      <th>out_degree</th>\n",
       "      <th>group_id</th>\n",
       "      <th>review_idx</th>\n",
       "      <th>predict</th>\n",
       "    </tr>\n",
       "    <tr>\n",
       "      <th>review</th>\n",
       "      <th></th>\n",
       "      <th></th>\n",
       "      <th></th>\n",
       "      <th></th>\n",
       "      <th></th>\n",
       "      <th></th>\n",
       "      <th></th>\n",
       "      <th></th>\n",
       "      <th></th>\n",
       "      <th></th>\n",
       "      <th></th>\n",
       "      <th></th>\n",
       "    </tr>\n",
       "  </thead>\n",
       "  <tbody>\n",
       "    <tr>\n",
       "      <th>1.0</th>\n",
       "      <td>3</td>\n",
       "      <td>3</td>\n",
       "      <td>3</td>\n",
       "      <td>3</td>\n",
       "      <td>3</td>\n",
       "      <td>3</td>\n",
       "      <td>3</td>\n",
       "      <td>3</td>\n",
       "      <td>3</td>\n",
       "      <td>3</td>\n",
       "      <td>3</td>\n",
       "      <td>3</td>\n",
       "    </tr>\n",
       "    <tr>\n",
       "      <th>2.0</th>\n",
       "      <td>4</td>\n",
       "      <td>4</td>\n",
       "      <td>4</td>\n",
       "      <td>4</td>\n",
       "      <td>4</td>\n",
       "      <td>4</td>\n",
       "      <td>4</td>\n",
       "      <td>4</td>\n",
       "      <td>4</td>\n",
       "      <td>4</td>\n",
       "      <td>4</td>\n",
       "      <td>4</td>\n",
       "    </tr>\n",
       "    <tr>\n",
       "      <th>2.5</th>\n",
       "      <td>3</td>\n",
       "      <td>3</td>\n",
       "      <td>3</td>\n",
       "      <td>3</td>\n",
       "      <td>3</td>\n",
       "      <td>3</td>\n",
       "      <td>3</td>\n",
       "      <td>3</td>\n",
       "      <td>3</td>\n",
       "      <td>3</td>\n",
       "      <td>3</td>\n",
       "      <td>3</td>\n",
       "    </tr>\n",
       "    <tr>\n",
       "      <th>3.0</th>\n",
       "      <td>20</td>\n",
       "      <td>20</td>\n",
       "      <td>20</td>\n",
       "      <td>20</td>\n",
       "      <td>20</td>\n",
       "      <td>20</td>\n",
       "      <td>20</td>\n",
       "      <td>20</td>\n",
       "      <td>20</td>\n",
       "      <td>20</td>\n",
       "      <td>20</td>\n",
       "      <td>20</td>\n",
       "    </tr>\n",
       "    <tr>\n",
       "      <th>3.5</th>\n",
       "      <td>24</td>\n",
       "      <td>24</td>\n",
       "      <td>24</td>\n",
       "      <td>24</td>\n",
       "      <td>24</td>\n",
       "      <td>24</td>\n",
       "      <td>24</td>\n",
       "      <td>24</td>\n",
       "      <td>24</td>\n",
       "      <td>24</td>\n",
       "      <td>24</td>\n",
       "      <td>24</td>\n",
       "    </tr>\n",
       "    <tr>\n",
       "      <th>4.0</th>\n",
       "      <td>50</td>\n",
       "      <td>50</td>\n",
       "      <td>50</td>\n",
       "      <td>50</td>\n",
       "      <td>50</td>\n",
       "      <td>50</td>\n",
       "      <td>50</td>\n",
       "      <td>50</td>\n",
       "      <td>50</td>\n",
       "      <td>50</td>\n",
       "      <td>50</td>\n",
       "      <td>50</td>\n",
       "    </tr>\n",
       "    <tr>\n",
       "      <th>4.5</th>\n",
       "      <td>66</td>\n",
       "      <td>66</td>\n",
       "      <td>66</td>\n",
       "      <td>66</td>\n",
       "      <td>66</td>\n",
       "      <td>66</td>\n",
       "      <td>66</td>\n",
       "      <td>66</td>\n",
       "      <td>66</td>\n",
       "      <td>66</td>\n",
       "      <td>66</td>\n",
       "      <td>66</td>\n",
       "    </tr>\n",
       "    <tr>\n",
       "      <th>5.0</th>\n",
       "      <td>79</td>\n",
       "      <td>79</td>\n",
       "      <td>79</td>\n",
       "      <td>79</td>\n",
       "      <td>79</td>\n",
       "      <td>79</td>\n",
       "      <td>79</td>\n",
       "      <td>79</td>\n",
       "      <td>79</td>\n",
       "      <td>79</td>\n",
       "      <td>79</td>\n",
       "      <td>79</td>\n",
       "    </tr>\n",
       "  </tbody>\n",
       "</table>\n",
       "</div>"
      ],
      "text/plain": [
       "        id  title  group  clustering_coefficient  pagerank  degree_centrality  \\\n",
       "review                                                                          \n",
       "1.0      3      3      3                       3         3                  3   \n",
       "2.0      4      4      4                       4         4                  4   \n",
       "2.5      3      3      3                       3         3                  3   \n",
       "3.0     20     20     20                      20        20                 20   \n",
       "3.5     24     24     24                      24        24                 24   \n",
       "4.0     50     50     50                      50        50                 50   \n",
       "4.5     66     66     66                      66        66                 66   \n",
       "5.0     79     79     79                      79        79                 79   \n",
       "\n",
       "        closeness_centrality  betweenness_centrality  out_degree  group_id  \\\n",
       "review                                                                       \n",
       "1.0                        3                       3           3         3   \n",
       "2.0                        4                       4           4         4   \n",
       "2.5                        3                       3           3         3   \n",
       "3.0                       20                      20          20        20   \n",
       "3.5                       24                      24          24        24   \n",
       "4.0                       50                      50          50        50   \n",
       "4.5                       66                      66          66        66   \n",
       "5.0                       79                      79          79        79   \n",
       "\n",
       "        review_idx  predict  \n",
       "review                       \n",
       "1.0              3        3  \n",
       "2.0              4        4  \n",
       "2.5              3        3  \n",
       "3.0             20       20  \n",
       "3.5             24       24  \n",
       "4.0             50       50  \n",
       "4.5             66       66  \n",
       "5.0             79       79  "
      ]
     },
     "execution_count": 44,
     "metadata": {},
     "output_type": "execute_result"
    }
   ],
   "source": [
    "dev_df.groupby('review').count()"
   ]
  },
  {
   "cell_type": "markdown",
   "metadata": {},
   "source": [
    "**Compute the mae of the dev dataset.**"
   ]
  },
  {
   "cell_type": "code",
   "execution_count": 45,
   "metadata": {},
   "outputs": [
    {
     "data": {
      "text/plain": [
       "0.7329317269076305"
      ]
     },
     "execution_count": 45,
     "metadata": {},
     "output_type": "execute_result"
    }
   ],
   "source": [
    "mean_absolute_error(dev_df['review'].values, dev_df['predict'].values)"
   ]
  },
  {
   "cell_type": "markdown",
   "metadata": {},
   "source": [
    "**MLPClassifier**"
   ]
  },
  {
   "cell_type": "code",
   "execution_count": 46,
   "metadata": {},
   "outputs": [],
   "source": [
    "from sklearn.neural_network import MLPClassifier, MLPRegressor"
   ]
  },
  {
   "cell_type": "code",
   "execution_count": 47,
   "metadata": {},
   "outputs": [
    {
     "name": "stdout",
     "output_type": "stream",
     "text": [
      "Iteration 1, loss = 1.98596302\n",
      "Validation score: 0.271357\n",
      "Iteration 2, loss = 1.88661903\n",
      "Validation score: 0.311558\n",
      "Iteration 3, loss = 1.80464730\n",
      "Validation score: 0.331658\n",
      "Iteration 4, loss = 1.73740245\n",
      "Validation score: 0.356784\n",
      "Iteration 5, loss = 1.68475377\n",
      "Validation score: 0.371859\n",
      "Iteration 6, loss = 1.64312233\n",
      "Validation score: 0.371859\n",
      "Iteration 7, loss = 1.61159308\n",
      "Validation score: 0.356784\n",
      "Iteration 8, loss = 1.58976854\n",
      "Validation score: 0.346734\n",
      "Iteration 9, loss = 1.56948682\n",
      "Validation score: 0.341709\n",
      "Iteration 10, loss = 1.55694116\n",
      "Validation score: 0.336683\n",
      "Iteration 11, loss = 1.54502510\n",
      "Validation score: 0.346734\n",
      "Iteration 12, loss = 1.53503508\n",
      "Validation score: 0.331658\n",
      "Iteration 13, loss = 1.52820437\n",
      "Validation score: 0.336683\n",
      "Iteration 14, loss = 1.52108584\n",
      "Validation score: 0.331658\n",
      "Iteration 15, loss = 1.51579331\n",
      "Validation score: 0.321608\n",
      "Iteration 16, loss = 1.51101418\n",
      "Validation score: 0.321608\n",
      "Validation score did not improve more than tol=0.000100 for 10 consecutive epochs. Stopping.\n"
     ]
    }
   ],
   "source": [
    "mlp = MLPClassifier(solver='adam',validation_fraction=0.2, verbose=20, max_iter= 1000, random_state=2019, early_stopping=True)\n",
    "mlp = mlp.fit(train_df[features_columns], train_df['review_idx'].values)"
   ]
  },
  {
   "cell_type": "code",
   "execution_count": 48,
   "metadata": {},
   "outputs": [
    {
     "data": {
      "text/html": [
       "<div>\n",
       "<style scoped>\n",
       "    .dataframe tbody tr th:only-of-type {\n",
       "        vertical-align: middle;\n",
       "    }\n",
       "\n",
       "    .dataframe tbody tr th {\n",
       "        vertical-align: top;\n",
       "    }\n",
       "\n",
       "    .dataframe thead th {\n",
       "        text-align: right;\n",
       "    }\n",
       "</style>\n",
       "<table border=\"1\" class=\"dataframe\">\n",
       "  <thead>\n",
       "    <tr style=\"text-align: right;\">\n",
       "      <th></th>\n",
       "      <th>id</th>\n",
       "      <th>title</th>\n",
       "      <th>group</th>\n",
       "      <th>review</th>\n",
       "      <th>clustering_coefficient</th>\n",
       "      <th>pagerank</th>\n",
       "      <th>degree_centrality</th>\n",
       "      <th>closeness_centrality</th>\n",
       "      <th>betweenness_centrality</th>\n",
       "      <th>out_degree</th>\n",
       "      <th>group_id</th>\n",
       "      <th>review_idx</th>\n",
       "    </tr>\n",
       "    <tr>\n",
       "      <th>predict</th>\n",
       "      <th></th>\n",
       "      <th></th>\n",
       "      <th></th>\n",
       "      <th></th>\n",
       "      <th></th>\n",
       "      <th></th>\n",
       "      <th></th>\n",
       "      <th></th>\n",
       "      <th></th>\n",
       "      <th></th>\n",
       "      <th></th>\n",
       "      <th></th>\n",
       "    </tr>\n",
       "  </thead>\n",
       "  <tbody>\n",
       "    <tr>\n",
       "      <th>4.0</th>\n",
       "      <td>21</td>\n",
       "      <td>21</td>\n",
       "      <td>21</td>\n",
       "      <td>21</td>\n",
       "      <td>21</td>\n",
       "      <td>21</td>\n",
       "      <td>21</td>\n",
       "      <td>21</td>\n",
       "      <td>21</td>\n",
       "      <td>21</td>\n",
       "      <td>21</td>\n",
       "      <td>21</td>\n",
       "    </tr>\n",
       "    <tr>\n",
       "      <th>4.5</th>\n",
       "      <td>82</td>\n",
       "      <td>82</td>\n",
       "      <td>82</td>\n",
       "      <td>82</td>\n",
       "      <td>82</td>\n",
       "      <td>82</td>\n",
       "      <td>82</td>\n",
       "      <td>82</td>\n",
       "      <td>82</td>\n",
       "      <td>82</td>\n",
       "      <td>82</td>\n",
       "      <td>82</td>\n",
       "    </tr>\n",
       "    <tr>\n",
       "      <th>5.0</th>\n",
       "      <td>146</td>\n",
       "      <td>146</td>\n",
       "      <td>146</td>\n",
       "      <td>146</td>\n",
       "      <td>146</td>\n",
       "      <td>146</td>\n",
       "      <td>146</td>\n",
       "      <td>146</td>\n",
       "      <td>146</td>\n",
       "      <td>146</td>\n",
       "      <td>146</td>\n",
       "      <td>146</td>\n",
       "    </tr>\n",
       "  </tbody>\n",
       "</table>\n",
       "</div>"
      ],
      "text/plain": [
       "          id  title  group  review  clustering_coefficient  pagerank  \\\n",
       "predict                                                                \n",
       "4.0       21     21     21      21                      21        21   \n",
       "4.5       82     82     82      82                      82        82   \n",
       "5.0      146    146    146     146                     146       146   \n",
       "\n",
       "         degree_centrality  closeness_centrality  betweenness_centrality  \\\n",
       "predict                                                                    \n",
       "4.0                     21                    21                      21   \n",
       "4.5                     82                    82                      82   \n",
       "5.0                    146                   146                     146   \n",
       "\n",
       "         out_degree  group_id  review_idx  \n",
       "predict                                    \n",
       "4.0              21        21          21  \n",
       "4.5              82        82          82  \n",
       "5.0             146       146         146  "
      ]
     },
     "execution_count": 48,
     "metadata": {},
     "output_type": "execute_result"
    }
   ],
   "source": [
    "dev_df['predict'] = mlp.predict(dev_df[features_columns])\n",
    "dev_df['predict'] = dev_df['predict'].apply(lambda x: label_list[x])\n",
    "dev_df.groupby(['predict']).count()"
   ]
  },
  {
   "cell_type": "code",
   "execution_count": 49,
   "metadata": {
    "scrolled": true
   },
   "outputs": [
    {
     "data": {
      "text/html": [
       "<div>\n",
       "<style scoped>\n",
       "    .dataframe tbody tr th:only-of-type {\n",
       "        vertical-align: middle;\n",
       "    }\n",
       "\n",
       "    .dataframe tbody tr th {\n",
       "        vertical-align: top;\n",
       "    }\n",
       "\n",
       "    .dataframe thead th {\n",
       "        text-align: right;\n",
       "    }\n",
       "</style>\n",
       "<table border=\"1\" class=\"dataframe\">\n",
       "  <thead>\n",
       "    <tr style=\"text-align: right;\">\n",
       "      <th></th>\n",
       "      <th>id</th>\n",
       "      <th>title</th>\n",
       "      <th>group</th>\n",
       "      <th>clustering_coefficient</th>\n",
       "      <th>pagerank</th>\n",
       "      <th>degree_centrality</th>\n",
       "      <th>closeness_centrality</th>\n",
       "      <th>betweenness_centrality</th>\n",
       "      <th>out_degree</th>\n",
       "      <th>group_id</th>\n",
       "      <th>review_idx</th>\n",
       "      <th>predict</th>\n",
       "    </tr>\n",
       "    <tr>\n",
       "      <th>review</th>\n",
       "      <th></th>\n",
       "      <th></th>\n",
       "      <th></th>\n",
       "      <th></th>\n",
       "      <th></th>\n",
       "      <th></th>\n",
       "      <th></th>\n",
       "      <th></th>\n",
       "      <th></th>\n",
       "      <th></th>\n",
       "      <th></th>\n",
       "      <th></th>\n",
       "    </tr>\n",
       "  </thead>\n",
       "  <tbody>\n",
       "    <tr>\n",
       "      <th>1.0</th>\n",
       "      <td>3</td>\n",
       "      <td>3</td>\n",
       "      <td>3</td>\n",
       "      <td>3</td>\n",
       "      <td>3</td>\n",
       "      <td>3</td>\n",
       "      <td>3</td>\n",
       "      <td>3</td>\n",
       "      <td>3</td>\n",
       "      <td>3</td>\n",
       "      <td>3</td>\n",
       "      <td>3</td>\n",
       "    </tr>\n",
       "    <tr>\n",
       "      <th>2.0</th>\n",
       "      <td>4</td>\n",
       "      <td>4</td>\n",
       "      <td>4</td>\n",
       "      <td>4</td>\n",
       "      <td>4</td>\n",
       "      <td>4</td>\n",
       "      <td>4</td>\n",
       "      <td>4</td>\n",
       "      <td>4</td>\n",
       "      <td>4</td>\n",
       "      <td>4</td>\n",
       "      <td>4</td>\n",
       "    </tr>\n",
       "    <tr>\n",
       "      <th>2.5</th>\n",
       "      <td>3</td>\n",
       "      <td>3</td>\n",
       "      <td>3</td>\n",
       "      <td>3</td>\n",
       "      <td>3</td>\n",
       "      <td>3</td>\n",
       "      <td>3</td>\n",
       "      <td>3</td>\n",
       "      <td>3</td>\n",
       "      <td>3</td>\n",
       "      <td>3</td>\n",
       "      <td>3</td>\n",
       "    </tr>\n",
       "    <tr>\n",
       "      <th>3.0</th>\n",
       "      <td>20</td>\n",
       "      <td>20</td>\n",
       "      <td>20</td>\n",
       "      <td>20</td>\n",
       "      <td>20</td>\n",
       "      <td>20</td>\n",
       "      <td>20</td>\n",
       "      <td>20</td>\n",
       "      <td>20</td>\n",
       "      <td>20</td>\n",
       "      <td>20</td>\n",
       "      <td>20</td>\n",
       "    </tr>\n",
       "    <tr>\n",
       "      <th>3.5</th>\n",
       "      <td>24</td>\n",
       "      <td>24</td>\n",
       "      <td>24</td>\n",
       "      <td>24</td>\n",
       "      <td>24</td>\n",
       "      <td>24</td>\n",
       "      <td>24</td>\n",
       "      <td>24</td>\n",
       "      <td>24</td>\n",
       "      <td>24</td>\n",
       "      <td>24</td>\n",
       "      <td>24</td>\n",
       "    </tr>\n",
       "    <tr>\n",
       "      <th>4.0</th>\n",
       "      <td>50</td>\n",
       "      <td>50</td>\n",
       "      <td>50</td>\n",
       "      <td>50</td>\n",
       "      <td>50</td>\n",
       "      <td>50</td>\n",
       "      <td>50</td>\n",
       "      <td>50</td>\n",
       "      <td>50</td>\n",
       "      <td>50</td>\n",
       "      <td>50</td>\n",
       "      <td>50</td>\n",
       "    </tr>\n",
       "    <tr>\n",
       "      <th>4.5</th>\n",
       "      <td>66</td>\n",
       "      <td>66</td>\n",
       "      <td>66</td>\n",
       "      <td>66</td>\n",
       "      <td>66</td>\n",
       "      <td>66</td>\n",
       "      <td>66</td>\n",
       "      <td>66</td>\n",
       "      <td>66</td>\n",
       "      <td>66</td>\n",
       "      <td>66</td>\n",
       "      <td>66</td>\n",
       "    </tr>\n",
       "    <tr>\n",
       "      <th>5.0</th>\n",
       "      <td>79</td>\n",
       "      <td>79</td>\n",
       "      <td>79</td>\n",
       "      <td>79</td>\n",
       "      <td>79</td>\n",
       "      <td>79</td>\n",
       "      <td>79</td>\n",
       "      <td>79</td>\n",
       "      <td>79</td>\n",
       "      <td>79</td>\n",
       "      <td>79</td>\n",
       "      <td>79</td>\n",
       "    </tr>\n",
       "  </tbody>\n",
       "</table>\n",
       "</div>"
      ],
      "text/plain": [
       "        id  title  group  clustering_coefficient  pagerank  degree_centrality  \\\n",
       "review                                                                          \n",
       "1.0      3      3      3                       3         3                  3   \n",
       "2.0      4      4      4                       4         4                  4   \n",
       "2.5      3      3      3                       3         3                  3   \n",
       "3.0     20     20     20                      20        20                 20   \n",
       "3.5     24     24     24                      24        24                 24   \n",
       "4.0     50     50     50                      50        50                 50   \n",
       "4.5     66     66     66                      66        66                 66   \n",
       "5.0     79     79     79                      79        79                 79   \n",
       "\n",
       "        closeness_centrality  betweenness_centrality  out_degree  group_id  \\\n",
       "review                                                                       \n",
       "1.0                        3                       3           3         3   \n",
       "2.0                        4                       4           4         4   \n",
       "2.5                        3                       3           3         3   \n",
       "3.0                       20                      20          20        20   \n",
       "3.5                       24                      24          24        24   \n",
       "4.0                       50                      50          50        50   \n",
       "4.5                       66                      66          66        66   \n",
       "5.0                       79                      79          79        79   \n",
       "\n",
       "        review_idx  predict  \n",
       "review                       \n",
       "1.0              3        3  \n",
       "2.0              4        4  \n",
       "2.5              3        3  \n",
       "3.0             20       20  \n",
       "3.5             24       24  \n",
       "4.0             50       50  \n",
       "4.5             66       66  \n",
       "5.0             79       79  "
      ]
     },
     "execution_count": 49,
     "metadata": {},
     "output_type": "execute_result"
    }
   ],
   "source": [
    "dev_df.groupby('review').count()"
   ]
  },
  {
   "cell_type": "markdown",
   "metadata": {},
   "source": [
    "**Compute the mae of the dev dataset.**"
   ]
  },
  {
   "cell_type": "code",
   "execution_count": 50,
   "metadata": {},
   "outputs": [
    {
     "data": {
      "text/plain": [
       "0.6847389558232931"
      ]
     },
     "execution_count": 50,
     "metadata": {},
     "output_type": "execute_result"
    }
   ],
   "source": [
    "mean_absolute_error(dev_df['review'].values, dev_df['predict'].values)"
   ]
  },
  {
   "cell_type": "markdown",
   "metadata": {},
   "source": [
    "**MLPRegressor**"
   ]
  },
  {
   "cell_type": "code",
   "execution_count": 51,
   "metadata": {},
   "outputs": [
    {
     "name": "stdout",
     "output_type": "stream",
     "text": [
      "Iteration 1, loss = 8.76382688\n",
      "Iteration 2, loss = 6.75223432\n",
      "Iteration 3, loss = 4.98033953\n",
      "Iteration 4, loss = 3.48333286\n",
      "Iteration 5, loss = 2.26705532\n",
      "Iteration 6, loss = 1.42886599\n",
      "Iteration 7, loss = 0.99871239\n",
      "Iteration 8, loss = 0.89566560\n",
      "Iteration 9, loss = 0.86056551\n",
      "Iteration 10, loss = 0.75551484\n",
      "Iteration 11, loss = 0.63078474\n",
      "Iteration 12, loss = 0.55290890\n",
      "Iteration 13, loss = 0.51063642\n",
      "Iteration 14, loss = 0.47879838\n",
      "Iteration 15, loss = 0.44915593\n",
      "Iteration 16, loss = 0.42468994\n",
      "Iteration 17, loss = 0.40840781\n",
      "Iteration 18, loss = 0.39611100\n",
      "Iteration 19, loss = 0.38480678\n",
      "Iteration 20, loss = 0.37564759\n",
      "Iteration 21, loss = 0.36812217\n",
      "Iteration 22, loss = 0.36185350\n",
      "Iteration 23, loss = 0.35732751\n",
      "Iteration 24, loss = 0.35234029\n",
      "Iteration 25, loss = 0.34840598\n",
      "Iteration 26, loss = 0.34455293\n",
      "Iteration 27, loss = 0.34083512\n",
      "Iteration 28, loss = 0.33770517\n",
      "Iteration 29, loss = 0.33485768\n",
      "Iteration 30, loss = 0.33155085\n",
      "Iteration 31, loss = 0.32893059\n",
      "Iteration 32, loss = 0.32617414\n",
      "Iteration 33, loss = 0.32376826\n",
      "Iteration 34, loss = 0.32157585\n",
      "Iteration 35, loss = 0.31883869\n",
      "Iteration 36, loss = 0.31659235\n",
      "Iteration 37, loss = 0.31462440\n",
      "Iteration 38, loss = 0.31287814\n",
      "Iteration 39, loss = 0.31071137\n",
      "Iteration 40, loss = 0.30879662\n",
      "Iteration 41, loss = 0.30704838\n",
      "Iteration 42, loss = 0.30570310\n",
      "Iteration 43, loss = 0.30403579\n",
      "Iteration 44, loss = 0.30197794\n",
      "Iteration 45, loss = 0.30046462\n",
      "Iteration 46, loss = 0.29913597\n",
      "Iteration 47, loss = 0.29705643\n",
      "Iteration 48, loss = 0.29620395\n",
      "Iteration 49, loss = 0.29459896\n",
      "Iteration 50, loss = 0.29352923\n",
      "Iteration 51, loss = 0.29277274\n",
      "Iteration 52, loss = 0.29034274\n",
      "Iteration 53, loss = 0.28946805\n",
      "Iteration 54, loss = 0.28821527\n",
      "Iteration 55, loss = 0.28694165\n",
      "Iteration 56, loss = 0.28614813\n",
      "Iteration 57, loss = 0.28506102\n",
      "Iteration 58, loss = 0.28385801\n",
      "Iteration 59, loss = 0.28293980\n",
      "Iteration 60, loss = 0.28250653\n",
      "Iteration 61, loss = 0.28109924\n",
      "Iteration 62, loss = 0.28022734\n",
      "Iteration 63, loss = 0.27969814\n",
      "Iteration 64, loss = 0.27939438\n",
      "Iteration 65, loss = 0.27794880\n",
      "Iteration 66, loss = 0.27725636\n",
      "Iteration 67, loss = 0.27677321\n",
      "Iteration 68, loss = 0.27596166\n",
      "Iteration 69, loss = 0.27547051\n",
      "Iteration 70, loss = 0.27484448\n",
      "Iteration 71, loss = 0.27520045\n",
      "Iteration 72, loss = 0.27312981\n",
      "Iteration 73, loss = 0.27319888\n",
      "Iteration 74, loss = 0.27274873\n",
      "Iteration 75, loss = 0.27183272\n",
      "Iteration 76, loss = 0.27175249\n",
      "Iteration 77, loss = 0.27094117\n",
      "Iteration 78, loss = 0.27062569\n",
      "Iteration 79, loss = 0.27040105\n",
      "Iteration 80, loss = 0.26963529\n",
      "Iteration 81, loss = 0.26954237\n",
      "Iteration 82, loss = 0.26845911\n",
      "Iteration 83, loss = 0.26793735\n",
      "Iteration 84, loss = 0.26762122\n",
      "Iteration 85, loss = 0.26857878\n",
      "Iteration 86, loss = 0.26849961\n",
      "Iteration 87, loss = 0.26787908\n",
      "Iteration 88, loss = 0.26619126\n",
      "Iteration 89, loss = 0.26554038\n",
      "Iteration 90, loss = 0.26543743\n",
      "Iteration 91, loss = 0.26490718\n",
      "Iteration 92, loss = 0.26465146\n",
      "Iteration 93, loss = 0.26411192\n",
      "Iteration 94, loss = 0.26453553\n",
      "Iteration 95, loss = 0.26334630\n",
      "Iteration 96, loss = 0.26315713\n",
      "Iteration 97, loss = 0.26262476\n",
      "Iteration 98, loss = 0.26255133\n",
      "Iteration 99, loss = 0.26453128\n",
      "Iteration 100, loss = 0.26405198\n",
      "Iteration 101, loss = 0.26188216\n",
      "Iteration 102, loss = 0.26094858\n",
      "Iteration 103, loss = 0.26076071\n",
      "Iteration 104, loss = 0.26010632\n",
      "Iteration 105, loss = 0.25977665\n",
      "Iteration 106, loss = 0.25923041\n",
      "Iteration 107, loss = 0.25922816\n",
      "Iteration 108, loss = 0.25910060\n",
      "Iteration 109, loss = 0.25843614\n",
      "Iteration 110, loss = 0.25836753\n",
      "Iteration 111, loss = 0.25782484\n",
      "Iteration 112, loss = 0.25695507\n",
      "Iteration 113, loss = 0.25817758\n",
      "Iteration 114, loss = 0.25640785\n",
      "Iteration 115, loss = 0.25706533\n",
      "Iteration 116, loss = 0.25617748\n",
      "Iteration 117, loss = 0.25550575\n",
      "Iteration 118, loss = 0.25545596\n",
      "Iteration 119, loss = 0.25519436\n",
      "Iteration 120, loss = 0.25460871\n",
      "Iteration 121, loss = 0.25452754\n",
      "Iteration 122, loss = 0.25478871\n",
      "Iteration 123, loss = 0.25441736\n",
      "Iteration 124, loss = 0.25333885\n",
      "Iteration 125, loss = 0.25308694\n",
      "Iteration 126, loss = 0.25293523\n",
      "Iteration 127, loss = 0.25249751\n",
      "Iteration 128, loss = 0.25237620\n",
      "Iteration 129, loss = 0.25196917\n",
      "Iteration 130, loss = 0.25171568\n",
      "Iteration 131, loss = 0.25136961\n",
      "Iteration 132, loss = 0.25112417\n",
      "Iteration 133, loss = 0.25148551\n",
      "Iteration 134, loss = 0.25114041\n",
      "Iteration 135, loss = 0.25122536\n",
      "Iteration 136, loss = 0.25015452\n",
      "Iteration 137, loss = 0.25025791\n",
      "Iteration 138, loss = 0.24970974\n",
      "Iteration 139, loss = 0.24972415\n",
      "Iteration 140, loss = 0.24961390\n",
      "Iteration 141, loss = 0.24969549\n",
      "Iteration 142, loss = 0.24883110\n",
      "Iteration 143, loss = 0.24938047\n",
      "Iteration 144, loss = 0.24855611\n",
      "Iteration 145, loss = 0.24865914\n",
      "Iteration 146, loss = 0.24907269\n",
      "Iteration 147, loss = 0.24796743\n",
      "Iteration 148, loss = 0.24792025\n",
      "Iteration 149, loss = 0.24822572\n",
      "Iteration 150, loss = 0.24860585\n",
      "Iteration 151, loss = 0.24683563\n",
      "Iteration 152, loss = 0.24736196\n",
      "Iteration 153, loss = 0.24684961\n",
      "Iteration 154, loss = 0.24641895\n",
      "Iteration 155, loss = 0.24660932\n",
      "Iteration 156, loss = 0.24632467\n",
      "Iteration 157, loss = 0.24596538\n",
      "Iteration 158, loss = 0.24598533\n",
      "Iteration 159, loss = 0.24551104\n",
      "Iteration 160, loss = 0.24583258\n",
      "Iteration 161, loss = 0.24539836\n",
      "Iteration 162, loss = 0.24507663\n",
      "Iteration 163, loss = 0.24498068\n",
      "Iteration 164, loss = 0.24486843\n",
      "Iteration 165, loss = 0.24483904\n",
      "Iteration 166, loss = 0.24477195\n",
      "Iteration 167, loss = 0.24423247\n",
      "Iteration 168, loss = 0.24397703\n",
      "Iteration 169, loss = 0.24403350\n",
      "Iteration 170, loss = 0.24370684\n",
      "Iteration 171, loss = 0.24381845\n",
      "Iteration 172, loss = 0.24344248\n",
      "Iteration 173, loss = 0.24361281\n",
      "Iteration 174, loss = 0.24301519\n",
      "Iteration 175, loss = 0.24332562\n",
      "Iteration 176, loss = 0.24261002\n",
      "Iteration 177, loss = 0.24248133\n",
      "Iteration 178, loss = 0.24234525\n",
      "Iteration 179, loss = 0.24247406\n",
      "Iteration 180, loss = 0.24212682\n",
      "Iteration 181, loss = 0.24194824\n",
      "Iteration 182, loss = 0.24206428\n",
      "Iteration 183, loss = 0.24160701\n",
      "Iteration 184, loss = 0.24204347\n",
      "Iteration 185, loss = 0.24311085\n",
      "Iteration 186, loss = 0.24149333\n",
      "Iteration 187, loss = 0.24148397\n",
      "Iteration 188, loss = 0.24173478\n",
      "Iteration 189, loss = 0.24114816\n",
      "Iteration 190, loss = 0.24209967\n",
      "Iteration 191, loss = 0.24185134\n",
      "Iteration 192, loss = 0.24071842\n",
      "Iteration 193, loss = 0.24060817\n",
      "Iteration 194, loss = 0.24039197\n",
      "Iteration 195, loss = 0.24038851\n",
      "Iteration 196, loss = 0.24121887\n",
      "Iteration 197, loss = 0.24024867\n",
      "Iteration 198, loss = 0.24031528\n",
      "Iteration 199, loss = 0.23983972\n",
      "Iteration 200, loss = 0.23937889\n",
      "Iteration 201, loss = 0.23909592\n",
      "Iteration 202, loss = 0.23992970\n",
      "Iteration 203, loss = 0.23880278\n",
      "Iteration 204, loss = 0.23962877\n",
      "Iteration 205, loss = 0.23901584\n",
      "Iteration 206, loss = 0.23976111\n",
      "Iteration 207, loss = 0.23997735\n",
      "Iteration 208, loss = 0.23924581\n",
      "Iteration 209, loss = 0.23773169\n",
      "Iteration 210, loss = 0.23985311\n",
      "Iteration 211, loss = 0.23895223\n",
      "Iteration 212, loss = 0.23840850\n",
      "Iteration 213, loss = 0.23773555\n",
      "Iteration 214, loss = 0.23786950\n",
      "Iteration 215, loss = 0.23742693\n",
      "Iteration 216, loss = 0.23743203\n",
      "Iteration 217, loss = 0.23694525\n",
      "Iteration 218, loss = 0.23678272\n",
      "Iteration 219, loss = 0.23706958\n",
      "Iteration 220, loss = 0.23664260\n",
      "Iteration 221, loss = 0.23649616\n",
      "Iteration 222, loss = 0.23622502\n",
      "Iteration 223, loss = 0.23604486\n",
      "Iteration 224, loss = 0.23588850\n",
      "Iteration 225, loss = 0.23597828\n",
      "Iteration 226, loss = 0.23581758\n",
      "Iteration 227, loss = 0.23630411\n",
      "Iteration 228, loss = 0.23539872\n",
      "Iteration 229, loss = 0.23556951\n",
      "Iteration 230, loss = 0.23555440\n",
      "Iteration 231, loss = 0.23605661\n",
      "Iteration 232, loss = 0.23620255\n",
      "Iteration 233, loss = 0.23434381\n",
      "Iteration 234, loss = 0.23624410\n",
      "Iteration 235, loss = 0.23565980\n",
      "Iteration 236, loss = 0.23623186\n",
      "Iteration 237, loss = 0.23539574\n",
      "Iteration 238, loss = 0.23514420\n",
      "Iteration 239, loss = 0.23578948\n",
      "Iteration 240, loss = 0.23579267\n",
      "Iteration 241, loss = 0.23445098\n",
      "Iteration 242, loss = 0.23437776\n",
      "Iteration 243, loss = 0.23484736\n",
      "Iteration 244, loss = 0.23469696\n",
      "Training loss did not improve more than tol=0.000100 for 10 consecutive epochs. Stopping.\n"
     ]
    },
    {
     "data": {
      "text/plain": [
       "MLPRegressor(activation='relu', alpha=0.0001, batch_size='auto', beta_1=0.9,\n",
       "             beta_2=0.999, early_stopping=False, epsilon=1e-08,\n",
       "             hidden_layer_sizes=[50, 50], learning_rate='constant',\n",
       "             learning_rate_init=0.001, max_iter=1000, momentum=0.9,\n",
       "             n_iter_no_change=10, nesterovs_momentum=True, power_t=0.5,\n",
       "             random_state=2019, shuffle=True, solver='adam', tol=0.0001,\n",
       "             validation_fraction=0.2, verbose=20, warm_start=False)"
      ]
     },
     "execution_count": 51,
     "metadata": {},
     "output_type": "execute_result"
    }
   ],
   "source": [
    "mlpr = MLPRegressor(solver='adam', hidden_layer_sizes=[50,50],validation_fraction=0.2, verbose=20, max_iter=1000, random_state=2019)\n",
    "mlpr.fit(train_df[features_columns], train_df['review'].values)"
   ]
  },
  {
   "cell_type": "markdown",
   "metadata": {},
   "source": [
    "**Compute the mae of the dev dataset**"
   ]
  },
  {
   "cell_type": "code",
   "execution_count": 52,
   "metadata": {},
   "outputs": [
    {
     "data": {
      "text/plain": [
       "0.632315914964647"
      ]
     },
     "execution_count": 52,
     "metadata": {},
     "output_type": "execute_result"
    }
   ],
   "source": [
    "dev_df['predict'] = mlpr.predict(dev_df[features_columns])\n",
    "mean_absolute_error(dev_df['review'].values, dev_df['predict'].values)"
   ]
  },
  {
   "cell_type": "markdown",
   "metadata": {},
   "source": [
    "**!!!Although the scores are discrete, the relationship between the scores is considered more reasonable as a regression problem.!!!**"
   ]
  },
  {
   "cell_type": "markdown",
   "metadata": {},
   "source": [
    "**Since the model is finally evaluated using the MAE, the problem is considered a regression problem, which leads to more accurate results, resulting in a higher score, a lower mean absolute error.**"
   ]
  },
  {
   "cell_type": "code",
   "execution_count": 53,
   "metadata": {},
   "outputs": [],
   "source": [
    "test_df = test_df.fillna(0)\n",
    "test_df['review'] = mlpr.predict(test_df[features_columns])\n",
    "test_df['review'] = test_df['review'].apply(lambda x: round(x, 2))"
   ]
  },
  {
   "cell_type": "code",
   "execution_count": 54,
   "metadata": {
    "ExecuteTime": {
     "end_time": "2019-11-21T14:56:34.991831Z",
     "start_time": "2019-11-21T14:56:34.697525Z"
    },
    "scrolled": false
   },
   "outputs": [],
   "source": [
    "test_df.to_csv('./reviewTest.csv', index=False, columns=['id', 'title', 'group', 'review'])"
   ]
  },
  {
   "cell_type": "markdown",
   "metadata": {
    "ExecuteTime": {
     "end_time": "2019-11-15T16:48:20.857169Z",
     "start_time": "2019-11-15T16:48:20.852183Z"
    }
   },
   "source": [
    "---"
   ]
  },
  {
   "cell_type": "markdown",
   "metadata": {},
   "source": [
    "## Part3"
   ]
  },
  {
   "cell_type": "code",
   "execution_count": 55,
   "metadata": {},
   "outputs": [],
   "source": [
    "from sklearn.ensemble import GradientBoostingClassifier\n",
    "from sklearn.linear_model import LogisticRegression"
   ]
  },
  {
   "cell_type": "markdown",
   "metadata": {},
   "source": [
    "**Read data**"
   ]
  },
  {
   "cell_type": "code",
   "execution_count": 56,
   "metadata": {
    "ExecuteTime": {
     "end_time": "2019-11-21T14:56:35.200846Z",
     "start_time": "2019-11-21T14:56:35.162619Z"
    }
   },
   "outputs": [],
   "source": [
    "link_train_df = pd.read_csv('./linkTrain.csv')\n",
    "link_test_df = pd.read_csv('./linkTest.csv')"
   ]
  },
  {
   "cell_type": "markdown",
   "metadata": {},
   "source": [
    "**Trans the directed grap to undirected graph**"
   ]
  },
  {
   "cell_type": "code",
   "execution_count": 57,
   "metadata": {
    "ExecuteTime": {
     "end_time": "2019-11-21T14:56:35.294167Z",
     "start_time": "2019-11-21T14:56:35.204026Z"
    }
   },
   "outputs": [],
   "source": [
    "G_undirect = G_amazon.to_undirected()"
   ]
  },
  {
   "cell_type": "code",
   "execution_count": 58,
   "metadata": {
    "ExecuteTime": {
     "end_time": "2019-11-21T14:56:35.311392Z",
     "start_time": "2019-11-21T14:56:35.297438Z"
    }
   },
   "outputs": [
    {
     "name": "stdout",
     "output_type": "stream",
     "text": [
      "Name: \n",
      "Type: Graph\n",
      "Number of nodes: 2647\n",
      "Number of edges: 7905\n",
      "Average degree:   5.9728\n"
     ]
    }
   ],
   "source": [
    "print(nx.info(G_undirect))"
   ]
  },
  {
   "cell_type": "markdown",
   "metadata": {},
   "source": [
    "**create start and end node cols**"
   ]
  },
  {
   "cell_type": "code",
   "execution_count": 59,
   "metadata": {
    "ExecuteTime": {
     "end_time": "2019-11-21T14:56:37.129751Z",
     "start_time": "2019-11-21T14:56:37.105947Z"
    }
   },
   "outputs": [],
   "source": [
    "def create_start_end(df):\n",
    "    start = []\n",
    "    end = []\n",
    "    for s in df['nodes'].values:\n",
    "        start.append(int(s[1:-1].split(', ')[0]))\n",
    "        end.append(int(s[1:-1].split(', ')[1]))\n",
    "    return start, end\n",
    "train_start, train_end = create_start_end(link_train_df)\n",
    "test_start, test_end = create_start_end(link_test_df)"
   ]
  },
  {
   "cell_type": "code",
   "execution_count": 60,
   "metadata": {
    "ExecuteTime": {
     "end_time": "2019-11-21T14:56:37.148951Z",
     "start_time": "2019-11-21T14:56:37.131894Z"
    }
   },
   "outputs": [],
   "source": [
    "link_train_df['start'], link_train_df['end'] = train_start, train_end\n",
    "link_test_df['start'], link_test_df['end'] = test_start, test_end"
   ]
  },
  {
   "cell_type": "markdown",
   "metadata": {},
   "source": [
    "**Get these feature from undirected graph**"
   ]
  },
  {
   "cell_type": "code",
   "execution_count": 61,
   "metadata": {
    "ExecuteTime": {
     "end_time": "2019-11-21T14:56:35.340028Z",
     "start_time": "2019-11-21T14:56:35.318787Z"
    }
   },
   "outputs": [],
   "source": [
    "def resource_allocation(df):\n",
    "    nodes = [(df['start'], df['end'])]\n",
    "    res = nx.resource_allocation_index(G_undirect, nodes)\n",
    "    for u, v, p in res:\n",
    "        pass\n",
    "    return p\n",
    "def jaccard_coefficient(df):\n",
    "    nodes = [(df['start'], df['end'])]\n",
    "    res = nx.jaccard_coefficient(G_undirect, nodes)\n",
    "    for u, v, p in res:\n",
    "        pass\n",
    "    return p\n",
    "def preferential_attachment(df):\n",
    "    nodes = [(df['start'], df['end'])]\n",
    "\n",
    "    res = nx.preferential_attachment(G_undirect, nodes)\n",
    "    for u, v, p in res:\n",
    "        pass\n",
    "    return p\n",
    "def common_neighbors(df):\n",
    "    nodes = [df['start'], df['end']]\n",
    "    res = nx.common_neighbors(G_undirect, nodes[0], nodes[1])\n",
    "    res = sorted(res)\n",
    "    return len(res)"
   ]
  },
  {
   "cell_type": "code",
   "execution_count": 62,
   "metadata": {
    "ExecuteTime": {
     "end_time": "2019-11-21T14:56:37.035057Z",
     "start_time": "2019-11-21T14:56:35.345009Z"
    }
   },
   "outputs": [],
   "source": [
    "link_train_df['resource_allocation'] = link_train_df[['start', 'end']].apply(lambda x: resource_allocation(x), axis=1)\n",
    "link_test_df['resource_allocation'] = link_test_df[['start', 'end']].apply(lambda x: resource_allocation(x), axis=1)\n",
    "link_train_df['jaccard_coefficient'] = link_train_df[['start', 'end']].apply(lambda x: jaccard_coefficient(x), axis=1)\n",
    "link_test_df['jaccard_coefficient'] = link_test_df[['start', 'end']].apply(lambda x: jaccard_coefficient(x), axis=1)\n",
    "link_train_df['preferential_attachment'] = link_train_df[['start', 'end']].apply(lambda x: preferential_attachment(x), axis=1)\n",
    "link_test_df['preferential_attachment'] = link_test_df[['start', 'end']].apply(lambda x: preferential_attachment(x), axis=1)\n",
    "link_train_df['common_neighbors'] = link_train_df[['start', 'end']].apply(lambda x: common_neighbors(x), axis=1)\n",
    "link_test_df['common_neighbors'] = link_test_df[['start', 'end']].apply(lambda x: common_neighbors(x), axis=1)"
   ]
  },
  {
   "cell_type": "markdown",
   "metadata": {},
   "source": [
    "**These features are too sparse, so they maybe not very important**"
   ]
  },
  {
   "cell_type": "code",
   "execution_count": 63,
   "metadata": {
    "ExecuteTime": {
     "end_time": "2019-11-21T14:56:37.079776Z",
     "start_time": "2019-11-21T14:56:37.065698Z"
    }
   },
   "outputs": [
    {
     "data": {
      "text/plain": [
       "nodes                      98\n",
       "connection                 98\n",
       "start                      98\n",
       "end                        98\n",
       "resource_allocation        98\n",
       "jaccard_coefficient        98\n",
       "preferential_attachment    98\n",
       "common_neighbors           98\n",
       "dtype: int64"
      ]
     },
     "execution_count": 63,
     "metadata": {},
     "output_type": "execute_result"
    }
   ],
   "source": [
    "link_train_df[link_train_df['common_neighbors'] != 0].count()"
   ]
  },
  {
   "cell_type": "code",
   "execution_count": 64,
   "metadata": {
    "ExecuteTime": {
     "end_time": "2019-11-21T14:56:37.092953Z",
     "start_time": "2019-11-21T14:56:37.081771Z"
    }
   },
   "outputs": [
    {
     "data": {
      "text/plain": [
       "nodes                      98\n",
       "connection                 98\n",
       "start                      98\n",
       "end                        98\n",
       "resource_allocation        98\n",
       "jaccard_coefficient        98\n",
       "preferential_attachment    98\n",
       "common_neighbors           98\n",
       "dtype: int64"
      ]
     },
     "execution_count": 64,
     "metadata": {},
     "output_type": "execute_result"
    }
   ],
   "source": [
    "link_train_df[link_train_df['jaccard_coefficient'] != 0.0].count()"
   ]
  },
  {
   "cell_type": "code",
   "execution_count": 65,
   "metadata": {
    "ExecuteTime": {
     "end_time": "2019-11-21T14:56:37.103706Z",
     "start_time": "2019-11-21T14:56:37.092953Z"
    }
   },
   "outputs": [
    {
     "data": {
      "text/plain": [
       "nodes                      98\n",
       "connection                 98\n",
       "start                      98\n",
       "end                        98\n",
       "resource_allocation        98\n",
       "jaccard_coefficient        98\n",
       "preferential_attachment    98\n",
       "common_neighbors           98\n",
       "dtype: int64"
      ]
     },
     "execution_count": 65,
     "metadata": {},
     "output_type": "execute_result"
    }
   ],
   "source": [
    "link_train_df[link_train_df['resource_allocation'] != 0.0].count()"
   ]
  },
  {
   "cell_type": "markdown",
   "metadata": {},
   "source": [
    "**Manual binning for `preferential_attachment`**\n",
    "\n",
    "**preventing individual abnormal values from being too large can cause great trouble for the model.**"
   ]
  },
  {
   "cell_type": "code",
   "execution_count": 66,
   "metadata": {},
   "outputs": [
    {
     "data": {
      "text/html": [
       "<div>\n",
       "<style scoped>\n",
       "    .dataframe tbody tr th:only-of-type {\n",
       "        vertical-align: middle;\n",
       "    }\n",
       "\n",
       "    .dataframe tbody tr th {\n",
       "        vertical-align: top;\n",
       "    }\n",
       "\n",
       "    .dataframe thead th {\n",
       "        text-align: right;\n",
       "    }\n",
       "</style>\n",
       "<table border=\"1\" class=\"dataframe\">\n",
       "  <thead>\n",
       "    <tr style=\"text-align: right;\">\n",
       "      <th></th>\n",
       "      <th>nodes</th>\n",
       "      <th>connection</th>\n",
       "      <th>start</th>\n",
       "      <th>end</th>\n",
       "      <th>resource_allocation</th>\n",
       "      <th>jaccard_coefficient</th>\n",
       "      <th>common_neighbors</th>\n",
       "    </tr>\n",
       "    <tr>\n",
       "      <th>preferential_attachment</th>\n",
       "      <th></th>\n",
       "      <th></th>\n",
       "      <th></th>\n",
       "      <th></th>\n",
       "      <th></th>\n",
       "      <th></th>\n",
       "      <th></th>\n",
       "    </tr>\n",
       "  </thead>\n",
       "  <tbody>\n",
       "    <tr>\n",
       "      <th>1</th>\n",
       "      <td>12</td>\n",
       "      <td>12</td>\n",
       "      <td>12</td>\n",
       "      <td>12</td>\n",
       "      <td>12</td>\n",
       "      <td>12</td>\n",
       "      <td>12</td>\n",
       "    </tr>\n",
       "    <tr>\n",
       "      <th>2</th>\n",
       "      <td>12</td>\n",
       "      <td>12</td>\n",
       "      <td>12</td>\n",
       "      <td>12</td>\n",
       "      <td>12</td>\n",
       "      <td>12</td>\n",
       "      <td>12</td>\n",
       "    </tr>\n",
       "    <tr>\n",
       "      <th>3</th>\n",
       "      <td>24</td>\n",
       "      <td>24</td>\n",
       "      <td>24</td>\n",
       "      <td>24</td>\n",
       "      <td>24</td>\n",
       "      <td>24</td>\n",
       "      <td>24</td>\n",
       "    </tr>\n",
       "    <tr>\n",
       "      <th>4</th>\n",
       "      <td>34</td>\n",
       "      <td>34</td>\n",
       "      <td>34</td>\n",
       "      <td>34</td>\n",
       "      <td>34</td>\n",
       "      <td>34</td>\n",
       "      <td>34</td>\n",
       "    </tr>\n",
       "    <tr>\n",
       "      <th>5</th>\n",
       "      <td>176</td>\n",
       "      <td>176</td>\n",
       "      <td>176</td>\n",
       "      <td>176</td>\n",
       "      <td>176</td>\n",
       "      <td>176</td>\n",
       "      <td>176</td>\n",
       "    </tr>\n",
       "    <tr>\n",
       "      <th>6</th>\n",
       "      <td>137</td>\n",
       "      <td>137</td>\n",
       "      <td>137</td>\n",
       "      <td>137</td>\n",
       "      <td>137</td>\n",
       "      <td>137</td>\n",
       "      <td>137</td>\n",
       "    </tr>\n",
       "    <tr>\n",
       "      <th>7</th>\n",
       "      <td>82</td>\n",
       "      <td>82</td>\n",
       "      <td>82</td>\n",
       "      <td>82</td>\n",
       "      <td>82</td>\n",
       "      <td>82</td>\n",
       "      <td>82</td>\n",
       "    </tr>\n",
       "    <tr>\n",
       "      <th>8</th>\n",
       "      <td>69</td>\n",
       "      <td>69</td>\n",
       "      <td>69</td>\n",
       "      <td>69</td>\n",
       "      <td>69</td>\n",
       "      <td>69</td>\n",
       "      <td>69</td>\n",
       "    </tr>\n",
       "    <tr>\n",
       "      <th>9</th>\n",
       "      <td>38</td>\n",
       "      <td>38</td>\n",
       "      <td>38</td>\n",
       "      <td>38</td>\n",
       "      <td>38</td>\n",
       "      <td>38</td>\n",
       "      <td>38</td>\n",
       "    </tr>\n",
       "    <tr>\n",
       "      <th>10</th>\n",
       "      <td>140</td>\n",
       "      <td>140</td>\n",
       "      <td>140</td>\n",
       "      <td>140</td>\n",
       "      <td>140</td>\n",
       "      <td>140</td>\n",
       "      <td>140</td>\n",
       "    </tr>\n",
       "    <tr>\n",
       "      <th>11</th>\n",
       "      <td>6</td>\n",
       "      <td>6</td>\n",
       "      <td>6</td>\n",
       "      <td>6</td>\n",
       "      <td>6</td>\n",
       "      <td>6</td>\n",
       "      <td>6</td>\n",
       "    </tr>\n",
       "    <tr>\n",
       "      <th>12</th>\n",
       "      <td>130</td>\n",
       "      <td>130</td>\n",
       "      <td>130</td>\n",
       "      <td>130</td>\n",
       "      <td>130</td>\n",
       "      <td>130</td>\n",
       "      <td>130</td>\n",
       "    </tr>\n",
       "    <tr>\n",
       "      <th>13</th>\n",
       "      <td>7</td>\n",
       "      <td>7</td>\n",
       "      <td>7</td>\n",
       "      <td>7</td>\n",
       "      <td>7</td>\n",
       "      <td>7</td>\n",
       "      <td>7</td>\n",
       "    </tr>\n",
       "    <tr>\n",
       "      <th>14</th>\n",
       "      <td>34</td>\n",
       "      <td>34</td>\n",
       "      <td>34</td>\n",
       "      <td>34</td>\n",
       "      <td>34</td>\n",
       "      <td>34</td>\n",
       "      <td>34</td>\n",
       "    </tr>\n",
       "    <tr>\n",
       "      <th>15</th>\n",
       "      <td>146</td>\n",
       "      <td>146</td>\n",
       "      <td>146</td>\n",
       "      <td>146</td>\n",
       "      <td>146</td>\n",
       "      <td>146</td>\n",
       "      <td>146</td>\n",
       "    </tr>\n",
       "    <tr>\n",
       "      <th>16</th>\n",
       "      <td>47</td>\n",
       "      <td>47</td>\n",
       "      <td>47</td>\n",
       "      <td>47</td>\n",
       "      <td>47</td>\n",
       "      <td>47</td>\n",
       "      <td>47</td>\n",
       "    </tr>\n",
       "    <tr>\n",
       "      <th>18</th>\n",
       "      <td>130</td>\n",
       "      <td>130</td>\n",
       "      <td>130</td>\n",
       "      <td>130</td>\n",
       "      <td>130</td>\n",
       "      <td>130</td>\n",
       "      <td>130</td>\n",
       "    </tr>\n",
       "    <tr>\n",
       "      <th>19</th>\n",
       "      <td>2</td>\n",
       "      <td>2</td>\n",
       "      <td>2</td>\n",
       "      <td>2</td>\n",
       "      <td>2</td>\n",
       "      <td>2</td>\n",
       "      <td>2</td>\n",
       "    </tr>\n",
       "    <tr>\n",
       "      <th>20</th>\n",
       "      <td>221</td>\n",
       "      <td>221</td>\n",
       "      <td>221</td>\n",
       "      <td>221</td>\n",
       "      <td>221</td>\n",
       "      <td>221</td>\n",
       "      <td>221</td>\n",
       "    </tr>\n",
       "    <tr>\n",
       "      <th>21</th>\n",
       "      <td>72</td>\n",
       "      <td>72</td>\n",
       "      <td>72</td>\n",
       "      <td>72</td>\n",
       "      <td>72</td>\n",
       "      <td>72</td>\n",
       "      <td>72</td>\n",
       "    </tr>\n",
       "    <tr>\n",
       "      <th>22</th>\n",
       "      <td>13</td>\n",
       "      <td>13</td>\n",
       "      <td>13</td>\n",
       "      <td>13</td>\n",
       "      <td>13</td>\n",
       "      <td>13</td>\n",
       "      <td>13</td>\n",
       "    </tr>\n",
       "    <tr>\n",
       "      <th>24</th>\n",
       "      <td>194</td>\n",
       "      <td>194</td>\n",
       "      <td>194</td>\n",
       "      <td>194</td>\n",
       "      <td>194</td>\n",
       "      <td>194</td>\n",
       "      <td>194</td>\n",
       "    </tr>\n",
       "    <tr>\n",
       "      <th>25</th>\n",
       "      <td>676</td>\n",
       "      <td>676</td>\n",
       "      <td>676</td>\n",
       "      <td>676</td>\n",
       "      <td>676</td>\n",
       "      <td>676</td>\n",
       "      <td>676</td>\n",
       "    </tr>\n",
       "    <tr>\n",
       "      <th>26</th>\n",
       "      <td>4</td>\n",
       "      <td>4</td>\n",
       "      <td>4</td>\n",
       "      <td>4</td>\n",
       "      <td>4</td>\n",
       "      <td>4</td>\n",
       "      <td>4</td>\n",
       "    </tr>\n",
       "    <tr>\n",
       "      <th>27</th>\n",
       "      <td>28</td>\n",
       "      <td>28</td>\n",
       "      <td>28</td>\n",
       "      <td>28</td>\n",
       "      <td>28</td>\n",
       "      <td>28</td>\n",
       "      <td>28</td>\n",
       "    </tr>\n",
       "    <tr>\n",
       "      <th>28</th>\n",
       "      <td>115</td>\n",
       "      <td>115</td>\n",
       "      <td>115</td>\n",
       "      <td>115</td>\n",
       "      <td>115</td>\n",
       "      <td>115</td>\n",
       "      <td>115</td>\n",
       "    </tr>\n",
       "    <tr>\n",
       "      <th>30</th>\n",
       "      <td>948</td>\n",
       "      <td>948</td>\n",
       "      <td>948</td>\n",
       "      <td>948</td>\n",
       "      <td>948</td>\n",
       "      <td>948</td>\n",
       "      <td>948</td>\n",
       "    </tr>\n",
       "    <tr>\n",
       "      <th>32</th>\n",
       "      <td>71</td>\n",
       "      <td>71</td>\n",
       "      <td>71</td>\n",
       "      <td>71</td>\n",
       "      <td>71</td>\n",
       "      <td>71</td>\n",
       "      <td>71</td>\n",
       "    </tr>\n",
       "    <tr>\n",
       "      <th>33</th>\n",
       "      <td>13</td>\n",
       "      <td>13</td>\n",
       "      <td>13</td>\n",
       "      <td>13</td>\n",
       "      <td>13</td>\n",
       "      <td>13</td>\n",
       "      <td>13</td>\n",
       "    </tr>\n",
       "    <tr>\n",
       "      <th>34</th>\n",
       "      <td>1</td>\n",
       "      <td>1</td>\n",
       "      <td>1</td>\n",
       "      <td>1</td>\n",
       "      <td>1</td>\n",
       "      <td>1</td>\n",
       "      <td>1</td>\n",
       "    </tr>\n",
       "    <tr>\n",
       "      <th>...</th>\n",
       "      <td>...</td>\n",
       "      <td>...</td>\n",
       "      <td>...</td>\n",
       "      <td>...</td>\n",
       "      <td>...</td>\n",
       "      <td>...</td>\n",
       "      <td>...</td>\n",
       "    </tr>\n",
       "    <tr>\n",
       "      <th>192</th>\n",
       "      <td>2</td>\n",
       "      <td>2</td>\n",
       "      <td>2</td>\n",
       "      <td>2</td>\n",
       "      <td>2</td>\n",
       "      <td>2</td>\n",
       "      <td>2</td>\n",
       "    </tr>\n",
       "    <tr>\n",
       "      <th>196</th>\n",
       "      <td>1</td>\n",
       "      <td>1</td>\n",
       "      <td>1</td>\n",
       "      <td>1</td>\n",
       "      <td>1</td>\n",
       "      <td>1</td>\n",
       "      <td>1</td>\n",
       "    </tr>\n",
       "    <tr>\n",
       "      <th>209</th>\n",
       "      <td>1</td>\n",
       "      <td>1</td>\n",
       "      <td>1</td>\n",
       "      <td>1</td>\n",
       "      <td>1</td>\n",
       "      <td>1</td>\n",
       "      <td>1</td>\n",
       "    </tr>\n",
       "    <tr>\n",
       "      <th>210</th>\n",
       "      <td>4</td>\n",
       "      <td>4</td>\n",
       "      <td>4</td>\n",
       "      <td>4</td>\n",
       "      <td>4</td>\n",
       "      <td>4</td>\n",
       "      <td>4</td>\n",
       "    </tr>\n",
       "    <tr>\n",
       "      <th>220</th>\n",
       "      <td>2</td>\n",
       "      <td>2</td>\n",
       "      <td>2</td>\n",
       "      <td>2</td>\n",
       "      <td>2</td>\n",
       "      <td>2</td>\n",
       "      <td>2</td>\n",
       "    </tr>\n",
       "    <tr>\n",
       "      <th>222</th>\n",
       "      <td>5</td>\n",
       "      <td>5</td>\n",
       "      <td>5</td>\n",
       "      <td>5</td>\n",
       "      <td>5</td>\n",
       "      <td>5</td>\n",
       "      <td>5</td>\n",
       "    </tr>\n",
       "    <tr>\n",
       "      <th>224</th>\n",
       "      <td>1</td>\n",
       "      <td>1</td>\n",
       "      <td>1</td>\n",
       "      <td>1</td>\n",
       "      <td>1</td>\n",
       "      <td>1</td>\n",
       "      <td>1</td>\n",
       "    </tr>\n",
       "    <tr>\n",
       "      <th>230</th>\n",
       "      <td>1</td>\n",
       "      <td>1</td>\n",
       "      <td>1</td>\n",
       "      <td>1</td>\n",
       "      <td>1</td>\n",
       "      <td>1</td>\n",
       "      <td>1</td>\n",
       "    </tr>\n",
       "    <tr>\n",
       "      <th>240</th>\n",
       "      <td>2</td>\n",
       "      <td>2</td>\n",
       "      <td>2</td>\n",
       "      <td>2</td>\n",
       "      <td>2</td>\n",
       "      <td>2</td>\n",
       "      <td>2</td>\n",
       "    </tr>\n",
       "    <tr>\n",
       "      <th>245</th>\n",
       "      <td>2</td>\n",
       "      <td>2</td>\n",
       "      <td>2</td>\n",
       "      <td>2</td>\n",
       "      <td>2</td>\n",
       "      <td>2</td>\n",
       "      <td>2</td>\n",
       "    </tr>\n",
       "    <tr>\n",
       "      <th>247</th>\n",
       "      <td>1</td>\n",
       "      <td>1</td>\n",
       "      <td>1</td>\n",
       "      <td>1</td>\n",
       "      <td>1</td>\n",
       "      <td>1</td>\n",
       "      <td>1</td>\n",
       "    </tr>\n",
       "    <tr>\n",
       "      <th>252</th>\n",
       "      <td>1</td>\n",
       "      <td>1</td>\n",
       "      <td>1</td>\n",
       "      <td>1</td>\n",
       "      <td>1</td>\n",
       "      <td>1</td>\n",
       "      <td>1</td>\n",
       "    </tr>\n",
       "    <tr>\n",
       "      <th>255</th>\n",
       "      <td>1</td>\n",
       "      <td>1</td>\n",
       "      <td>1</td>\n",
       "      <td>1</td>\n",
       "      <td>1</td>\n",
       "      <td>1</td>\n",
       "      <td>1</td>\n",
       "    </tr>\n",
       "    <tr>\n",
       "      <th>256</th>\n",
       "      <td>1</td>\n",
       "      <td>1</td>\n",
       "      <td>1</td>\n",
       "      <td>1</td>\n",
       "      <td>1</td>\n",
       "      <td>1</td>\n",
       "      <td>1</td>\n",
       "    </tr>\n",
       "    <tr>\n",
       "      <th>264</th>\n",
       "      <td>2</td>\n",
       "      <td>2</td>\n",
       "      <td>2</td>\n",
       "      <td>2</td>\n",
       "      <td>2</td>\n",
       "      <td>2</td>\n",
       "      <td>2</td>\n",
       "    </tr>\n",
       "    <tr>\n",
       "      <th>270</th>\n",
       "      <td>1</td>\n",
       "      <td>1</td>\n",
       "      <td>1</td>\n",
       "      <td>1</td>\n",
       "      <td>1</td>\n",
       "      <td>1</td>\n",
       "      <td>1</td>\n",
       "    </tr>\n",
       "    <tr>\n",
       "      <th>276</th>\n",
       "      <td>1</td>\n",
       "      <td>1</td>\n",
       "      <td>1</td>\n",
       "      <td>1</td>\n",
       "      <td>1</td>\n",
       "      <td>1</td>\n",
       "      <td>1</td>\n",
       "    </tr>\n",
       "    <tr>\n",
       "      <th>288</th>\n",
       "      <td>1</td>\n",
       "      <td>1</td>\n",
       "      <td>1</td>\n",
       "      <td>1</td>\n",
       "      <td>1</td>\n",
       "      <td>1</td>\n",
       "      <td>1</td>\n",
       "    </tr>\n",
       "    <tr>\n",
       "      <th>294</th>\n",
       "      <td>3</td>\n",
       "      <td>3</td>\n",
       "      <td>3</td>\n",
       "      <td>3</td>\n",
       "      <td>3</td>\n",
       "      <td>3</td>\n",
       "      <td>3</td>\n",
       "    </tr>\n",
       "    <tr>\n",
       "      <th>296</th>\n",
       "      <td>1</td>\n",
       "      <td>1</td>\n",
       "      <td>1</td>\n",
       "      <td>1</td>\n",
       "      <td>1</td>\n",
       "      <td>1</td>\n",
       "      <td>1</td>\n",
       "    </tr>\n",
       "    <tr>\n",
       "      <th>304</th>\n",
       "      <td>1</td>\n",
       "      <td>1</td>\n",
       "      <td>1</td>\n",
       "      <td>1</td>\n",
       "      <td>1</td>\n",
       "      <td>1</td>\n",
       "      <td>1</td>\n",
       "    </tr>\n",
       "    <tr>\n",
       "      <th>320</th>\n",
       "      <td>1</td>\n",
       "      <td>1</td>\n",
       "      <td>1</td>\n",
       "      <td>1</td>\n",
       "      <td>1</td>\n",
       "      <td>1</td>\n",
       "      <td>1</td>\n",
       "    </tr>\n",
       "    <tr>\n",
       "      <th>322</th>\n",
       "      <td>1</td>\n",
       "      <td>1</td>\n",
       "      <td>1</td>\n",
       "      <td>1</td>\n",
       "      <td>1</td>\n",
       "      <td>1</td>\n",
       "      <td>1</td>\n",
       "    </tr>\n",
       "    <tr>\n",
       "      <th>343</th>\n",
       "      <td>3</td>\n",
       "      <td>3</td>\n",
       "      <td>3</td>\n",
       "      <td>3</td>\n",
       "      <td>3</td>\n",
       "      <td>3</td>\n",
       "      <td>3</td>\n",
       "    </tr>\n",
       "    <tr>\n",
       "      <th>391</th>\n",
       "      <td>1</td>\n",
       "      <td>1</td>\n",
       "      <td>1</td>\n",
       "      <td>1</td>\n",
       "      <td>1</td>\n",
       "      <td>1</td>\n",
       "      <td>1</td>\n",
       "    </tr>\n",
       "    <tr>\n",
       "      <th>392</th>\n",
       "      <td>2</td>\n",
       "      <td>2</td>\n",
       "      <td>2</td>\n",
       "      <td>2</td>\n",
       "      <td>2</td>\n",
       "      <td>2</td>\n",
       "      <td>2</td>\n",
       "    </tr>\n",
       "    <tr>\n",
       "      <th>441</th>\n",
       "      <td>2</td>\n",
       "      <td>2</td>\n",
       "      <td>2</td>\n",
       "      <td>2</td>\n",
       "      <td>2</td>\n",
       "      <td>2</td>\n",
       "      <td>2</td>\n",
       "    </tr>\n",
       "    <tr>\n",
       "      <th>444</th>\n",
       "      <td>1</td>\n",
       "      <td>1</td>\n",
       "      <td>1</td>\n",
       "      <td>1</td>\n",
       "      <td>1</td>\n",
       "      <td>1</td>\n",
       "      <td>1</td>\n",
       "    </tr>\n",
       "    <tr>\n",
       "      <th>481</th>\n",
       "      <td>1</td>\n",
       "      <td>1</td>\n",
       "      <td>1</td>\n",
       "      <td>1</td>\n",
       "      <td>1</td>\n",
       "      <td>1</td>\n",
       "      <td>1</td>\n",
       "    </tr>\n",
       "    <tr>\n",
       "      <th>490</th>\n",
       "      <td>2</td>\n",
       "      <td>2</td>\n",
       "      <td>2</td>\n",
       "      <td>2</td>\n",
       "      <td>2</td>\n",
       "      <td>2</td>\n",
       "      <td>2</td>\n",
       "    </tr>\n",
       "  </tbody>\n",
       "</table>\n",
       "<p>144 rows × 7 columns</p>\n",
       "</div>"
      ],
      "text/plain": [
       "                         nodes  connection  start  end  resource_allocation  \\\n",
       "preferential_attachment                                                       \n",
       "1                           12          12     12   12                   12   \n",
       "2                           12          12     12   12                   12   \n",
       "3                           24          24     24   24                   24   \n",
       "4                           34          34     34   34                   34   \n",
       "5                          176         176    176  176                  176   \n",
       "...                        ...         ...    ...  ...                  ...   \n",
       "392                          2           2      2    2                    2   \n",
       "441                          2           2      2    2                    2   \n",
       "444                          1           1      1    1                    1   \n",
       "481                          1           1      1    1                    1   \n",
       "490                          2           2      2    2                    2   \n",
       "\n",
       "                         jaccard_coefficient  common_neighbors  \n",
       "preferential_attachment                                         \n",
       "1                                         12                12  \n",
       "2                                         12                12  \n",
       "3                                         24                24  \n",
       "4                                         34                34  \n",
       "5                                        176               176  \n",
       "...                                      ...               ...  \n",
       "392                                        2                 2  \n",
       "441                                        2                 2  \n",
       "444                                        1                 1  \n",
       "481                                        1                 1  \n",
       "490                                        2                 2  \n",
       "\n",
       "[144 rows x 7 columns]"
      ]
     },
     "execution_count": 66,
     "metadata": {},
     "output_type": "execute_result"
    }
   ],
   "source": [
    "link_train_df.groupby('preferential_attachment').count()"
   ]
  },
  {
   "cell_type": "code",
   "execution_count": 67,
   "metadata": {
    "ExecuteTime": {
     "end_time": "2019-11-21T14:56:37.042719Z",
     "start_time": "2019-11-21T14:56:37.036055Z"
    }
   },
   "outputs": [],
   "source": [
    "def bins(x):\n",
    "    if x < 5:\n",
    "        return 0\n",
    "    elif x < 20:\n",
    "        return 1\n",
    "    elif x < 50:\n",
    "        return 2\n",
    "    elif x < 100:\n",
    "        return 3\n",
    "    else:\n",
    "        return 4"
   ]
  },
  {
   "cell_type": "code",
   "execution_count": 68,
   "metadata": {
    "ExecuteTime": {
     "end_time": "2019-11-21T14:56:37.063703Z",
     "start_time": "2019-11-21T14:56:37.044352Z"
    }
   },
   "outputs": [],
   "source": [
    "link_train_df['preferential_attachment'] = link_train_df['preferential_attachment'].apply(lambda x: bins(x))\n",
    "link_test_df['preferential_attachment'] = link_test_df['preferential_attachment'].apply(lambda x: bins(x))"
   ]
  },
  {
   "cell_type": "markdown",
   "metadata": {},
   "source": [
    "**Determine whether the node number is continuous。**"
   ]
  },
  {
   "cell_type": "code",
   "execution_count": 69,
   "metadata": {
    "ExecuteTime": {
     "end_time": "2019-11-21T14:56:37.161643Z",
     "start_time": "2019-11-21T14:56:37.150946Z"
    }
   },
   "outputs": [
    {
     "data": {
      "text/plain": [
       "(2647, 2647)"
      ]
     },
     "execution_count": 69,
     "metadata": {},
     "output_type": "execute_result"
    }
   ],
   "source": [
    "nodes_list = sorted(G_amazon.nodes)\n",
    "len(nodes_list), nodes_list[-1]"
   ]
  },
  {
   "cell_type": "markdown",
   "metadata": {},
   "source": [
    "**The nodes number are continuous ,so we can create directly shortest path length matrix by index.**"
   ]
  },
  {
   "cell_type": "code",
   "execution_count": 70,
   "metadata": {
    "ExecuteTime": {
     "end_time": "2019-11-21T14:56:37.232299Z",
     "start_time": "2019-11-21T14:56:37.163826Z"
    }
   },
   "outputs": [],
   "source": [
    "shortest_path_len = np.ones((len(nodes_list),len(nodes_list)))\n",
    "shortest_path_len = - shortest_path_len"
   ]
  },
  {
   "cell_type": "code",
   "execution_count": 71,
   "metadata": {
    "ExecuteTime": {
     "end_time": "2019-11-21T14:57:25.646161Z",
     "start_time": "2019-11-21T14:56:37.233717Z"
    }
   },
   "outputs": [],
   "source": [
    "for node in G_amazon.nodes:\n",
    "    temp = nx.single_source_shortest_path_length(G_amazon, node)\n",
    "    for key, value in temp.items():\n",
    "        shortest_path_len[node-1][key-1] = value "
   ]
  },
  {
   "cell_type": "code",
   "execution_count": 72,
   "metadata": {
    "ExecuteTime": {
     "end_time": "2019-11-21T14:57:25.980688Z",
     "start_time": "2019-11-21T14:57:25.648280Z"
    }
   },
   "outputs": [],
   "source": [
    "link_train_df['shortest_path_len'] = link_train_df.apply(lambda x: shortest_path_len[x['start']-1][x['end']-1], axis=1)\n",
    "link_test_df['shortest_path_len'] = link_test_df.apply(lambda x: shortest_path_len[x['start']-1][x['end']-1], axis=1)"
   ]
  },
  {
   "cell_type": "markdown",
   "metadata": {},
   "source": [
    "**Degree Features**"
   ]
  },
  {
   "cell_type": "code",
   "execution_count": 73,
   "metadata": {
    "ExecuteTime": {
     "end_time": "2019-11-21T14:57:26.153067Z",
     "start_time": "2019-11-21T14:57:25.983111Z"
    }
   },
   "outputs": [],
   "source": [
    "link_train_df['start_in_degree'] = link_train_df['start'].apply(lambda x: in_degree[x])\n",
    "link_train_df['end_in_degree'] = link_train_df['end'].apply(lambda x: in_degree[x])\n",
    "link_train_df['start_out_degree'] = link_train_df['start'].apply(lambda x: out_degree[x])\n",
    "link_train_df['end_out_degree'] = link_train_df['end'].apply(lambda x: out_degree[x])\n",
    "link_train_df['start_degree'] = link_train_df['start'].apply(lambda x: degree[x])\n",
    "link_train_df['end_degree'] = link_train_df['end'].apply(lambda x: degree[x])\n",
    "\n",
    "link_test_df['start_in_degree'] = link_test_df['start'].apply(lambda x: in_degree[x])\n",
    "link_test_df['end_in_degree'] = link_test_df['end'].apply(lambda x: in_degree[x])\n",
    "link_test_df['start_out_degree'] = link_test_df['start'].apply(lambda x: out_degree[x])\n",
    "link_test_df['end_out_degree'] = link_test_df['end'].apply(lambda x: out_degree[x])\n",
    "link_test_df['start_degree'] = link_test_df['start'].apply(lambda x: degree[x])\n",
    "link_test_df['end_degree'] = link_test_df['end'].apply(lambda x: degree[x])"
   ]
  },
  {
   "cell_type": "code",
   "execution_count": 74,
   "metadata": {
    "ExecuteTime": {
     "end_time": "2019-11-21T14:57:26.160421Z",
     "start_time": "2019-11-21T14:57:26.156819Z"
    }
   },
   "outputs": [],
   "source": [
    "feature_cols = ['end_degree', 'start_degree', 'end_out_degree', 'start_out_degree', 'end_in_degree', 'start_in_degree', 'shortest_path_len', 'preferential_attachment', 'common_neighbors', 'preferential_attachment', 'jaccard_coefficient', 'resource_allocation']"
   ]
  },
  {
   "cell_type": "markdown",
   "metadata": {},
   "source": [
    "**Devide the dataset to train and dev dataset**"
   ]
  },
  {
   "cell_type": "code",
   "execution_count": 75,
   "metadata": {},
   "outputs": [],
   "source": [
    "train, dev = train_test_split(link_train_df, test_size=0.2, random_state=2019)"
   ]
  },
  {
   "cell_type": "markdown",
   "metadata": {},
   "source": [
    "**Gradient Boosting Classifier**\n",
    "\n",
    "**The reason I chose GBDT is that it can handle various types of data flexibly, such as continuous value and discrete values. In the case of relatively few parameters, the prediction accuracy is often higher than SVM.**"
   ]
  },
  {
   "cell_type": "code",
   "execution_count": 76,
   "metadata": {
    "ExecuteTime": {
     "end_time": "2019-11-21T14:53:34.832382Z",
     "start_time": "2019-11-21T14:53:34.829164Z"
    }
   },
   "outputs": [],
   "source": [
    "GBC_params = {\n",
    "    'learning_rate': 0.01,\n",
    "    'n_estimators': 200,\n",
    "#     'subsample': 0.9,\n",
    "    'max_depth': 20,\n",
    "    'random_state': 2019,\n",
    "    'verbose': 1,\n",
    "    'validation_fraction': 0.2,\n",
    "    'n_iter_no_change': 1000,\n",
    "}"
   ]
  },
  {
   "cell_type": "code",
   "execution_count": 77,
   "metadata": {
    "ExecuteTime": {
     "end_time": "2019-11-21T14:53:35.559348Z",
     "start_time": "2019-11-21T14:53:35.556323Z"
    }
   },
   "outputs": [
    {
     "name": "stdout",
     "output_type": "stream",
     "text": [
      "      Iter       Train Loss   Remaining Time \n",
      "         1           1.3143           20.70s\n",
      "         2           1.3048           20.81s\n",
      "         3           1.2954           20.76s\n",
      "         4           1.2863           20.68s\n",
      "         5           1.2773           20.44s\n",
      "         6           1.2685           20.45s\n",
      "         7           1.2600           20.26s\n",
      "         8           1.2515           20.13s\n",
      "         9           1.2433           19.96s\n",
      "        10           1.2352           20.07s\n",
      "        20           1.1629           18.54s\n",
      "        30           1.1050           17.47s\n",
      "        40           1.0584           16.29s\n",
      "        50           1.0166           15.24s\n",
      "        60           0.9726           14.67s\n",
      "        70           0.9306           14.07s\n",
      "        80           0.8939           13.33s\n",
      "        90           0.8612           12.50s\n",
      "       100           0.8325           11.54s\n",
      "       200           0.6694            0.00s\n"
     ]
    },
    {
     "data": {
      "text/plain": [
       "GradientBoostingClassifier(criterion='friedman_mse', init=None,\n",
       "                           learning_rate=0.01, loss='deviance', max_depth=20,\n",
       "                           max_features=None, max_leaf_nodes=None,\n",
       "                           min_impurity_decrease=0.0, min_impurity_split=None,\n",
       "                           min_samples_leaf=1, min_samples_split=2,\n",
       "                           min_weight_fraction_leaf=0.0, n_estimators=200,\n",
       "                           n_iter_no_change=1000, presort='auto',\n",
       "                           random_state=2019, subsample=1.0, tol=0.0001,\n",
       "                           validation_fraction=0.2, verbose=1,\n",
       "                           warm_start=False)"
      ]
     },
     "execution_count": 77,
     "metadata": {},
     "output_type": "execute_result"
    }
   ],
   "source": [
    "clf = GradientBoostingClassifier(**GBC_params)\n",
    "clf.fit(train[feature_cols], train['connection'])"
   ]
  },
  {
   "cell_type": "markdown",
   "metadata": {},
   "source": [
    "**Predict dev dataset**"
   ]
  },
  {
   "cell_type": "code",
   "execution_count": 78,
   "metadata": {
    "ExecuteTime": {
     "end_time": "2019-11-21T14:53:39.121981Z",
     "start_time": "2019-11-21T14:53:39.007337Z"
    }
   },
   "outputs": [
    {
     "name": "stderr",
     "output_type": "stream",
     "text": [
      "D:\\anaconda\\lib\\site-packages\\ipykernel_launcher.py:1: SettingWithCopyWarning: \n",
      "A value is trying to be set on a copy of a slice from a DataFrame.\n",
      "Try using .loc[row_indexer,col_indexer] = value instead\n",
      "\n",
      "See the caveats in the documentation: http://pandas.pydata.org/pandas-docs/stable/user_guide/indexing.html#returning-a-view-versus-a-copy\n",
      "  \"\"\"Entry point for launching an IPython kernel.\n"
     ]
    },
    {
     "data": {
      "text/html": [
       "<div>\n",
       "<style scoped>\n",
       "    .dataframe tbody tr th:only-of-type {\n",
       "        vertical-align: middle;\n",
       "    }\n",
       "\n",
       "    .dataframe tbody tr th {\n",
       "        vertical-align: top;\n",
       "    }\n",
       "\n",
       "    .dataframe thead th {\n",
       "        text-align: right;\n",
       "    }\n",
       "</style>\n",
       "<table border=\"1\" class=\"dataframe\">\n",
       "  <thead>\n",
       "    <tr style=\"text-align: right;\">\n",
       "      <th></th>\n",
       "      <th>nodes</th>\n",
       "      <th>start</th>\n",
       "      <th>end</th>\n",
       "      <th>resource_allocation</th>\n",
       "      <th>jaccard_coefficient</th>\n",
       "      <th>preferential_attachment</th>\n",
       "      <th>common_neighbors</th>\n",
       "      <th>shortest_path_len</th>\n",
       "      <th>start_in_degree</th>\n",
       "      <th>end_in_degree</th>\n",
       "      <th>start_out_degree</th>\n",
       "      <th>end_out_degree</th>\n",
       "      <th>start_degree</th>\n",
       "      <th>end_degree</th>\n",
       "      <th>pred</th>\n",
       "    </tr>\n",
       "    <tr>\n",
       "      <th>connection</th>\n",
       "      <th></th>\n",
       "      <th></th>\n",
       "      <th></th>\n",
       "      <th></th>\n",
       "      <th></th>\n",
       "      <th></th>\n",
       "      <th></th>\n",
       "      <th></th>\n",
       "      <th></th>\n",
       "      <th></th>\n",
       "      <th></th>\n",
       "      <th></th>\n",
       "      <th></th>\n",
       "      <th></th>\n",
       "      <th></th>\n",
       "    </tr>\n",
       "  </thead>\n",
       "  <tbody>\n",
       "    <tr>\n",
       "      <th>0</th>\n",
       "      <td>594</td>\n",
       "      <td>594</td>\n",
       "      <td>594</td>\n",
       "      <td>594</td>\n",
       "      <td>594</td>\n",
       "      <td>594</td>\n",
       "      <td>594</td>\n",
       "      <td>594</td>\n",
       "      <td>594</td>\n",
       "      <td>594</td>\n",
       "      <td>594</td>\n",
       "      <td>594</td>\n",
       "      <td>594</td>\n",
       "      <td>594</td>\n",
       "      <td>594</td>\n",
       "    </tr>\n",
       "    <tr>\n",
       "      <th>1</th>\n",
       "      <td>1006</td>\n",
       "      <td>1006</td>\n",
       "      <td>1006</td>\n",
       "      <td>1006</td>\n",
       "      <td>1006</td>\n",
       "      <td>1006</td>\n",
       "      <td>1006</td>\n",
       "      <td>1006</td>\n",
       "      <td>1006</td>\n",
       "      <td>1006</td>\n",
       "      <td>1006</td>\n",
       "      <td>1006</td>\n",
       "      <td>1006</td>\n",
       "      <td>1006</td>\n",
       "      <td>1006</td>\n",
       "    </tr>\n",
       "  </tbody>\n",
       "</table>\n",
       "</div>"
      ],
      "text/plain": [
       "            nodes  start   end  resource_allocation  jaccard_coefficient  \\\n",
       "connection                                                                 \n",
       "0             594    594   594                  594                  594   \n",
       "1            1006   1006  1006                 1006                 1006   \n",
       "\n",
       "            preferential_attachment  common_neighbors  shortest_path_len  \\\n",
       "connection                                                                 \n",
       "0                               594               594                594   \n",
       "1                              1006              1006               1006   \n",
       "\n",
       "            start_in_degree  end_in_degree  start_out_degree  end_out_degree  \\\n",
       "connection                                                                     \n",
       "0                       594            594               594             594   \n",
       "1                      1006           1006              1006            1006   \n",
       "\n",
       "            start_degree  end_degree  pred  \n",
       "connection                                  \n",
       "0                    594         594   594  \n",
       "1                   1006        1006  1006  "
      ]
     },
     "execution_count": 78,
     "metadata": {},
     "output_type": "execute_result"
    }
   ],
   "source": [
    "dev['pred'] = clf.predict(dev[feature_cols])\n",
    "dev.groupby('connection').count()"
   ]
  },
  {
   "cell_type": "code",
   "execution_count": 79,
   "metadata": {
    "ExecuteTime": {
     "end_time": "2019-11-21T14:53:39.976835Z",
     "start_time": "2019-11-21T14:53:39.959589Z"
    }
   },
   "outputs": [
    {
     "data": {
      "text/html": [
       "<div>\n",
       "<style scoped>\n",
       "    .dataframe tbody tr th:only-of-type {\n",
       "        vertical-align: middle;\n",
       "    }\n",
       "\n",
       "    .dataframe tbody tr th {\n",
       "        vertical-align: top;\n",
       "    }\n",
       "\n",
       "    .dataframe thead th {\n",
       "        text-align: right;\n",
       "    }\n",
       "</style>\n",
       "<table border=\"1\" class=\"dataframe\">\n",
       "  <thead>\n",
       "    <tr style=\"text-align: right;\">\n",
       "      <th></th>\n",
       "      <th>nodes</th>\n",
       "      <th>connection</th>\n",
       "      <th>start</th>\n",
       "      <th>end</th>\n",
       "      <th>resource_allocation</th>\n",
       "      <th>jaccard_coefficient</th>\n",
       "      <th>preferential_attachment</th>\n",
       "      <th>common_neighbors</th>\n",
       "      <th>shortest_path_len</th>\n",
       "      <th>start_in_degree</th>\n",
       "      <th>end_in_degree</th>\n",
       "      <th>start_out_degree</th>\n",
       "      <th>end_out_degree</th>\n",
       "      <th>start_degree</th>\n",
       "      <th>end_degree</th>\n",
       "    </tr>\n",
       "    <tr>\n",
       "      <th>pred</th>\n",
       "      <th></th>\n",
       "      <th></th>\n",
       "      <th></th>\n",
       "      <th></th>\n",
       "      <th></th>\n",
       "      <th></th>\n",
       "      <th></th>\n",
       "      <th></th>\n",
       "      <th></th>\n",
       "      <th></th>\n",
       "      <th></th>\n",
       "      <th></th>\n",
       "      <th></th>\n",
       "      <th></th>\n",
       "      <th></th>\n",
       "    </tr>\n",
       "  </thead>\n",
       "  <tbody>\n",
       "    <tr>\n",
       "      <th>0</th>\n",
       "      <td>452</td>\n",
       "      <td>452</td>\n",
       "      <td>452</td>\n",
       "      <td>452</td>\n",
       "      <td>452</td>\n",
       "      <td>452</td>\n",
       "      <td>452</td>\n",
       "      <td>452</td>\n",
       "      <td>452</td>\n",
       "      <td>452</td>\n",
       "      <td>452</td>\n",
       "      <td>452</td>\n",
       "      <td>452</td>\n",
       "      <td>452</td>\n",
       "      <td>452</td>\n",
       "    </tr>\n",
       "    <tr>\n",
       "      <th>1</th>\n",
       "      <td>1148</td>\n",
       "      <td>1148</td>\n",
       "      <td>1148</td>\n",
       "      <td>1148</td>\n",
       "      <td>1148</td>\n",
       "      <td>1148</td>\n",
       "      <td>1148</td>\n",
       "      <td>1148</td>\n",
       "      <td>1148</td>\n",
       "      <td>1148</td>\n",
       "      <td>1148</td>\n",
       "      <td>1148</td>\n",
       "      <td>1148</td>\n",
       "      <td>1148</td>\n",
       "      <td>1148</td>\n",
       "    </tr>\n",
       "  </tbody>\n",
       "</table>\n",
       "</div>"
      ],
      "text/plain": [
       "      nodes  connection  start   end  resource_allocation  \\\n",
       "pred                                                        \n",
       "0       452         452    452   452                  452   \n",
       "1      1148        1148   1148  1148                 1148   \n",
       "\n",
       "      jaccard_coefficient  preferential_attachment  common_neighbors  \\\n",
       "pred                                                                   \n",
       "0                     452                      452               452   \n",
       "1                    1148                     1148              1148   \n",
       "\n",
       "      shortest_path_len  start_in_degree  end_in_degree  start_out_degree  \\\n",
       "pred                                                                        \n",
       "0                   452              452            452               452   \n",
       "1                  1148             1148           1148              1148   \n",
       "\n",
       "      end_out_degree  start_degree  end_degree  \n",
       "pred                                            \n",
       "0                452           452         452  \n",
       "1               1148          1148        1148  "
      ]
     },
     "execution_count": 79,
     "metadata": {},
     "output_type": "execute_result"
    }
   ],
   "source": [
    "dev.groupby('pred').count()"
   ]
  },
  {
   "cell_type": "markdown",
   "metadata": {},
   "source": [
    "**Predict the test dataset**"
   ]
  },
  {
   "cell_type": "code",
   "execution_count": 80,
   "metadata": {},
   "outputs": [],
   "source": [
    "link_test_df['connection'] = clf.predict_proba(link_test_df[feature_cols])[:,1]\n",
    "# link_test_df['connection'] = link_test_df['connection'].apply(lambda x: round(x,4))"
   ]
  },
  {
   "cell_type": "code",
   "execution_count": 81,
   "metadata": {},
   "outputs": [],
   "source": [
    "link_test_df.to_csv('./linkTest.csv', index=False, columns=['nodes', 'connection'])"
   ]
  }
 ],
 "metadata": {
  "kernelspec": {
   "display_name": "Python 3",
   "language": "python",
   "name": "python3"
  },
  "language_info": {
   "codemirror_mode": {
    "name": "ipython",
    "version": 3
   },
   "file_extension": ".py",
   "mimetype": "text/x-python",
   "name": "python",
   "nbconvert_exporter": "python",
   "pygments_lexer": "ipython3",
   "version": "3.7.3"
  }
 },
 "nbformat": 4,
 "nbformat_minor": 2
}
