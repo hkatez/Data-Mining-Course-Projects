{
 "cells": [
  {
   "cell_type": "markdown",
   "metadata": {},
   "source": [
    "## SI 671 Homework 2\n",
    "uniqname: Yipeng Chen"
   ]
  },
  {
   "cell_type": "code",
   "execution_count": 30,
   "metadata": {},
   "outputs": [],
   "source": [
    "import pandas as pd\n",
    "import keras\n",
    "import numpy as np"
   ]
  },
  {
   "cell_type": "code",
   "execution_count": 3,
   "metadata": {},
   "outputs": [],
   "source": [
    "import warnings\n",
    "warnings.filterwarnings('ignore')"
   ]
  },
  {
   "cell_type": "markdown",
   "metadata": {},
   "source": [
    "ignore warnings for training.\n",
    "\n",
    "### 1. Data reading\n",
    "I don't think I'm very care about how many documentations and how many sentences they have. Just get the data..."
   ]
  },
  {
   "cell_type": "code",
   "execution_count": 4,
   "metadata": {},
   "outputs": [],
   "source": [
    "def read_data(path):\n",
    "    res = []\n",
    "    doc_num = 0\n",
    "    with open(path, 'r') as fr:\n",
    "        for line in fr.readlines():\n",
    "            if line == '-DOCSTART- -X- O O\\n':\n",
    "                doc_num += 1\n",
    "            elif line != '\\n' and line != '-DOCSTART- -X- O O\\n':\n",
    "                res.append([doc_num] + line.split())\n",
    "        df = pd.DataFrame(res, columns=['doc_num', 'word', 'pos', 'chunking', 'tag'])\n",
    "\n",
    "    return df\n",
    "            "
   ]
  },
  {
   "cell_type": "code",
   "execution_count": 5,
   "metadata": {},
   "outputs": [],
   "source": [
    "# read data\n",
    "path = './DataNer.txt'\n",
    "df = read_data(path)"
   ]
  },
  {
   "cell_type": "code",
   "execution_count": 6,
   "metadata": {},
   "outputs": [
    {
     "data": {
      "text/html": [
       "<div>\n",
       "<style scoped>\n",
       "    .dataframe tbody tr th:only-of-type {\n",
       "        vertical-align: middle;\n",
       "    }\n",
       "\n",
       "    .dataframe tbody tr th {\n",
       "        vertical-align: top;\n",
       "    }\n",
       "\n",
       "    .dataframe thead th {\n",
       "        text-align: right;\n",
       "    }\n",
       "</style>\n",
       "<table border=\"1\" class=\"dataframe\">\n",
       "  <thead>\n",
       "    <tr style=\"text-align: right;\">\n",
       "      <th></th>\n",
       "      <th>doc_num</th>\n",
       "      <th>word</th>\n",
       "      <th>pos</th>\n",
       "      <th>chunking</th>\n",
       "      <th>tag</th>\n",
       "    </tr>\n",
       "  </thead>\n",
       "  <tbody>\n",
       "    <tr>\n",
       "      <th>0</th>\n",
       "      <td>1</td>\n",
       "      <td>He</td>\n",
       "      <td>PRP</td>\n",
       "      <td>I-NP</td>\n",
       "      <td>O</td>\n",
       "    </tr>\n",
       "    <tr>\n",
       "      <th>1</th>\n",
       "      <td>1</td>\n",
       "      <td>said</td>\n",
       "      <td>VBD</td>\n",
       "      <td>I-VP</td>\n",
       "      <td>O</td>\n",
       "    </tr>\n",
       "    <tr>\n",
       "      <th>2</th>\n",
       "      <td>1</td>\n",
       "      <td>further</td>\n",
       "      <td>JJ</td>\n",
       "      <td>I-NP</td>\n",
       "      <td>O</td>\n",
       "    </tr>\n",
       "    <tr>\n",
       "      <th>3</th>\n",
       "      <td>1</td>\n",
       "      <td>scientific</td>\n",
       "      <td>JJ</td>\n",
       "      <td>I-NP</td>\n",
       "      <td>O</td>\n",
       "    </tr>\n",
       "    <tr>\n",
       "      <th>4</th>\n",
       "      <td>1</td>\n",
       "      <td>study</td>\n",
       "      <td>NN</td>\n",
       "      <td>I-NP</td>\n",
       "      <td>O</td>\n",
       "    </tr>\n",
       "  </tbody>\n",
       "</table>\n",
       "</div>"
      ],
      "text/plain": [
       "   doc_num        word  pos chunking tag\n",
       "0        1          He  PRP     I-NP   O\n",
       "1        1        said  VBD     I-VP   O\n",
       "2        1     further   JJ     I-NP   O\n",
       "3        1  scientific   JJ     I-NP   O\n",
       "4        1       study   NN     I-NP   O"
      ]
     },
     "execution_count": 6,
     "metadata": {},
     "output_type": "execute_result"
    }
   ],
   "source": [
    "df.head()"
   ]
  },
  {
   "cell_type": "code",
   "execution_count": 7,
   "metadata": {},
   "outputs": [
    {
     "data": {
      "text/html": [
       "<div>\n",
       "<style scoped>\n",
       "    .dataframe tbody tr th:only-of-type {\n",
       "        vertical-align: middle;\n",
       "    }\n",
       "\n",
       "    .dataframe tbody tr th {\n",
       "        vertical-align: top;\n",
       "    }\n",
       "\n",
       "    .dataframe thead th {\n",
       "        text-align: right;\n",
       "    }\n",
       "</style>\n",
       "<table border=\"1\" class=\"dataframe\">\n",
       "  <thead>\n",
       "    <tr style=\"text-align: right;\">\n",
       "      <th></th>\n",
       "      <th>word</th>\n",
       "      <th>pos</th>\n",
       "      <th>chunking</th>\n",
       "      <th>tag</th>\n",
       "    </tr>\n",
       "  </thead>\n",
       "  <tbody>\n",
       "    <tr>\n",
       "      <th>count</th>\n",
       "      <td>207270</td>\n",
       "      <td>207270</td>\n",
       "      <td>207270</td>\n",
       "      <td>207270</td>\n",
       "    </tr>\n",
       "    <tr>\n",
       "      <th>unique</th>\n",
       "      <td>23825</td>\n",
       "      <td>45</td>\n",
       "      <td>17</td>\n",
       "      <td>8</td>\n",
       "    </tr>\n",
       "    <tr>\n",
       "      <th>top</th>\n",
       "      <td>.</td>\n",
       "      <td>NNP</td>\n",
       "      <td>I-NP</td>\n",
       "      <td>O</td>\n",
       "    </tr>\n",
       "    <tr>\n",
       "      <th>freq</th>\n",
       "      <td>7486</td>\n",
       "      <td>35159</td>\n",
       "      <td>122477</td>\n",
       "      <td>172494</td>\n",
       "    </tr>\n",
       "  </tbody>\n",
       "</table>\n",
       "</div>"
      ],
      "text/plain": [
       "          word     pos chunking     tag\n",
       "count   207270  207270   207270  207270\n",
       "unique   23825      45       17       8\n",
       "top          .     NNP     I-NP       O\n",
       "freq      7486   35159   122477  172494"
      ]
     },
     "execution_count": 7,
     "metadata": {},
     "output_type": "execute_result"
    }
   ],
   "source": [
    "df.iloc[:, 1:].describe()"
   ]
  },
  {
   "cell_type": "code",
   "execution_count": 8,
   "metadata": {},
   "outputs": [
    {
     "data": {
      "text/plain": [
       "960"
      ]
     },
     "execution_count": 8,
     "metadata": {},
     "output_type": "execute_result"
    }
   ],
   "source": [
    "df.doc_num.max()"
   ]
  },
  {
   "cell_type": "code",
   "execution_count": 9,
   "metadata": {},
   "outputs": [
    {
     "data": {
      "text/plain": [
       "(207270, 5)"
      ]
     },
     "execution_count": 9,
     "metadata": {},
     "output_type": "execute_result"
    }
   ],
   "source": [
    "df.shape"
   ]
  },
  {
   "cell_type": "markdown",
   "metadata": {},
   "source": [
    "Here we do a little bit data interpretations here. \n",
    "1. We can see that we have 8 unique values for label and 'O' has the most of the value.\n",
    "2. We have 46 different unique values of pos and 17 unique values of chunking_tag\n",
    "3. We have 207270 rows and 23825 unique word.\n",
    "4. We have 960 different docs."
   ]
  },
  {
   "cell_type": "markdown",
   "metadata": {},
   "source": [
    "### 2. Data handling\n",
    "1. one hot encoding\n",
    "2. prepare train and test data\n",
    "3. prepare class list without 'O' tag"
   ]
  },
  {
   "cell_type": "code",
   "execution_count": 10,
   "metadata": {},
   "outputs": [],
   "source": [
    "# one hot encoding\n",
    "df_dict = df[['word', 'pos', 'chunking']].to_dict(\"record\")\n",
    "from sklearn.feature_extraction import DictVectorizer\n",
    "vector = DictVectorizer(sparse=True)\n",
    "X = vector.fit_transform(df_dict)"
   ]
  },
  {
   "cell_type": "code",
   "execution_count": 11,
   "metadata": {},
   "outputs": [],
   "source": [
    "# train_test set\n",
    "from sklearn.model_selection import train_test_split\n",
    "X_train, X_test, y_train, y_test = train_test_split(X, df['tag'].values, test_size = 0.3, random_state=0)"
   ]
  },
  {
   "cell_type": "code",
   "execution_count": 12,
   "metadata": {},
   "outputs": [],
   "source": [
    "# class list without 'O'\n",
    "class_list = df.tag.unique().tolist()[1:]"
   ]
  },
  {
   "cell_type": "markdown",
   "metadata": {},
   "source": [
    "### explaination\n",
    "1. For most of the data, what we want is a sparse vector so that the training would be faster, so I use DictVectorizer to on onehot encoding.\n",
    "2. Then we do the train_test split in order to do training and inference.\n",
    "3. Also, we need to filter 'O' for classification report"
   ]
  },
  {
   "cell_type": "markdown",
   "metadata": {},
   "source": [
    "## 3. Model training"
   ]
  },
  {
   "cell_type": "code",
   "execution_count": 21,
   "metadata": {},
   "outputs": [],
   "source": [
    "from sklearn import linear_model\n",
    "from sklearn.naive_bayes import MultinomialNB\n",
    "from sklearn_crfsuite import CRF\n",
    "from sklearn_crfsuite.metrics import flat_f1_score\n",
    "from sklearn_crfsuite.metrics import flat_classification_report\n",
    "from sklearn.metrics import f1_score\n",
    "from sklearn.model_selection import GridSearchCV\n",
    "from sklearn.metrics import classification_report, f1_score"
   ]
  },
  {
   "cell_type": "markdown",
   "metadata": {},
   "source": [
    "### SGD Linear Classifier"
   ]
  },
  {
   "cell_type": "code",
   "execution_count": 13,
   "metadata": {},
   "outputs": [
    {
     "name": "stdout",
     "output_type": "stream",
     "text": [
      "f1 score:  0.9482309264147721\n",
      "best iter:  1000\n",
      "report: \n",
      "               precision    recall  f1-score   support\n",
      "\n",
      "       I-ORG       0.86      0.60      0.71      3078\n",
      "       I-PER       0.73      0.94      0.82      3498\n",
      "      I-MISC       0.88      0.57      0.69      1381\n",
      "       I-LOC       0.87      0.73      0.80      2497\n",
      "       B-LOC       1.00      0.60      0.75         5\n",
      "      B-MISC       0.00      0.00      0.00        12\n",
      "       B-ORG       0.25      1.00      0.40         7\n",
      "\n",
      "   micro avg       0.80      0.74      0.77     10478\n",
      "   macro avg       0.66      0.63      0.60     10478\n",
      "weighted avg       0.82      0.74      0.76     10478\n",
      "\n"
     ]
    }
   ],
   "source": [
    "alpha_list = [1000, 2000]\n",
    "best_score = 0\n",
    "best_iter = 0\n",
    "best_pred = []\n",
    "for i in alpha_list:\n",
    "    model = linear_model.SGDClassifier(max_iter=i)\n",
    "    model.fit(X_train, y_train)\n",
    "    y_pred = model.predict(X_test)\n",
    "    tmp_score = f1_score(y_test, y_pred, average='weighted')\n",
    "    if tmp_score > best_score:\n",
    "        best_score = tmp_score\n",
    "        best_pred = y_pred\n",
    "        best_iter = i\n",
    "        \n",
    "result = classification_report(y_pred=best_pred, y_true=y_test, labels=class_list)\n",
    "print('f1 score: ', best_score)\n",
    "print('best iter: ', best_iter)\n",
    "print('report: \\n', result)"
   ]
  },
  {
   "cell_type": "markdown",
   "metadata": {},
   "source": [
    "### Explaination\n",
    "1. We apply SGD classifier with (1000, 2000) max iteration.\n",
    "2. We find that 1000 is the better than 2000\n",
    "3. f1 score is 0.94, which is good."
   ]
  },
  {
   "cell_type": "markdown",
   "metadata": {},
   "source": [
    "### Multinomial Naive Bayes Model Classifier"
   ]
  },
  {
   "cell_type": "code",
   "execution_count": 14,
   "metadata": {},
   "outputs": [
    {
     "name": "stdout",
     "output_type": "stream",
     "text": [
      "f1 score:  0.9537495610142331\n",
      "best alpha:  0.1\n",
      "report: \n",
      "               precision    recall  f1-score   support\n",
      "\n",
      "       I-ORG       0.86      0.70      0.77      3078\n",
      "       I-PER       0.73      0.96      0.83      3498\n",
      "      I-MISC       0.65      0.78      0.71      1381\n",
      "       I-LOC       0.86      0.81      0.83      2497\n",
      "       B-LOC       0.00      0.00      0.00         5\n",
      "      B-MISC       0.00      0.00      0.00        12\n",
      "       B-ORG       0.00      0.00      0.00         7\n",
      "\n",
      "   micro avg       0.78      0.82      0.80     10478\n",
      "   macro avg       0.44      0.46      0.45     10478\n",
      "weighted avg       0.79      0.82      0.80     10478\n",
      "\n"
     ]
    }
   ],
   "source": [
    "alpha_list = [0.1, 1, 10]\n",
    "best_score = 0\n",
    "best_alpha = 0\n",
    "best_pred = []\n",
    "for i in alpha_list:\n",
    "    model = MultinomialNB(alpha=i)\n",
    "    model.fit(X_train, y_train)\n",
    "    y_pred = model.predict(X_test)\n",
    "    tmp_score = f1_score(y_test, y_pred, average='weighted')\n",
    "    if tmp_score > best_score:\n",
    "        best_score = tmp_score\n",
    "        best_pred = y_pred\n",
    "        best_alpha = i\n",
    "        \n",
    "result = classification_report(y_pred=best_pred, y_true=y_test, labels=class_list)\n",
    "print('f1 score: ', best_score)\n",
    "print('best alpha: ', best_alpha)\n",
    "print('report: \\n', result)"
   ]
  },
  {
   "cell_type": "markdown",
   "metadata": {},
   "source": [
    "### Explaination\n",
    "1. We apply MultinomialNB classifier with (0.1, 1, 10) alpha.\n",
    "2. We find that 0.1 is the better than others\n",
    "3. f1 score is 0.953, which is good."
   ]
  },
  {
   "cell_type": "markdown",
   "metadata": {},
   "source": [
    "### Perceptron Classifier"
   ]
  },
  {
   "cell_type": "code",
   "execution_count": 15,
   "metadata": {},
   "outputs": [
    {
     "name": "stdout",
     "output_type": "stream",
     "text": [
      "f1 score:  0.9428234857389134\n",
      "best alpha:  1e-06\n",
      "report: \n",
      "               precision    recall  f1-score   support\n",
      "\n",
      "       I-ORG       0.96      0.47      0.63      3078\n",
      "       I-PER       0.99      0.65      0.78      3498\n",
      "      I-MISC       0.83      0.78      0.81      1381\n",
      "       I-LOC       0.50      0.95      0.65      2497\n",
      "       B-LOC       0.80      0.80      0.80         5\n",
      "      B-MISC       0.00      0.00      0.00        12\n",
      "       B-ORG       0.05      1.00      0.09         7\n",
      "\n",
      "   micro avg       0.72      0.69      0.70     10478\n",
      "   macro avg       0.59      0.66      0.54     10478\n",
      "weighted avg       0.84      0.69      0.71     10478\n",
      "\n"
     ]
    }
   ],
   "source": [
    "alpha_list = [1e-6, 1e-5, 1e-4]\n",
    "best_score = 0\n",
    "best_alpha = 0\n",
    "best_pred = []\n",
    "for i in alpha_list:\n",
    "    model = linear_model.Perceptron(alpha=i)\n",
    "    model.fit(X_train, y_train)\n",
    "    y_pred = model.predict(X_test)\n",
    "    tmp_score = f1_score(y_test, y_pred, average='weighted')\n",
    "    if tmp_score > best_score:\n",
    "        best_score = tmp_score\n",
    "        best_pred = y_pred\n",
    "        best_alpha = i\n",
    "        \n",
    "result = classification_report(y_pred=best_pred, y_true=y_test, labels=class_list)\n",
    "print('f1 score: ', best_score)\n",
    "print('best alpha: ', best_alpha)\n",
    "print('report: \\n', result)"
   ]
  },
  {
   "cell_type": "markdown",
   "metadata": {},
   "source": [
    "### Explaination\n",
    "1. We apply MultinomialNB classifier with (1e-6, 1e-5, 1e-4) alpha.\n",
    "2. We find that 1e-6 is the better than others\n",
    "3. f1 score is 0.94, which is good."
   ]
  },
  {
   "cell_type": "markdown",
   "metadata": {},
   "source": [
    "### Conditional Random Fields"
   ]
  },
  {
   "cell_type": "code",
   "execution_count": 16,
   "metadata": {},
   "outputs": [],
   "source": [
    "def word2features(sent, i):\n",
    "    word = sent[i][0]\n",
    "    postag = sent[i][1]\n",
    "\n",
    "    features = {\n",
    "        'bias': 1.0,\n",
    "        'word.lower()': word.lower(),\n",
    "        'word[-3:]': word[-3:],\n",
    "        'word[-2:]': word[-2:],\n",
    "        'word.isupper()': word.isupper(),\n",
    "        'word.istitle()': word.istitle(),\n",
    "        'word.isdigit()': word.isdigit(),\n",
    "        'postag': postag,\n",
    "        'postag[:2]': postag[:2],\n",
    "    }\n",
    "    if i > 0:\n",
    "        word1 = sent[i-1][0]\n",
    "        postag1 = sent[i-1][1]\n",
    "        features.update({\n",
    "            '-1:word.lower()': word1.lower(),\n",
    "            '-1:word.istitle()': word1.istitle(),\n",
    "            '-1:word.isupper()': word1.isupper(),\n",
    "            '-1:postag': postag1,\n",
    "            '-1:postag[:2]': postag1[:2],\n",
    "        })\n",
    "    else:\n",
    "        features['BOS'] = True\n",
    "\n",
    "    if i < len(sent)-1:\n",
    "        word1 = sent[i+1][0]\n",
    "        postag1 = sent[i+1][1]\n",
    "        features.update({\n",
    "            '+1:word.lower()': word1.lower(),\n",
    "            '+1:word.istitle()': word1.istitle(),\n",
    "            '+1:word.isupper()': word1.isupper(),\n",
    "            '+1:postag': postag1,\n",
    "            '+1:postag[:2]': postag1[:2],\n",
    "        })\n",
    "    else:\n",
    "        features['EOS'] = True\n",
    "\n",
    "    return features\n",
    "\n",
    "\n",
    "def sent2features(sent):\n",
    "    return [word2features(sent, i) for i in range(len(sent))]\n",
    "\n",
    "def sent2labels(sent):\n",
    "    return [label for token, postag, label in sent]\n",
    "\n",
    "def sent2tokens(sent):\n",
    "    return [token for token, postag, label in sent]"
   ]
  },
  {
   "cell_type": "code",
   "execution_count": 30,
   "metadata": {},
   "outputs": [
    {
     "data": {
      "text/html": [
       "<div>\n",
       "<style scoped>\n",
       "    .dataframe tbody tr th:only-of-type {\n",
       "        vertical-align: middle;\n",
       "    }\n",
       "\n",
       "    .dataframe tbody tr th {\n",
       "        vertical-align: top;\n",
       "    }\n",
       "\n",
       "    .dataframe thead th {\n",
       "        text-align: right;\n",
       "    }\n",
       "</style>\n",
       "<table border=\"1\" class=\"dataframe\">\n",
       "  <thead>\n",
       "    <tr style=\"text-align: right;\">\n",
       "      <th></th>\n",
       "      <th>doc_num</th>\n",
       "      <th>word</th>\n",
       "      <th>pos</th>\n",
       "      <th>chunking</th>\n",
       "      <th>tag</th>\n",
       "    </tr>\n",
       "  </thead>\n",
       "  <tbody>\n",
       "    <tr>\n",
       "      <th>0</th>\n",
       "      <td>1</td>\n",
       "      <td>He</td>\n",
       "      <td>PRP</td>\n",
       "      <td>I-NP</td>\n",
       "      <td>O</td>\n",
       "    </tr>\n",
       "    <tr>\n",
       "      <th>1</th>\n",
       "      <td>1</td>\n",
       "      <td>said</td>\n",
       "      <td>VBD</td>\n",
       "      <td>I-VP</td>\n",
       "      <td>O</td>\n",
       "    </tr>\n",
       "    <tr>\n",
       "      <th>2</th>\n",
       "      <td>1</td>\n",
       "      <td>further</td>\n",
       "      <td>JJ</td>\n",
       "      <td>I-NP</td>\n",
       "      <td>O</td>\n",
       "    </tr>\n",
       "    <tr>\n",
       "      <th>3</th>\n",
       "      <td>1</td>\n",
       "      <td>scientific</td>\n",
       "      <td>JJ</td>\n",
       "      <td>I-NP</td>\n",
       "      <td>O</td>\n",
       "    </tr>\n",
       "    <tr>\n",
       "      <th>4</th>\n",
       "      <td>1</td>\n",
       "      <td>study</td>\n",
       "      <td>NN</td>\n",
       "      <td>I-NP</td>\n",
       "      <td>O</td>\n",
       "    </tr>\n",
       "  </tbody>\n",
       "</table>\n",
       "</div>"
      ],
      "text/plain": [
       "   doc_num        word  pos chunking tag\n",
       "0        1          He  PRP     I-NP   O\n",
       "1        1        said  VBD     I-VP   O\n",
       "2        1     further   JJ     I-NP   O\n",
       "3        1  scientific   JJ     I-NP   O\n",
       "4        1       study   NN     I-NP   O"
      ]
     },
     "execution_count": 30,
     "metadata": {},
     "output_type": "execute_result"
    }
   ],
   "source": [
    "df.head()"
   ]
  },
  {
   "cell_type": "code",
   "execution_count": 31,
   "metadata": {},
   "outputs": [],
   "source": [
    "group_doc = df.groupby('doc_num').apply(lambda s: [(a, b, c) for a, b, c in zip(s.word.values.tolist(), \n",
    "                                                   s.pos.values.tolist(), \n",
    "                                                   s.tag.values.tolist())])\n",
    "docs = [s for s in group_doc]\n",
    "\n",
    "X = [sent2features(s) for s in docs]\n",
    "y = [sent2labels(s) for s in docs]\n",
    "\n",
    "X_train, X_test, y_train, y_test = train_test_split(X, y, test_size=0.3, random_state=0)"
   ]
  },
  {
   "cell_type": "code",
   "execution_count": 22,
   "metadata": {},
   "outputs": [
    {
     "name": "stdout",
     "output_type": "stream",
     "text": [
      "f1 score:  0.9677881176213229\n",
      "best algorithm:  lbfgs\n",
      "report: \n",
      "               precision    recall  f1-score   support\n",
      "\n",
      "       I-ORG       0.84      0.77      0.81      3079\n",
      "       I-PER       0.87      0.92      0.89      3302\n",
      "      I-MISC       0.88      0.76      0.82      1366\n",
      "       I-LOC       0.86      0.87      0.87      2516\n",
      "       B-LOC       0.00      0.00      0.00        10\n",
      "      B-MISC       1.00      0.20      0.33        10\n",
      "       B-ORG       0.00      0.00      0.00         0\n",
      "\n",
      "   micro avg       0.86      0.84      0.85     10283\n",
      "   macro avg       0.64      0.50      0.53     10283\n",
      "weighted avg       0.86      0.84      0.85     10283\n",
      "\n"
     ]
    }
   ],
   "source": [
    "alpha_list = ['lbfgs', 'l2sgd']\n",
    "best_score = 0\n",
    "best_alpha = ''\n",
    "best_pred = []\n",
    "for i in alpha_list:\n",
    "    model = CRF(algorithm=i)\n",
    "    model.fit(X_train, y_train)\n",
    "    y_pred = model.predict(X_test)\n",
    "    tmp_score = flat_f1_score(y_test, y_pred, average='weighted')\n",
    "    if tmp_score > best_score:\n",
    "        best_score = tmp_score\n",
    "        best_pred = y_pred\n",
    "        best_alpha = i\n",
    "        \n",
    "result = flat_classification_report(y_pred=best_pred, y_true=y_test, labels=class_list)\n",
    "print('f1 score: ', best_score)\n",
    "print('best algorithm: ', best_alpha)\n",
    "print('report: \\n', result)"
   ]
  },
  {
   "cell_type": "markdown",
   "metadata": {},
   "source": [
    "1. Here we regard documents as a seperator.\n",
    "2. We group by the docs and then generate training and test data set. (With use of word2features and so on)\n",
    "3. Then we apply CRF model to train in inference the model.\n",
    "4. f1 score is 0.967, which is good."
   ]
  },
  {
   "cell_type": "markdown",
   "metadata": {},
   "source": [
    "### LSTM-CRF"
   ]
  },
  {
   "cell_type": "code",
   "execution_count": 13,
   "metadata": {},
   "outputs": [
    {
     "data": {
      "text/plain": [
       "23826"
      ]
     },
     "execution_count": 13,
     "metadata": {},
     "output_type": "execute_result"
    }
   ],
   "source": [
    "words = list(set(df[\"word\"].values))\n",
    "words.append(\"ENDPAD\")\n",
    "n_words = len(words); n_words"
   ]
  },
  {
   "cell_type": "code",
   "execution_count": 51,
   "metadata": {},
   "outputs": [
    {
     "data": {
      "text/plain": [
       "8"
      ]
     },
     "execution_count": 51,
     "metadata": {},
     "output_type": "execute_result"
    }
   ],
   "source": [
    "tags = list(set(df[\"tag\"].values))\n",
    "n_tags = len(tags); n_tags"
   ]
  },
  {
   "cell_type": "code",
   "execution_count": 15,
   "metadata": {},
   "outputs": [],
   "source": [
    "word2idx = {w: i + 1 for i, w in enumerate(words)}\n",
    "tag2idx = {t: i for i, t in enumerate(tags)}"
   ]
  },
  {
   "cell_type": "code",
   "execution_count": 16,
   "metadata": {},
   "outputs": [],
   "source": [
    "# get sentence \n",
    "class SentenceGetter(object):\n",
    "    \n",
    "    def __init__(self, data):\n",
    "        self.n_sent = 1\n",
    "        self.data = data\n",
    "        self.empty = False\n",
    "        agg_func = lambda s: [(w, p, t) for w, p, t in zip(s[\"word\"].values.tolist(),\n",
    "                                                           s[\"pos\"].values.tolist(),\n",
    "                                                           s[\"tag\"].values.tolist())]\n",
    "        self.grouped = self.data.groupby(\"doc_num\").apply(agg_func)\n",
    "        self.sentences = [s for s in self.grouped]\n",
    "    \n",
    "    def get_next(self):\n",
    "        try:\n",
    "            s = self.grouped[\"Sentence: {}\".format(self.n_sent)]\n",
    "            self.n_sent += 1\n",
    "            return s\n",
    "        except:\n",
    "            return None\n",
    "getter = SentenceGetter(df)\n",
    "sent = getter.get_next()\n",
    "sentences = getter.sentences"
   ]
  },
  {
   "cell_type": "code",
   "execution_count": 20,
   "metadata": {},
   "outputs": [],
   "source": [
    "max_len = max([len(s) for s in sentences])\n",
    "\n",
    "from keras.preprocessing.sequence import pad_sequences\n",
    "X = [[word2idx[w[0]] for w in s] for s in sentences]\n",
    "X = pad_sequences(maxlen=max_len, sequences=X, padding=\"post\", value=n_words-1)\n",
    "\n",
    "y = [[tag2idx[w[2]] for w in s] for s in sentences]\n",
    "y = pad_sequences(maxlen=max_len, sequences=y, padding=\"post\", value=tag2idx[\"O\"])"
   ]
  },
  {
   "cell_type": "code",
   "execution_count": 21,
   "metadata": {},
   "outputs": [],
   "source": [
    "from keras.utils import to_categorical\n",
    "y = [to_categorical(i, num_classes=n_tags) for i in y]\n",
    "X_tr, X_te, y_tr, y_te = train_test_split(X, y, test_size=0.3, random_state=0)"
   ]
  },
  {
   "cell_type": "code",
   "execution_count": 22,
   "metadata": {},
   "outputs": [
    {
     "name": "stdout",
     "output_type": "stream",
     "text": [
      "2.2.4\n"
     ]
    }
   ],
   "source": [
    "import keras\n",
    "print(keras.__version__)"
   ]
  },
  {
   "cell_type": "code",
   "execution_count": 24,
   "metadata": {},
   "outputs": [],
   "source": [
    "from keras.models import Model, Input\n",
    "from keras.layers import LSTM, Embedding, Dense, TimeDistributed, Dropout, Bidirectional\n",
    "from keras_contrib.layers import CRF"
   ]
  },
  {
   "cell_type": "code",
   "execution_count": 25,
   "metadata": {},
   "outputs": [
    {
     "name": "stdout",
     "output_type": "stream",
     "text": [
      "WARNING:tensorflow:From /Users/chenyipeng/anaconda3/lib/python3.7/site-packages/keras/backend/tensorflow_backend.py:74: The name tf.get_default_graph is deprecated. Please use tf.compat.v1.get_default_graph instead.\n",
      "\n",
      "WARNING:tensorflow:From /Users/chenyipeng/anaconda3/lib/python3.7/site-packages/keras/backend/tensorflow_backend.py:517: The name tf.placeholder is deprecated. Please use tf.compat.v1.placeholder instead.\n",
      "\n",
      "WARNING:tensorflow:From /Users/chenyipeng/anaconda3/lib/python3.7/site-packages/keras/backend/tensorflow_backend.py:4138: The name tf.random_uniform is deprecated. Please use tf.random.uniform instead.\n",
      "\n",
      "WARNING:tensorflow:From /Users/chenyipeng/anaconda3/lib/python3.7/site-packages/keras/backend/tensorflow_backend.py:133: The name tf.placeholder_with_default is deprecated. Please use tf.compat.v1.placeholder_with_default instead.\n",
      "\n",
      "WARNING:tensorflow:From /Users/chenyipeng/anaconda3/lib/python3.7/site-packages/keras/backend/tensorflow_backend.py:3445: calling dropout (from tensorflow.python.ops.nn_ops) with keep_prob is deprecated and will be removed in a future version.\n",
      "Instructions for updating:\n",
      "Please use `rate` instead of `keep_prob`. Rate should be set to `rate = 1 - keep_prob`.\n",
      "WARNING:tensorflow:From /Users/chenyipeng/anaconda3/lib/python3.7/site-packages/keras/backend/tensorflow_backend.py:2974: add_dispatch_support.<locals>.wrapper (from tensorflow.python.ops.array_ops) is deprecated and will be removed in a future version.\n",
      "Instructions for updating:\n",
      "Use tf.where in 2.0, which has the same broadcast rule as np.where\n"
     ]
    }
   ],
   "source": [
    "input = Input(shape=(max_len,))\n",
    "model = Embedding(input_dim=n_words + 1, output_dim=20,\n",
    "                  input_length=max_len, mask_zero=True)(input)  # 20-dim embedding\n",
    "model = Bidirectional(LSTM(units=50, return_sequences=True,\n",
    "                           recurrent_dropout=0.1))(model)  # variational biLSTM\n",
    "model = TimeDistributed(Dense(50, activation=\"relu\"))(model)  # a dense layer as suggested by neuralNer\n",
    "crf = CRF(n_tags)  # CRF layer\n",
    "out = crf(model)  # output"
   ]
  },
  {
   "cell_type": "code",
   "execution_count": 26,
   "metadata": {},
   "outputs": [],
   "source": [
    "model = Model(input, out)"
   ]
  },
  {
   "cell_type": "code",
   "execution_count": 27,
   "metadata": {},
   "outputs": [
    {
     "name": "stdout",
     "output_type": "stream",
     "text": [
      "WARNING:tensorflow:From /Users/chenyipeng/anaconda3/lib/python3.7/site-packages/keras/optimizers.py:790: The name tf.train.Optimizer is deprecated. Please use tf.compat.v1.train.Optimizer instead.\n",
      "\n"
     ]
    }
   ],
   "source": [
    "model.compile(optimizer=\"rmsprop\", loss=crf.loss_function, metrics=[crf.accuracy])"
   ]
  },
  {
   "cell_type": "code",
   "execution_count": 28,
   "metadata": {},
   "outputs": [
    {
     "name": "stdout",
     "output_type": "stream",
     "text": [
      "_________________________________________________________________\n",
      "Layer (type)                 Output Shape              Param #   \n",
      "=================================================================\n",
      "input_1 (InputLayer)         (None, 1335)              0         \n",
      "_________________________________________________________________\n",
      "embedding_1 (Embedding)      (None, 1335, 20)          476540    \n",
      "_________________________________________________________________\n",
      "bidirectional_1 (Bidirection (None, 1335, 100)         28400     \n",
      "_________________________________________________________________\n",
      "time_distributed_1 (TimeDist (None, 1335, 50)          5050      \n",
      "_________________________________________________________________\n",
      "crf_1 (CRF)                  (None, 1335, 8)           488       \n",
      "=================================================================\n",
      "Total params: 510,478\n",
      "Trainable params: 510,478\n",
      "Non-trainable params: 0\n",
      "_________________________________________________________________\n"
     ]
    }
   ],
   "source": [
    "model.summary()"
   ]
  },
  {
   "cell_type": "code",
   "execution_count": 31,
   "metadata": {},
   "outputs": [
    {
     "name": "stdout",
     "output_type": "stream",
     "text": [
      "WARNING:tensorflow:From /Users/chenyipeng/anaconda3/lib/python3.7/site-packages/keras/backend/tensorflow_backend.py:986: The name tf.assign_add is deprecated. Please use tf.compat.v1.assign_add instead.\n",
      "\n",
      "Train on 604 samples, validate on 68 samples\n",
      "Epoch 1/5\n",
      "604/604 [==============================] - 36s 59ms/step - loss: 0.9533 - crf_viterbi_accuracy: 0.6655 - val_loss: 0.1435 - val_crf_viterbi_accuracy: 0.9753\n",
      "Epoch 2/5\n",
      "604/604 [==============================] - 34s 56ms/step - loss: 0.1496 - crf_viterbi_accuracy: 0.9722 - val_loss: 0.1258 - val_crf_viterbi_accuracy: 0.9753\n",
      "Epoch 3/5\n",
      "604/604 [==============================] - 35s 59ms/step - loss: 0.1357 - crf_viterbi_accuracy: 0.9721 - val_loss: 0.1054 - val_crf_viterbi_accuracy: 0.9753\n",
      "Epoch 4/5\n",
      "604/604 [==============================] - 33s 55ms/step - loss: 0.1146 - crf_viterbi_accuracy: 0.9724 - val_loss: 0.1002 - val_crf_viterbi_accuracy: 0.9753\n",
      "Epoch 5/5\n",
      "604/604 [==============================] - 34s 56ms/step - loss: 0.1064 - crf_viterbi_accuracy: 0.9724 - val_loss: 0.0990 - val_crf_viterbi_accuracy: 0.9753\n"
     ]
    }
   ],
   "source": [
    "history = model.fit(X_tr, np.array(y_tr), batch_size=32, epochs=5,\n",
    "                    validation_split=0.1, verbose=1)"
   ]
  },
  {
   "cell_type": "code",
   "execution_count": 47,
   "metadata": {},
   "outputs": [
    {
     "data": {
      "image/png": "[encoded data removed]",
      "text/plain": [
       "<Figure size 432x288 with 1 Axes>"
      ]
     },
     "metadata": {
      "needs_background": "light"
     },
     "output_type": "display_data"
    }
   ],
   "source": [
    "hist = pd.DataFrame(history.history)\n",
    "import matplotlib.pyplot as plt\n",
    "%matplotlib inline\n",
    "\n",
    "ax = plt.gca()\n",
    "ax.invert_xaxis()\n",
    "plt.style.use(\"ggplot\")\n",
    "plt.xlabel('loss')\n",
    "plt.ylabel('acc')\n",
    "plt.plot(hist[\"loss\"],hist[\"crf_viterbi_accuracy\"],)\n",
    "plt.show()"
   ]
  },
  {
   "cell_type": "code",
   "execution_count": 65,
   "metadata": {},
   "outputs": [
    {
     "data": {
      "text/plain": [
       "{0: 'I-LOC',\n",
       " 1: 'I-ORG',\n",
       " 2: 'B-LOC',\n",
       " 3: 'B-MISC',\n",
       " 4: 'I-MISC',\n",
       " 5: 'B-ORG',\n",
       " 6: 'I-PER',\n",
       " 7: 'O'}"
      ]
     },
     "execution_count": 65,
     "metadata": {},
     "output_type": "execute_result"
    }
   ],
   "source": [
    "idx2tag"
   ]
  },
  {
   "cell_type": "code",
   "execution_count": 75,
   "metadata": {},
   "outputs": [
    {
     "name": "stdout",
     "output_type": "stream",
     "text": [
      "288/288 [==============================] - 3s 12ms/step\n",
      "F1-score: 96.0%\n",
      "              precision    recall  f1-score   support\n",
      "\n",
      "       B-LOC       0.00      0.00      0.00        10\n",
      "      B-MISC       0.00      0.00      0.00        10\n",
      "       I-LOC       0.00      0.00      0.00      2516\n",
      "      I-MISC       0.00      0.00      0.00      1366\n",
      "       I-ORG       0.00      0.00      0.00      3079\n",
      "       I-PER       0.00      0.00      0.00      3302\n",
      "           O       0.97      1.00      0.99    374197\n",
      "\n",
      "    accuracy                           0.97    384480\n",
      "   macro avg       0.14      0.14      0.14    384480\n",
      "weighted avg       0.95      0.97      0.96    384480\n",
      "\n"
     ]
    }
   ],
   "source": [
    "# Evaluation\n",
    "from sklearn.metrics import classification_report, f1_score\n",
    "\n",
    "test_pred = model.predict(X_te, verbose=1)\n",
    "idx2tag = {i: w for w, i in tag2idx.items()}\n",
    "\n",
    "def pred2label(pred):\n",
    "    out = []\n",
    "    for pred_i in pred:\n",
    "        out_i = []\n",
    "        for p in pred_i:\n",
    "            p_i = np.argmax(p)\n",
    "            out_i.append(idx2tag[p_i].replace(\"PAD\", \"O\"))\n",
    "        out.append(out_i)\n",
    "    return out\n",
    "    \n",
    "pred_labels = pred2label(test_pred)\n",
    "test_labels = pred2label(y_te)\n",
    "pred_labels = sum(pred_labels, [])\n",
    "test_labels = sum(test_labels, [])\n",
    "\n",
    "print(\"F1-score: {:.1%}\".format(f1_score(test_labels, pred_labels,average='weighted')))\n",
    "print(classification_report(test_labels, pred_labels))"
   ]
  },
  {
   "cell_type": "markdown",
   "metadata": {},
   "source": [
    "1. Here we regard documents as a seperator.\n",
    "2. We group by the docs and then generate training and test data set. (With use of SentenceGetter and so on). Here my doc means sentence instead.\n",
    "3. Then we use keras to apply Bidirectional LSTM-CRF model to train in inference the model.\n",
    "4. f1 score is 0.96, which is good. But notice that for classification report, only 'O' has big acc and recall, which is bad. There may be some overfitting problem."
   ]
  },
  {
   "cell_type": "code",
   "execution_count": null,
   "metadata": {},
   "outputs": [],
   "source": []
  }
 ],
 "metadata": {
  "kernelspec": {
   "display_name": "Python 3",
   "language": "python",
   "name": "python3"
  },
  "language_info": {
   "codemirror_mode": {
    "name": "ipython",
    "version": 3
   },
   "file_extension": ".py",
   "mimetype": "text/x-python",
   "name": "python",
   "nbconvert_exporter": "python",
   "pygments_lexer": "ipython3",
   "version": "3.7.3"
  }
 },
 "nbformat": 4,
 "nbformat_minor": 4
}
